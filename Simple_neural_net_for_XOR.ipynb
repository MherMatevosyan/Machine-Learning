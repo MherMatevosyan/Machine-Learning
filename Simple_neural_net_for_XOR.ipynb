{
 "cells": [
  {
   "cell_type": "markdown",
   "metadata": {},
   "source": [
    "# Simple neural network for XOR problem"
   ]
  },
  {
   "cell_type": "code",
   "execution_count": 1,
   "metadata": {},
   "outputs": [],
   "source": [
    "import numpy as np\n",
    "from tqdm import tqdm"
   ]
  },
  {
   "cell_type": "code",
   "execution_count": 2,
   "metadata": {
    "collapsed": true
   },
   "outputs": [],
   "source": [
    "# initialize\n",
    "input_n = 2\n",
    "output_n = 1\n",
    "number_hidden = 1\n",
    "h1_n = 2\n",
    "h1_w = np.random.random((input_n+1,h1_n)) # from input to hidden layer weights\n",
    "out_w = np.random.random((h1_n+1,output_n)) # from hidden layer to output weights\n",
    "learning_rate = 0.75"
   ]
  },
  {
   "cell_type": "code",
   "execution_count": 3,
   "metadata": {
    "collapsed": true
   },
   "outputs": [],
   "source": [
    "# sigmoid acivation function\n",
    "def activation(x): \n",
    "    return 1/(1+np.exp(-x))"
   ]
  },
  {
   "cell_type": "code",
   "execution_count": 4,
   "metadata": {
    "collapsed": true
   },
   "outputs": [],
   "source": [
    "# forward propogation\n",
    "def forwarder(x):\n",
    "    x = np.append(x,1) # add bias\n",
    "    h1 = np.dot(x,h1_w) \n",
    "    h1_active = activation(h1)\n",
    "    h1_active = np.append(h1_active,1) # add bias\n",
    "    out = np.dot(h1_active,out_w)\n",
    "    out_active = activation(out)\n",
    "    return list([h1_active,out_active])"
   ]
  },
  {
   "cell_type": "code",
   "execution_count": 5,
   "metadata": {
    "collapsed": true
   },
   "outputs": [],
   "source": [
    "# backward propogation\n",
    "def backwarder(x,y):\n",
    "    fwd = forwarder(x)   \n",
    "    error = y-fwd[1]\n",
    "    delta_out = error*fwd[1]*(1-fwd[1])\n",
    "    out_dw = learning_rate*delta_out*fwd[0]\n",
    "    \n",
    "    h1_ub = fwd[0]\n",
    "    delta_h1 = h1_ub*(1-h1_ub)*np.dot(out_w,delta_out)\n",
    "    h1_dw = learning_rate*h1_w*delta_h1[:-1]*np.append(x,1)[:, np.newaxis]\n",
    "    return list([out_dw,h1_dw])"
   ]
  },
  {
   "cell_type": "code",
   "execution_count": 6,
   "metadata": {
    "collapsed": true
   },
   "outputs": [],
   "source": [
    "def epoch(x,y):\n",
    "    out_all_dw  = 0\n",
    "    h1_all_dw = 0\n",
    "    for indep,dep in zip(x,y):\n",
    "        back = backwarder(indep,dep)\n",
    "        out_all_dw += back[0][:, np.newaxis]\n",
    "        h1_all_dw += back[1]\n",
    "    return list([out_all_dw,h1_all_dw])"
   ]
  },
  {
   "cell_type": "code",
   "execution_count": 7,
   "metadata": {
    "collapsed": true
   },
   "outputs": [],
   "source": [
    "def result(x):\n",
    "    res = []\n",
    "    for example in x:\n",
    "        res.append(forwarder(example)[1])\n",
    "    return res"
   ]
  },
  {
   "cell_type": "code",
   "execution_count": 8,
   "metadata": {
    "collapsed": true
   },
   "outputs": [],
   "source": [
    "# XOR data points\n",
    "x_train = np.array([[1,1],\n",
    "                    [0,0],\n",
    "                    [0,1],\n",
    "                    [1,0]])\n",
    "y_train = np.array([[1],\n",
    "                    [1],\n",
    "                    [0],\n",
    "                    [0]])"
   ]
  },
  {
   "cell_type": "code",
   "execution_count": 9,
   "metadata": {},
   "outputs": [
    {
     "name": "stdout",
     "output_type": "stream",
     "text": [
      "Pre training\n",
      "[1 1]   Predict: [ 0.73778455]   Target: [1]   Error: [ 0.26221545]\n",
      "[0 0]   Predict: [ 0.69552934]   Target: [1]   Error: [ 0.30447066]\n",
      "[0 1]   Predict: [ 0.72392033]   Target: [0]   Error: [-0.72392033]\n",
      "[1 0]   Predict: [ 0.71691368]   Target: [0]   Error: [-0.71691368]\n",
      "Loss:  [ 1.19948519]\n"
     ]
    },
    {
     "name": "stderr",
     "output_type": "stream",
     "text": [
      " 19%|██████████████▎                                                            | 9566/50000 [00:01<00:07, 5542.78it/s]"
     ]
    },
    {
     "name": "stdout",
     "output_type": "stream",
     "text": [
      "Loss:  [ 0.02980608]  for 10000-th epoch\n"
     ]
    },
    {
     "name": "stderr",
     "output_type": "stream",
     "text": [
      " 40%|█████████████████████████████▍                                            | 19894/50000 [00:03<00:05, 5825.46it/s]"
     ]
    },
    {
     "name": "stdout",
     "output_type": "stream",
     "text": [
      "Loss:  [ 0.01260752]  for 20000-th epoch\n"
     ]
    },
    {
     "name": "stderr",
     "output_type": "stream",
     "text": [
      " 59%|███████████████████████████████████████████▊                              | 29587/50000 [00:05<00:03, 5842.52it/s]"
     ]
    },
    {
     "name": "stdout",
     "output_type": "stream",
     "text": [
      "Loss:  [ 0.00786363]  for 30000-th epoch\n"
     ]
    },
    {
     "name": "stderr",
     "output_type": "stream",
     "text": [
      " 79%|██████████████████████████████████████████████████████████▎               | 39389/50000 [00:06<00:01, 5866.36it/s]"
     ]
    },
    {
     "name": "stdout",
     "output_type": "stream",
     "text": [
      "Loss:  [ 0.00568122]  for 40000-th epoch\n"
     ]
    },
    {
     "name": "stderr",
     "output_type": "stream",
     "text": [
      "100%|██████████████████████████████████████████████████████████████████████████| 50000/50000 [00:08<00:00, 5769.67it/s]\n"
     ]
    },
    {
     "name": "stdout",
     "output_type": "stream",
     "text": [
      "Post training\n",
      "[1 1]   Predict: [ 0.9558878]   Target: [1]   Error: [ 0.0441122]\n",
      "[0 0]   Predict: [ 0.98349198]   Target: [1]   Error: [ 0.01650802]\n",
      "[0 1]   Predict: [ 0.03329023]   Target: [0]   Error: [-0.03329023]\n",
      "[1 0]   Predict: [ 0.03329023]   Target: [0]   Error: [-0.03329023]\n",
      "Loss:  [ 0.00443488]\n"
     ]
    }
   ],
   "source": [
    "# pre-training details\n",
    "loss = 0\n",
    "print 'Pre training'\n",
    "for i in range(len(x_train)):\n",
    "    loss +=(y_train[i]-forwarder(x_train[i])[1] )**2\n",
    "    print x_train[i],'  Predict:',result(x_train)[i],'  Target:',y_train[i],'  Error:',y_train[i]-forwarder(x_train[i])[1]\n",
    "print 'Loss: ', loss\n",
    "\n",
    "# train for 50,000 epochs\n",
    "for i in tqdm(range(50000)):\n",
    "    if i%10000==0 and i!=0:\n",
    "        loss = 0\n",
    "        for j in range(len(x_train)):\n",
    "            loss +=(y_train[j]-forwarder(x_train[j])[1] )**2\n",
    "        print 'Loss: ', loss,' for '+str(i)+'-th epoch'\n",
    "    e = epoch(x_train,y_train)\n",
    "    out_w += e[0]\n",
    "    h1_w += e[1]\n",
    "\n",
    "    \n",
    "# post_training details    \n",
    "loss = 0\n",
    "print 'Post training'\n",
    "for i in range(len(x_train)):\n",
    "    loss +=(y_train[i]-forwarder(x_train[i])[1] )**2\n",
    "    print x_train[i],'  Predict:',result(x_train)[i],'  Target:',y_train[i],'  Error:',y_train[i]-forwarder(x_train[i])[1]\n",
    "print 'Loss: ', loss"
   ]
  }
 ],
 "metadata": {
  "kernelspec": {
   "display_name": "Python 2",
   "language": "python",
   "name": "python2"
  },
  "language_info": {
   "codemirror_mode": {
    "name": "ipython",
    "version": 2
   },
   "file_extension": ".py",
   "mimetype": "text/x-python",
   "name": "python",
   "nbconvert_exporter": "python",
   "pygments_lexer": "ipython2",
   "version": "2.7.13"
  }
 },
 "nbformat": 4,
 "nbformat_minor": 2
}
