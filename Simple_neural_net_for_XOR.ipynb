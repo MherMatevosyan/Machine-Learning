{
 "cells": [
  {
   "cell_type": "markdown",
   "metadata": {},
   "source": [
    "# Simple neural network for XOR problem"
   ]
  },
  {
   "cell_type": "code",
   "execution_count": 1,
   "metadata": {
    "collapsed": true
   },
   "outputs": [],
   "source": [
    "import matplotlib.pyplot as plt\n",
    "plt.style.use('ggplot')\n",
    "import numpy as np\n",
    "from tqdm import tqdm"
   ]
  },
  {
   "cell_type": "markdown",
   "metadata": {},
   "source": [
    "The XOR problem is to find an approximation to the function which classifies points (1,1) , (0,0) as positive examples and (0,1) , (1,0) as negative examples. Below is the plot of classified points where blue indicates positive examples and red indicates negative examples."
   ]
  },
  {
   "cell_type": "code",
   "execution_count": 2,
   "metadata": {
    "collapsed": false
   },
   "outputs": [
    {
     "data": {
      "image/png": "[encoded data removed]",
      "text/plain": [
       "<matplotlib.figure.Figure at 0x204b32d3a58>"
      ]
     },
     "metadata": {},
     "output_type": "display_data"
    }
   ],
   "source": [
    "plt.plot([1,0],[1,0],'bo')\n",
    "plt.plot([1,0],[0,1],'ro')\n",
    "plt.xlabel('x1')\n",
    "plt.ylabel('x2')\n",
    "plt.title('XOR')\n",
    "plt.show()"
   ]
  },
  {
   "cell_type": "markdown",
   "metadata": {},
   "source": [
    "The problem is solved by constructing a neural network with 1 hidden layer using only numpy library. Tqdm library is used to print the progress of for loops."
   ]
  },
  {
   "cell_type": "code",
   "execution_count": 3,
   "metadata": {
    "collapsed": false
   },
   "outputs": [],
   "source": [
    "# initialize\n",
    "input_n = 2 # number of input neurons\n",
    "output_n = 1 # number of output neurons\n",
    "number_hidden = 1 # number of hidden layers\n",
    "h1_n = 2  # number of neurons in the first hidden layer\n",
    "h1_w = np.random.random((input_n+1,h1_n)) # generate random weights from input to first hidden layer \n",
    "out_w = np.random.random((h1_n+1,output_n)) # generate random weights from first hidden layer to output \n",
    "learning_rate = 0.75\n",
    "\n",
    "\n",
    "# With this construction network is limited to having only 1 hidden layer. However, it can have any number\n",
    "# of neurons in each layer. Later I am going to modify  it so it can have any number of hidden layers."
   ]
  },
  {
   "cell_type": "code",
   "execution_count": 4,
   "metadata": {
    "collapsed": true
   },
   "outputs": [],
   "source": [
    "# sigmoid acivation function\n",
    "def activation(x): \n",
    "    return 1/(1+np.exp(-x))"
   ]
  },
  {
   "cell_type": "code",
   "execution_count": 5,
   "metadata": {
    "collapsed": false
   },
   "outputs": [],
   "source": [
    "# forward propogation\n",
    "def forwarder(x):\n",
    "    x = np.append(x,1) # add bias\n",
    "    h1 = np.dot(x,h1_w) # propogate weights from input to first hidden layer\n",
    "    h1_active = activation(h1)\n",
    "    h1_active = np.append(h1_active,1) # add bias\n",
    "    out = np.dot(h1_active,out_w) # propogate weights from first hidden layer to output layer\n",
    "    out_active = activation(out)\n",
    "    return list([h1_active,out_active])\n",
    "\n",
    "\n",
    "# Forwarder takes input data and returns the activated outputs of hidden layer and output layer."
   ]
  },
  {
   "cell_type": "code",
   "execution_count": 6,
   "metadata": {
    "collapsed": false
   },
   "outputs": [],
   "source": [
    "# backward propogation\n",
    "def backwarder(x,y):\n",
    "    fwd = forwarder(x)   \n",
    "    error = y-fwd[1] # error from target value\n",
    "    delta_out = error*fwd[1]*(1-fwd[1]) # delta of output neuron\n",
    "    out_dw = learning_rate*delta_out*fwd[0] # Δw of output neuron\n",
    "    \n",
    "    h1_ub = fwd[0]\n",
    "    delta_h1 = h1_ub*(1-h1_ub)*np.dot(out_w,delta_out) # deltas of hidden layer neurons\n",
    "    h1_dw = learning_rate*delta_h1[:-1]*np.append(x,1)[:, np.newaxis]  # Δw-s of hidden layer neurons\n",
    "    return list([out_dw,h1_dw])\n",
    "\n",
    "\n",
    "# Backwarder takes input data and corresponding target data\n",
    "# passes it through forwarder and returns the Δw-s of \n",
    "# hidden layer neurons and output neuron."
   ]
  },
  {
   "cell_type": "code",
   "execution_count": 7,
   "metadata": {
    "collapsed": false
   },
   "outputs": [],
   "source": [
    "def epoch(x,y):\n",
    "    out_all_dw  = 0\n",
    "    h1_all_dw = 0\n",
    "    for indep,dep in zip(x,y):\n",
    "        back = backwarder(indep,dep)\n",
    "        out_all_dw += back[0][:, np.newaxis] # adds Δw-s to output neuron\n",
    "        h1_all_dw += back[1] # adds Δw-s to hidden layer neurons\n",
    "    return list([out_all_dw,h1_all_dw])\n",
    "\n",
    "\n",
    "# Epoch does the forwarding and backpropogation for all 4 points."
   ]
  },
  {
   "cell_type": "code",
   "execution_count": 8,
   "metadata": {
    "collapsed": false
   },
   "outputs": [],
   "source": [
    "def result(x):\n",
    "    res = []\n",
    "    for example in x:\n",
    "        res.append(forwarder(example)[1])\n",
    "    return res\n",
    "\n",
    "\n",
    "# Result returns predictions for all 4 points."
   ]
  },
  {
   "cell_type": "code",
   "execution_count": 9,
   "metadata": {
    "collapsed": true
   },
   "outputs": [],
   "source": [
    "# XOR data points\n",
    "x_train = np.array([[1,1],\n",
    "                    [0,0],\n",
    "                    [0,1],\n",
    "                    [1,0]])\n",
    "y_train = np.array([[1],\n",
    "                    [1],\n",
    "                    [0],\n",
    "                    [0]])"
   ]
  },
  {
   "cell_type": "markdown",
   "metadata": {},
   "source": [
    "The next cell is training and printing results of the network. Sometimes the network may get stuck in a local minima. If it happens you can observe that loss gets stuck at around 0.5. This happens due to random weights initializations. Run the notebook from initialization cell again to generate new weights and hopefully get past local minima :)."
   ]
  },
  {
   "cell_type": "code",
   "execution_count": 10,
   "metadata": {
    "collapsed": false
   },
   "outputs": [
    {
     "name": "stdout",
     "output_type": "stream",
     "text": [
      "Pre training:\n",
      "[1 1]   Predict: [ 0.76319392]   Target: [1]   Error: [ 0.23680608]\n",
      "[0 0]   Predict: [ 0.75311825]   Target: [1]   Error: [ 0.24688175]\n",
      "[0 1]   Predict: [ 0.75977969]   Target: [0]   Error: [-0.75977969]\n",
      "[1 0]   Predict: [ 0.7585858]   Target: [0]   Error: [-0.7585858]\n",
      "Loss:  [ 1.26974531]\n"
     ]
    },
    {
     "name": "stderr",
     "output_type": "stream",
     "text": [
      " 20%|██████████████████████████████████████                                                                                                                                                          | 9921/50000 [00:02<00:11, 3512.97it/s]"
     ]
    },
    {
     "name": "stdout",
     "output_type": "stream",
     "text": [
      "Loss:  [ 0.0007567]  for 10000-th epoch\n"
     ]
    },
    {
     "name": "stderr",
     "output_type": "stream",
     "text": [
      " 40%|████████████████████████████████████████████████████████████████████████████▏                                                                                                                  | 19937/50000 [00:05<00:08, 3535.39it/s]"
     ]
    },
    {
     "name": "stdout",
     "output_type": "stream",
     "text": [
      "Loss:  [ 0.00035258]  for 20000-th epoch\n"
     ]
    },
    {
     "name": "stderr",
     "output_type": "stream",
     "text": [
      " 60%|██████████████████████████████████████████████████████████████████████████████████████████████████████████████████▍                                                                            | 29960/50000 [00:08<00:05, 3543.99it/s]"
     ]
    },
    {
     "name": "stdout",
     "output_type": "stream",
     "text": [
      "Loss:  [ 0.00022863]  for 30000-th epoch\n"
     ]
    },
    {
     "name": "stderr",
     "output_type": "stream",
     "text": [
      " 80%|████████████████████████████████████████████████████████████████████████████████████████████████████████████████████████████████████████████████████████▋                                      | 39977/50000 [00:11<00:02, 3543.45it/s]"
     ]
    },
    {
     "name": "stdout",
     "output_type": "stream",
     "text": [
      "Loss:  [ 0.00016881]  for 40000-th epoch\n"
     ]
    },
    {
     "name": "stderr",
     "output_type": "stream",
     "text": [
      "100%|███████████████████████████████████████████████████████████████████████████████████████████████████████████████████████████████████████████████████████████████████████████████████████████████| 50000/50000 [00:14<00:00, 3543.68it/s]\n"
     ]
    },
    {
     "name": "stdout",
     "output_type": "stream",
     "text": [
      "Post training:\n",
      "[1 1]   Predict: [ 0.9943997]   Target: [1]   Error: [ 0.0056003]\n",
      "[0 0]   Predict: [ 0.99350789]   Target: [1]   Error: [ 0.00649211]\n",
      "[0 1]   Predict: [ 0.0054828]   Target: [0]   Error: [-0.0054828]\n",
      "[1 0]   Predict: [ 0.00548459]   Target: [0]   Error: [-0.00548459]\n",
      "Loss:  [ 0.00013365]\n"
     ]
    }
   ],
   "source": [
    "# pre-training details\n",
    "loss = 0\n",
    "print('Pre training:')\n",
    "for i in range(len(x_train)):\n",
    "    loss +=(y_train[i]-forwarder(x_train[i])[1] )**2\n",
    "    print( x_train[i],'  Predict:',result(x_train)[i],'  Target:',y_train[i],'  Error:',y_train[i]-forwarder(x_train[i])[1])\n",
    "print( 'Loss: ', loss)\n",
    "\n",
    "# train for 50,000 epochs\n",
    "for i in tqdm(range(50000)):\n",
    "    if i%10000==0 and i!=0: # print loss every 10000-th epoch\n",
    "        loss = 0\n",
    "        for j in range(len(x_train)):\n",
    "            loss +=(y_train[j]-forwarder(x_train[j])[1] )**2\n",
    "        print( 'Loss: ', loss,' for '+str(i)+'-th epoch')\n",
    "    e = epoch(x_train,y_train)\n",
    "    out_w += e[0]\n",
    "    h1_w += e[1]\n",
    "\n",
    "    \n",
    "# post_training details    \n",
    "loss = 0\n",
    "print( 'Post training:')\n",
    "for i in range(len(x_train)):\n",
    "    loss +=(y_train[i]-forwarder(x_train[i])[1] )**2\n",
    "    print( x_train[i],'  Predict:',result(x_train)[i],'  Target:',y_train[i],'  Error:',y_train[i]-forwarder(x_train[i])[1])\n",
    "print( 'Loss: ', loss)"
   ]
  }
 ],
 "metadata": {
  "kernelspec": {
   "display_name": "Python 3",
   "language": "python",
   "name": "python3"
  },
  "language_info": {
   "codemirror_mode": {
    "name": "ipython",
    "version": 3
   },
   "file_extension": ".py",
   "mimetype": "text/x-python",
   "name": "python",
   "nbconvert_exporter": "python",
   "pygments_lexer": "ipython3",
   "version": "3.6.0"
  }
 },
 "nbformat": 4,
 "nbformat_minor": 2
}
