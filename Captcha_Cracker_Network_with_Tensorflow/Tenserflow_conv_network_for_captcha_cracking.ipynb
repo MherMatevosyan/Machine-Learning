{
 "cells": [
  {
   "cell_type": "markdown",
   "metadata": {},
   "source": [
    "# A neural network for cracking 4 character captchas with Tensorflow"
   ]
  },
  {
   "cell_type": "markdown",
   "metadata": {},
   "source": [
    "The purpose of this notebook is to train a neural network to crack simple 4 character captchas."
   ]
  },
  {
   "cell_type": "code",
   "execution_count": 5,
   "metadata": {
    "collapsed": false
   },
   "outputs": [],
   "source": [
    "import matplotlib.pyplot as plt  # for plotting images\n",
    "import tensorflow as tf   # neural network model\n",
    "import numpy as np   # for easy use of matrices\n",
    "import time   # measuring time\n",
    "from datetime import timedelta   # measuring time\n",
    "from tqdm import tqdm   # for progress bars\n",
    "from keras.utils import to_categorical   # for one-hot vectors\n",
    "import random   # for shuffling the data\n",
    "import glob   # for loading from a folder\n",
    "from PIL import Image   # for image objects"
   ]
  },
  {
   "cell_type": "markdown",
   "metadata": {},
   "source": [
    "Network has 3 convolutional layers with maxpooling at the end of each layer. There is a fully-connected layer after convolutional layers. The output layer is a partially connected layer to fully connected layer. As each character can be a one of digits and English uppercase letters there are 36 possibilites for each character. taking that into consideration I encoded the output layer as 4 one hot vector each with size 36. The partial connection to the output layer is done in the folloing way:\n",
    "the neurons of fully connected layer are divide into 4 equal groups , then each group is a fully connected layer with one of output vectors,"
   ]
  },
  {
   "cell_type": "markdown",
   "metadata": {},
   "source": [
    "Filter_sizes are what they say a filter size or kernel size. num_filters are the number of filters/features each convolutional layer extracts. Fc_size is the fully connected layer neuron count."
   ]
  },
  {
   "cell_type": "code",
   "execution_count": 6,
   "metadata": {
    "collapsed": true
   },
   "outputs": [],
   "source": [
    "# Convolutional Layer 1.\n",
    "filter_size1 = 5         \n",
    "num_filters1 = 16\n",
    "\n",
    "# Convolutional Layer 2.\n",
    "filter_size2 = 5   \n",
    "num_filters2 = 32 \n",
    "\n",
    "# Convolutional Layer 3.\n",
    "filter_size3 = 5 \n",
    "num_filters3 = 64\n",
    "\n",
    "# Fully-connected layer.\n",
    "fc_size = 128*4 "
   ]
  },
  {
   "cell_type": "markdown",
   "metadata": {},
   "source": [
    "Here is a helper function to read files in the right order (img1, img2, img3, ...., img100, img101, ...)."
   ]
  },
  {
   "cell_type": "code",
   "execution_count": 7,
   "metadata": {
    "collapsed": true
   },
   "outputs": [],
   "source": [
    "# custom function to load correctly sorted files\n",
    "import re\n",
    "numbers = re.compile(r'(\\d+)')\n",
    "def numericalSort(value):\n",
    "    parts = numbers.split(value)\n",
    "    parts[1::2] = map(int, parts[1::2])\n",
    "    return parts"
   ]
  },
  {
   "cell_type": "code",
   "execution_count": 8,
   "metadata": {
    "collapsed": true
   },
   "outputs": [],
   "source": [
    "# List of all 36 characters\n",
    "import string\n",
    "alphabet = [str(x) for x in range(10)] + list(string.ascii_uppercase)"
   ]
  },
  {
   "cell_type": "markdown",
   "metadata": {},
   "source": [
    "To create one hot vectors I've created a 36 by 4 2d numpy array with keras to_categorical function."
   ]
  },
  {
   "cell_type": "code",
   "execution_count": 9,
   "metadata": {
    "collapsed": true
   },
   "outputs": [],
   "source": [
    "def one_hot_36_keras(y):\n",
    "    def digitalize(y):\n",
    "        digitalized = np.empty((0))\n",
    "        for char in y:\n",
    "            digit = alphabet.index(char) # get the index of the character\n",
    "            digitalized = np.append(digitalized,digit) # append the index to numpy array\n",
    "        return digitalized\n",
    "    hot = to_categorical(digitalize(y), num_classes = 36) # convert indexes to one-hot vectors\n",
    "    return hot       "
   ]
  },
  {
   "cell_type": "code",
   "execution_count": 14,
   "metadata": {
    "collapsed": false
   },
   "outputs": [
    {
     "name": "stdout",
     "output_type": "stream",
     "text": [
      "[[ 0.  0.  0.  0.  0.  0.  0.  0.  0.  0.  0.  0.  0.  0.  0.  0.  0.  0.\n",
      "   0.  0.  0.  0.  0.  0.  0.  0.  0.  0.  0.  0.  0.  0.  0.  1.  0.  0.]\n",
      " [ 0.  0.  0.  0.  0.  0.  0.  0.  0.  0.  0.  0.  0.  0.  0.  0.  0.  0.\n",
      "   0.  0.  0.  0.  0.  0.  0.  0.  0.  0.  0.  0.  0.  0.  0.  0.  1.  0.]\n",
      " [ 0.  0.  0.  0.  0.  0.  0.  0.  0.  0.  0.  0.  0.  0.  0.  0.  0.  0.\n",
      "   0.  0.  0.  0.  0.  0.  0.  0.  0.  0.  0.  0.  0.  0.  0.  0.  0.  1.]\n",
      " [ 1.  0.  0.  0.  0.  0.  0.  0.  0.  0.  0.  0.  0.  0.  0.  0.  0.  0.\n",
      "   0.  0.  0.  0.  0.  0.  0.  0.  0.  0.  0.  0.  0.  0.  0.  0.  0.  0.]]\n"
     ]
    }
   ],
   "source": [
    "# test if one_hot works\n",
    "test_array = 'XYZ0'\n",
    "output = one_hot_36_keras(test_array)\n",
    "print(output)"
   ]
  },
  {
   "cell_type": "markdown",
   "metadata": {},
   "source": [
    "Loading part of the dataset to set tenserflow parameters."
   ]
  },
  {
   "cell_type": "code",
   "execution_count": 7,
   "metadata": {
    "collapsed": false
   },
   "outputs": [
    {
     "name": "stdout",
     "output_type": "stream",
     "text": [
      "Wall time: 36.6 s\n"
     ]
    }
   ],
   "source": [
    "%%time\n",
    "# data.test.labels\n",
    "# data.test.cls\n",
    "# data.train.next_batch(train_batch_size)\n",
    "part = 0\n",
    "import glob\n",
    "from PIL import Image\n",
    "captchalist = sorted(glob.glob(r'D:\\Mher\\python_notebook\\def\\captchas\\*.jpg'), key = numericalSort)\n",
    "x_all = np.array([np.array(Image.open(c_name).convert('L')).flatten() for c_name in captchalist[part*1000:1000*(1+part)]])\n",
    "train_size = int(len(x_all)*0.9)\n",
    "splited_data = np.split(x_all,[train_size])\n",
    "x_train = splited_data[0]\n",
    "x_test = splited_data[1]\n",
    "labels_all = np.loadtxt(r'D:\\Mher\\python_notebook\\def\\captchas\\imglabels.txt',dtype = 'str')[part*1000:1000*(1+part)]\n",
    "splited_labels = np.split(labels_all,[train_size])\n",
    "y_train = splited_labels[0]\n",
    "y_test = splited_labels[1]"
   ]
  },
  {
   "cell_type": "code",
   "execution_count": 8,
   "metadata": {
    "collapsed": false,
    "scrolled": true
   },
   "outputs": [
    {
     "name": "stderr",
     "output_type": "stream",
     "text": [
      "100%|████████████████████████████████████████████████████████████████████████████████████████████████████████████████████████████████████████████████████████████████████████████████████████████████| 1000/1000 [00:00<00:00, 17368.80it/s]\n"
     ]
    }
   ],
   "source": [
    "# make all labels one hot\n",
    "one_hot_all = np.empty((len(labels_all),4,36),dtype = object)\n",
    "\n",
    "for idx,array in enumerate(tqdm(labels_all)):\n",
    "\n",
    "    output = one_hot_36_keras(array)\n",
    "    one_hot_all[idx] = output\n",
    "    del output"
   ]
  },
  {
   "cell_type": "code",
   "execution_count": 9,
   "metadata": {
    "collapsed": true
   },
   "outputs": [],
   "source": [
    "# split one hot\n",
    "splited_one_hot = np.split(one_hot_all,[train_size])\n",
    "y_train_one_hot = splited_one_hot[0]\n",
    "y_test_one_hot = splited_one_hot[1]"
   ]
  },
  {
   "cell_type": "code",
   "execution_count": 10,
   "metadata": {
    "collapsed": true
   },
   "outputs": [],
   "source": [
    "# Image heaight and width\n",
    "img_h = 32\n",
    "img_w = 64\n",
    "\n",
    "# As network accepts a 1d array we should flatten the images\n",
    "img_size_flat = img_h * img_w\n",
    "\n",
    "# Image shape\n",
    "img_shape = (img_h, img_w)\n",
    "\n",
    "# 1 means we will only deal with greyscale images (for RGB it would be 3)\n",
    "num_channels = 1\n",
    "\n",
    "# Number of classes\n",
    "num_classes = 36"
   ]
  },
  {
   "cell_type": "code",
   "execution_count": 11,
   "metadata": {
    "collapsed": true
   },
   "outputs": [],
   "source": [
    "# Functions which are used to initialize weights and biases.\n",
    "def new_weights(shape):\n",
    "    return tf.Variable(tf.truncated_normal(shape, stddev=0.05))\n",
    "def new_biases(length):\n",
    "    return tf.Variable(tf.constant(0.05, shape=[length]))"
   ]
  },
  {
   "cell_type": "code",
   "execution_count": 12,
   "metadata": {
    "collapsed": true
   },
   "outputs": [],
   "source": [
    "# Convolutional layer architecture for the neural network\n",
    "\n",
    "def new_conv_layer(input,              # The previous layer.\n",
    "                   num_input_channels, # Num. channels in prev. layer.\n",
    "                   filter_size,        # Width and height of each filter.\n",
    "                   num_filters,        # Number of filters.\n",
    "                   use_pooling=True,\n",
    "                   pad = 'SAME'):  # Use 2x2 max-pooling.\n",
    "\n",
    "    shape = [filter_size, filter_size, num_input_channels, num_filters]\n",
    "    weights = new_weights(shape=shape)   # initialize weights\n",
    "    biases = new_biases(length=num_filters)   # initialize biases\n",
    "    \n",
    "    # Load a convolutional layer from TF with strides (1,1)\n",
    "    layer = tf.nn.conv2d(input=input,\n",
    "                         filter=weights,\n",
    "                         strides=[1, 1, 1, 1],\n",
    "                         padding=pad)\n",
    "    # Add biases\n",
    "    layer += biases\n",
    "    \n",
    "    # Add a max pooling to convolutional layer with kernel size (2,2) and strides (2,2)\n",
    "    if use_pooling:\n",
    "        layer = tf.nn.max_pool(value=layer,\n",
    "                               ksize=[1, 2, 2, 1],\n",
    "                               strides=[1, 2, 2, 1],\n",
    "                               padding='SAME')\n",
    "        \n",
    "    # Add Relu activation function\n",
    "    layer = tf.nn.relu(layer)\n",
    "    \n",
    "    return layer, weights"
   ]
  },
  {
   "cell_type": "code",
   "execution_count": 13,
   "metadata": {
    "collapsed": true
   },
   "outputs": [],
   "source": [
    "# A function to flatten a layer\n",
    "\n",
    "def flatten_layer(layer):\n",
    "    layer_shape = layer.get_shape()\n",
    "    num_features = layer_shape[1:4].num_elements()\n",
    "    layer_flat = tf.reshape(layer, [-1, num_features])\n",
    "    \n",
    "    return layer_flat, num_features"
   ]
  },
  {
   "cell_type": "code",
   "execution_count": 14,
   "metadata": {
    "collapsed": true
   },
   "outputs": [],
   "source": [
    "# Fully Connected layer architecture for the neural network\n",
    "\n",
    "def new_fc_layer(input,          # The previous layer.\n",
    "                 num_inputs,     # Num. inputs from prev. layer.\n",
    "                 num_outputs,    # Num. outputs.\n",
    "                 use_relu=True): # Use Rectified Linear Unit (ReLU)?\n",
    "\n",
    "    weights = new_weights(shape=[num_inputs, num_outputs])    # initialize weights\n",
    "    biases = new_biases(length=num_outputs)   # initialize biases\n",
    "    layer = tf.matmul(input, weights) + biases  #\n",
    "\n",
    "    if use_relu:\n",
    "        layer = tf.nn.relu(layer)\n",
    "    return layer"
   ]
  },
  {
   "cell_type": "code",
   "execution_count": 15,
   "metadata": {
    "collapsed": true
   },
   "outputs": [],
   "source": [
    "x = tf.placeholder(tf.float32, shape=[None, img_size_flat], name='x')\n",
    "x_image = tf.reshape(x, [-1, img_h, img_w, num_channels])\n",
    "y_true = tf.placeholder(tf.float32, shape=[None,4, num_classes], name='y_true')\n",
    "y_true_seperate = tf.split(y_true,4,axis = 1)\n",
    "y_true_cls = tf.argmax(y_true, axis=2)"
   ]
  },
  {
   "cell_type": "code",
   "execution_count": 16,
   "metadata": {
    "collapsed": false
   },
   "outputs": [
    {
     "data": {
      "text/plain": [
       "<tf.Tensor 'x:0' shape=(?, 2048) dtype=float32>"
      ]
     },
     "execution_count": 16,
     "metadata": {},
     "output_type": "execute_result"
    }
   ],
   "source": [
    "x"
   ]
  },
  {
   "cell_type": "code",
   "execution_count": 17,
   "metadata": {
    "collapsed": false
   },
   "outputs": [
    {
     "data": {
      "text/plain": [
       "<tf.Tensor 'y_true:0' shape=(?, 4, 36) dtype=float32>"
      ]
     },
     "execution_count": 17,
     "metadata": {},
     "output_type": "execute_result"
    }
   ],
   "source": [
    "y_true"
   ]
  },
  {
   "cell_type": "code",
   "execution_count": 18,
   "metadata": {
    "collapsed": false
   },
   "outputs": [
    {
     "data": {
      "text/plain": [
       "<tf.Tensor 'ArgMax:0' shape=(?, 4) dtype=int64>"
      ]
     },
     "execution_count": 18,
     "metadata": {},
     "output_type": "execute_result"
    }
   ],
   "source": [
    "y_true_cls"
   ]
  },
  {
   "cell_type": "code",
   "execution_count": 19,
   "metadata": {
    "collapsed": true
   },
   "outputs": [],
   "source": [
    "layer_conv1, weights_conv1 = \\\n",
    "    new_conv_layer(input=x_image,\n",
    "                   num_input_channels=num_channels,\n",
    "                   filter_size=filter_size1,\n",
    "                   num_filters=num_filters1,\n",
    "                   use_pooling=True)"
   ]
  },
  {
   "cell_type": "code",
   "execution_count": 20,
   "metadata": {
    "collapsed": false
   },
   "outputs": [
    {
     "data": {
      "text/plain": [
       "<tf.Tensor 'Relu:0' shape=(?, 16, 32, 16) dtype=float32>"
      ]
     },
     "execution_count": 20,
     "metadata": {},
     "output_type": "execute_result"
    }
   ],
   "source": [
    "layer_conv1"
   ]
  },
  {
   "cell_type": "code",
   "execution_count": 21,
   "metadata": {
    "collapsed": true
   },
   "outputs": [],
   "source": [
    "layer_conv2, weights_conv2 = \\\n",
    "    new_conv_layer(input=layer_conv1,\n",
    "                   num_input_channels=num_filters1,\n",
    "                   filter_size=filter_size2,\n",
    "                   num_filters=num_filters2,\n",
    "                   use_pooling=True)"
   ]
  },
  {
   "cell_type": "code",
   "execution_count": 22,
   "metadata": {
    "collapsed": false
   },
   "outputs": [
    {
     "data": {
      "text/plain": [
       "<tf.Tensor 'Relu_1:0' shape=(?, 8, 16, 32) dtype=float32>"
      ]
     },
     "execution_count": 22,
     "metadata": {},
     "output_type": "execute_result"
    }
   ],
   "source": [
    "layer_conv2"
   ]
  },
  {
   "cell_type": "code",
   "execution_count": 23,
   "metadata": {
    "collapsed": true
   },
   "outputs": [],
   "source": [
    "layer_conv3, weights_conv3 = \\\n",
    "    new_conv_layer(input=layer_conv2,\n",
    "                   num_input_channels=num_filters2,\n",
    "                   filter_size=filter_size3,\n",
    "                   num_filters=num_filters3,\n",
    "                   use_pooling=True)"
   ]
  },
  {
   "cell_type": "code",
   "execution_count": 24,
   "metadata": {
    "collapsed": false
   },
   "outputs": [
    {
     "data": {
      "text/plain": [
       "<tf.Tensor 'Relu_2:0' shape=(?, 4, 8, 64) dtype=float32>"
      ]
     },
     "execution_count": 24,
     "metadata": {},
     "output_type": "execute_result"
    }
   ],
   "source": [
    "layer_conv3"
   ]
  },
  {
   "cell_type": "code",
   "execution_count": 25,
   "metadata": {
    "collapsed": true
   },
   "outputs": [],
   "source": [
    "layer_flat, num_features = flatten_layer(layer_conv3)"
   ]
  },
  {
   "cell_type": "code",
   "execution_count": 26,
   "metadata": {
    "collapsed": false
   },
   "outputs": [
    {
     "data": {
      "text/plain": [
       "<tf.Tensor 'Reshape_1:0' shape=(?, 2048) dtype=float32>"
      ]
     },
     "execution_count": 26,
     "metadata": {},
     "output_type": "execute_result"
    }
   ],
   "source": [
    "layer_flat"
   ]
  },
  {
   "cell_type": "code",
   "execution_count": 27,
   "metadata": {
    "collapsed": true
   },
   "outputs": [],
   "source": [
    "layer_fc1 = new_fc_layer(input=layer_flat,\n",
    "                         num_inputs=num_features,\n",
    "                         num_outputs=fc_size,\n",
    "                         use_relu=True)"
   ]
  },
  {
   "cell_type": "code",
   "execution_count": 28,
   "metadata": {
    "collapsed": false
   },
   "outputs": [
    {
     "data": {
      "text/plain": [
       "<tf.Tensor 'Relu_3:0' shape=(?, 512) dtype=float32>"
      ]
     },
     "execution_count": 28,
     "metadata": {},
     "output_type": "execute_result"
    }
   ],
   "source": [
    "layer_fc1"
   ]
  },
  {
   "cell_type": "code",
   "execution_count": 29,
   "metadata": {
    "collapsed": true
   },
   "outputs": [],
   "source": [
    "splitted_layer = tf.split(layer_fc1,4,axis = 1)"
   ]
  },
  {
   "cell_type": "code",
   "execution_count": 30,
   "metadata": {
    "collapsed": false
   },
   "outputs": [
    {
     "data": {
      "text/plain": [
       "[<tf.Tensor 'split_1:0' shape=(?, 128) dtype=float32>,\n",
       " <tf.Tensor 'split_1:1' shape=(?, 128) dtype=float32>,\n",
       " <tf.Tensor 'split_1:2' shape=(?, 128) dtype=float32>,\n",
       " <tf.Tensor 'split_1:3' shape=(?, 128) dtype=float32>]"
      ]
     },
     "execution_count": 30,
     "metadata": {},
     "output_type": "execute_result"
    }
   ],
   "source": [
    "splitted_layer"
   ]
  },
  {
   "cell_type": "code",
   "execution_count": 31,
   "metadata": {
    "collapsed": true
   },
   "outputs": [],
   "source": [
    "layer_fc2 = []\n",
    "for split in splitted_layer:\n",
    "    l = new_fc_layer(input=split,\n",
    "                             num_inputs=int(fc_size/4),\n",
    "                             num_outputs=num_classes,\n",
    "                             use_relu=False)\n",
    "    layer_fc2.append(l)"
   ]
  },
  {
   "cell_type": "code",
   "execution_count": 32,
   "metadata": {
    "collapsed": false
   },
   "outputs": [
    {
     "data": {
      "text/plain": [
       "[<tf.Tensor 'add_4:0' shape=(?, 36) dtype=float32>,\n",
       " <tf.Tensor 'add_5:0' shape=(?, 36) dtype=float32>,\n",
       " <tf.Tensor 'add_6:0' shape=(?, 36) dtype=float32>,\n",
       " <tf.Tensor 'add_7:0' shape=(?, 36) dtype=float32>]"
      ]
     },
     "execution_count": 32,
     "metadata": {},
     "output_type": "execute_result"
    }
   ],
   "source": [
    "layer_fc2"
   ]
  },
  {
   "cell_type": "code",
   "execution_count": 33,
   "metadata": {
    "collapsed": true
   },
   "outputs": [],
   "source": [
    "y_pred1 = tf.nn.softmax(layer_fc2[0])\n",
    "y_pred2 = tf.nn.softmax(layer_fc2[1])\n",
    "y_pred3 = tf.nn.softmax(layer_fc2[2])\n",
    "y_pred4 = tf.nn.softmax(layer_fc2[3])\n",
    "y_pred_cls1 = tf.argmax(y_pred1, axis=1)\n",
    "y_pred_cls2 = tf.argmax(y_pred2, axis=1)\n",
    "y_pred_cls3 = tf.argmax(y_pred3, axis=1)\n",
    "y_pred_cls4 = tf.argmax(y_pred4, axis=1)\n",
    "y_pred_cls = tf.stack([y_pred_cls1,y_pred_cls2,y_pred_cls3,y_pred_cls4],axis = 1)"
   ]
  },
  {
   "cell_type": "code",
   "execution_count": 34,
   "metadata": {
    "collapsed": false
   },
   "outputs": [
    {
     "data": {
      "text/plain": [
       "<tf.Tensor 'stack:0' shape=(?, 4) dtype=int64>"
      ]
     },
     "execution_count": 34,
     "metadata": {},
     "output_type": "execute_result"
    }
   ],
   "source": [
    "y_pred_cls"
   ]
  },
  {
   "cell_type": "code",
   "execution_count": 35,
   "metadata": {
    "collapsed": false
   },
   "outputs": [
    {
     "data": {
      "text/plain": [
       "<tf.Tensor 'Softmax:0' shape=(?, 36) dtype=float32>"
      ]
     },
     "execution_count": 35,
     "metadata": {},
     "output_type": "execute_result"
    }
   ],
   "source": [
    "y_pred1"
   ]
  },
  {
   "cell_type": "code",
   "execution_count": 36,
   "metadata": {
    "collapsed": false
   },
   "outputs": [
    {
     "data": {
      "text/plain": [
       "<tf.Tensor 'ArgMax_1:0' shape=(?,) dtype=int64>"
      ]
     },
     "execution_count": 36,
     "metadata": {},
     "output_type": "execute_result"
    }
   ],
   "source": [
    "y_pred_cls1"
   ]
  },
  {
   "cell_type": "code",
   "execution_count": 37,
   "metadata": {
    "collapsed": true
   },
   "outputs": [],
   "source": [
    "cross_entropy1 = tf.nn.softmax_cross_entropy_with_logits(logits=layer_fc2[0],labels=y_true_seperate[0])\n",
    "cross_entropy2 = tf.nn.softmax_cross_entropy_with_logits(logits=layer_fc2[1],labels=y_true_seperate[1])\n",
    "cross_entropy3 = tf.nn.softmax_cross_entropy_with_logits(logits=layer_fc2[2],labels=y_true_seperate[2])\n",
    "cross_entropy4 = tf.nn.softmax_cross_entropy_with_logits(logits=layer_fc2[3],labels=y_true_seperate[3])\n",
    "cost = tf.reduce_mean(cross_entropy1+cross_entropy2+cross_entropy3+cross_entropy4)"
   ]
  },
  {
   "cell_type": "code",
   "execution_count": 38,
   "metadata": {
    "collapsed": false
   },
   "outputs": [
    {
     "data": {
      "text/plain": [
       "<tf.Tensor 'Mean:0' shape=() dtype=float32>"
      ]
     },
     "execution_count": 38,
     "metadata": {},
     "output_type": "execute_result"
    }
   ],
   "source": [
    "cost"
   ]
  },
  {
   "cell_type": "code",
   "execution_count": 39,
   "metadata": {
    "collapsed": false
   },
   "outputs": [
    {
     "data": {
      "text/plain": [
       "<tf.Tensor 'Reshape_4:0' shape=(?,) dtype=float32>"
      ]
     },
     "execution_count": 39,
     "metadata": {},
     "output_type": "execute_result"
    }
   ],
   "source": [
    "cross_entropy1"
   ]
  },
  {
   "cell_type": "code",
   "execution_count": 40,
   "metadata": {
    "collapsed": true
   },
   "outputs": [],
   "source": [
    "optimizer = tf.train.AdamOptimizer(learning_rate=1e-4).minimize(cost)"
   ]
  },
  {
   "cell_type": "code",
   "execution_count": 41,
   "metadata": {
    "collapsed": true
   },
   "outputs": [],
   "source": [
    "correct_prediction = tf.equal(y_pred_cls, y_true_cls)"
   ]
  },
  {
   "cell_type": "code",
   "execution_count": 42,
   "metadata": {
    "collapsed": false
   },
   "outputs": [
    {
     "data": {
      "text/plain": [
       "<tf.Tensor 'Equal:0' shape=(?, 4) dtype=bool>"
      ]
     },
     "execution_count": 42,
     "metadata": {},
     "output_type": "execute_result"
    }
   ],
   "source": [
    "correct_prediction"
   ]
  },
  {
   "cell_type": "code",
   "execution_count": 43,
   "metadata": {
    "collapsed": false
   },
   "outputs": [
    {
     "data": {
      "text/plain": [
       "<tf.Tensor 'ArgMax:0' shape=(?, 4) dtype=int64>"
      ]
     },
     "execution_count": 43,
     "metadata": {},
     "output_type": "execute_result"
    }
   ],
   "source": [
    "y_true_cls"
   ]
  },
  {
   "cell_type": "code",
   "execution_count": 44,
   "metadata": {
    "collapsed": true
   },
   "outputs": [],
   "source": [
    "accuracy = tf.reduce_mean(tf.cast(correct_prediction, tf.float32))"
   ]
  },
  {
   "cell_type": "code",
   "execution_count": 45,
   "metadata": {
    "collapsed": false
   },
   "outputs": [
    {
     "data": {
      "text/plain": [
       "<tf.Tensor 'Mean_1:0' shape=() dtype=float32>"
      ]
     },
     "execution_count": 45,
     "metadata": {},
     "output_type": "execute_result"
    }
   ],
   "source": [
    "accuracy"
   ]
  },
  {
   "cell_type": "code",
   "execution_count": 46,
   "metadata": {
    "collapsed": true
   },
   "outputs": [],
   "source": [
    "session = tf.Session()\n",
    "session.run(tf.global_variables_initializer())"
   ]
  },
  {
   "cell_type": "code",
   "execution_count": 47,
   "metadata": {
    "collapsed": true
   },
   "outputs": [],
   "source": [
    "train_batch_size = 100\n",
    "x_train_batches = np.array(np.array_split(x_train,int(len(x_train)/train_batch_size)))\n",
    "y_train_batches = np.array(np.array_split(y_train_one_hot,int(len(y_train_one_hot)/train_batch_size)))\n",
    "data_length = len(y_train_batches)\n",
    "# Counter for total number of iterations performed so far.\n",
    "total_iterations = 0\n",
    "data_part = 0\n",
    "\n",
    "def optimize(num_iterations):\n",
    "    global total_iterations,data_part\n",
    "\n",
    "    start_time = time.time()\n",
    "\n",
    "    for i in range(total_iterations,\n",
    "                   total_iterations + num_iterations):\n",
    "        if i % data_length == 0 and i!=0:\n",
    "            print('part '+str(data_part+1)+ ' of data was trained')\n",
    "            data_part +=1\n",
    "            \n",
    "        x_batch = x_train_batches[i-data_part*data_length]\n",
    "        y_true_batch = y_train_batches[i-data_part*data_length]\n",
    "        feed_dict_train = {x: x_batch,\n",
    "                           y_true: y_true_batch}\n",
    "        session.run(optimizer, feed_dict=feed_dict_train)\n",
    "\n",
    "        if i % 100 == 0:\n",
    "            acc = session.run(accuracy, feed_dict=feed_dict_train)\n",
    "            msg = \"Optimization Iteration: {0:>6}, Training Accuracy: {1:>6.1%}\"\n",
    "            print(msg.format(i + 1, acc))\n",
    "            print('Training time since the start : '+str(timedelta(seconds=int(round(time.time()-start_time)))))\n",
    "\n",
    "    total_iterations += num_iterations\n",
    "    end_time = time.time()\n",
    "    time_dif = end_time - start_time\n",
    "    print(\"Time usage: \" + str(timedelta(seconds=int(round(time_dif)))))"
   ]
  },
  {
   "cell_type": "code",
   "execution_count": 48,
   "metadata": {
    "collapsed": true
   },
   "outputs": [],
   "source": [
    "# Split the test-set into smaller batches of this size.\n",
    "test_batch_size = 100\n",
    "\n",
    "def print_test_accuracy(show_example_errors=False,\n",
    "                        show_confusion_matrix=False):\n",
    "\n",
    "    num_test = len(x_test)\n",
    "    cls_pred = np.zeros(shape=(num_test,4), dtype=np.int)\n",
    "    i = 0\n",
    "\n",
    "    while i < num_test:\n",
    "        j = min(i + test_batch_size, num_test)\n",
    "        images = x_test[i:j, :]\n",
    "        labels = y_test_one_hot[i:j, :]\n",
    "        feed_dict = {x: images,\n",
    "                     y_true: labels}\n",
    "        cls_pred[i:j] = session.run(y_pred_cls, feed_dict=feed_dict)\n",
    "        i = j\n",
    "\n",
    "    cls_true = np.argmax(y_test_one_hot,axis = 2)\n",
    "    correct = np.all(np.equal(cls_true,cls_pred),axis = 1)\n",
    "    correct_sum = correct.sum()\n",
    "    acc = float(correct_sum) / num_test\n",
    "\n",
    "    msg = \"Accuracy on Test-Set: {0:.1%} ({1} / {2})\"\n",
    "    print(msg.format(acc, correct_sum, num_test))\n",
    "\n",
    "    if show_example_errors:\n",
    "        print(\"Example errors:\")\n",
    "        plot_example_errors(cls_pred=cls_pred, correct=correct)\n",
    "\n",
    "    if show_confusion_matrix:\n",
    "        print(\"Confusion Matrix:\")\n",
    "        plot_confusion_matrix(cls_pred=cls_pred)"
   ]
  },
  {
   "cell_type": "markdown",
   "metadata": {},
   "source": [
    "I have trained the network for 10 epochs and printed progress every 100 iteration (as batch size is 100 progress is printed every 10,000 images)."
   ]
  },
  {
   "cell_type": "code",
   "execution_count": 49,
   "metadata": {
    "collapsed": false,
    "scrolled": true
   },
   "outputs": [
    {
     "name": "stdout",
     "output_type": "stream",
     "text": [
      "EPOCH 1 has started\n"
     ]
    },
    {
     "name": "stderr",
     "output_type": "stream",
     "text": [
      "100%|████████████████████████████████████████████████████████████████████████████████████████████████████████████████████████████████████████████████████████████████████████████████████████████| 100000/100000 [00:05<00:00, 18764.58it/s]\n"
     ]
    },
    {
     "name": "stdout",
     "output_type": "stream",
     "text": [
      "Load time is :0:02:14\n",
      "Optimization Iteration:      1, Training Accuracy:   4.5%\n",
      "Training time since the start : 0:00:01\n",
      "Optimization Iteration:    101, Training Accuracy:   3.2%\n",
      "Training time since the start : 0:00:26\n",
      "Optimization Iteration:    201, Training Accuracy:   3.0%\n",
      "Training time since the start : 0:00:50\n",
      "Optimization Iteration:    301, Training Accuracy:   4.5%\n",
      "Training time since the start : 0:01:15\n",
      "Optimization Iteration:    401, Training Accuracy:   4.0%\n",
      "Training time since the start : 0:01:39\n",
      "Optimization Iteration:    501, Training Accuracy:   4.7%\n",
      "Training time since the start : 0:02:03\n",
      "Optimization Iteration:    601, Training Accuracy:   5.0%\n",
      "Training time since the start : 0:02:28\n",
      "Optimization Iteration:    701, Training Accuracy:   6.5%\n",
      "Training time since the start : 0:02:52\n",
      "Optimization Iteration:    801, Training Accuracy:   8.5%\n",
      "Training time since the start : 0:03:17\n",
      "Time usage: 0:03:41\n",
      "Accuracy on Test-Set: 0.0% (0 / 10000)\n"
     ]
    },
    {
     "name": "stderr",
     "output_type": "stream",
     "text": [
      "100%|████████████████████████████████████████████████████████████████████████████████████████████████████████████████████████████████████████████████████████████████████████████████████████████| 100000/100000 [00:05<00:00, 18670.10it/s]\n"
     ]
    },
    {
     "name": "stdout",
     "output_type": "stream",
     "text": [
      "Load time is :0:02:35\n",
      "part 1 of data was trained\n",
      "Optimization Iteration:    901, Training Accuracy:  11.0%\n",
      "Training time since the start : 0:00:00\n",
      "Optimization Iteration:   1001, Training Accuracy:  11.0%\n",
      "Training time since the start : 0:00:25\n",
      "Optimization Iteration:   1101, Training Accuracy:  15.3%\n",
      "Training time since the start : 0:00:49\n",
      "Optimization Iteration:   1201, Training Accuracy:  19.0%\n",
      "Training time since the start : 0:01:14\n",
      "Optimization Iteration:   1301, Training Accuracy:  18.5%\n",
      "Training time since the start : 0:01:38\n",
      "Optimization Iteration:   1401, Training Accuracy:  23.3%\n",
      "Training time since the start : 0:02:03\n",
      "Optimization Iteration:   1501, Training Accuracy:  25.5%\n",
      "Training time since the start : 0:02:27\n",
      "Optimization Iteration:   1601, Training Accuracy:  27.8%\n",
      "Training time since the start : 0:02:51\n",
      "Optimization Iteration:   1701, Training Accuracy:  34.5%\n",
      "Training time since the start : 0:03:16\n",
      "Time usage: 0:03:40\n",
      "Accuracy on Test-Set: 1.0% (99 / 10000)\n"
     ]
    },
    {
     "name": "stderr",
     "output_type": "stream",
     "text": [
      "100%|████████████████████████████████████████████████████████████████████████████████████████████████████████████████████████████████████████████████████████████████████████████████████████████| 100000/100000 [00:05<00:00, 18687.85it/s]\n"
     ]
    },
    {
     "name": "stdout",
     "output_type": "stream",
     "text": [
      "Load time is :0:02:15\n",
      "part 2 of data was trained\n",
      "Optimization Iteration:   1801, Training Accuracy:  36.3%\n",
      "Training time since the start : 0:00:00\n",
      "Optimization Iteration:   1901, Training Accuracy:  36.8%\n",
      "Training time since the start : 0:00:25\n",
      "Optimization Iteration:   2001, Training Accuracy:  39.0%\n",
      "Training time since the start : 0:00:49\n",
      "Optimization Iteration:   2101, Training Accuracy:  40.7%\n",
      "Training time since the start : 0:01:14\n",
      "Optimization Iteration:   2201, Training Accuracy:  46.3%\n",
      "Training time since the start : 0:01:38\n",
      "Optimization Iteration:   2301, Training Accuracy:  43.8%\n",
      "Training time since the start : 0:02:02\n",
      "Optimization Iteration:   2401, Training Accuracy:  45.5%\n",
      "Training time since the start : 0:02:27\n",
      "Optimization Iteration:   2501, Training Accuracy:  51.0%\n",
      "Training time since the start : 0:02:51\n",
      "Optimization Iteration:   2601, Training Accuracy:  49.5%\n",
      "Training time since the start : 0:03:16\n",
      "Time usage: 0:03:40\n",
      "Accuracy on Test-Set: 9.1% (913 / 10000)\n"
     ]
    },
    {
     "name": "stderr",
     "output_type": "stream",
     "text": [
      "100%|████████████████████████████████████████████████████████████████████████████████████████████████████████████████████████████████████████████████████████████████████████████████████████████| 100000/100000 [00:05<00:00, 18622.74it/s]\n"
     ]
    },
    {
     "name": "stdout",
     "output_type": "stream",
     "text": [
      "Load time is :0:02:16\n",
      "part 3 of data was trained\n",
      "Optimization Iteration:   2701, Training Accuracy:  52.7%\n",
      "Training time since the start : 0:00:00\n",
      "Optimization Iteration:   2801, Training Accuracy:  55.0%\n",
      "Training time since the start : 0:00:25\n",
      "Optimization Iteration:   2901, Training Accuracy:  56.2%\n",
      "Training time since the start : 0:00:49\n",
      "Optimization Iteration:   3001, Training Accuracy:  63.0%\n",
      "Training time since the start : 0:01:14\n",
      "Optimization Iteration:   3101, Training Accuracy:  58.7%\n",
      "Training time since the start : 0:01:38\n",
      "Optimization Iteration:   3201, Training Accuracy:  60.3%\n",
      "Training time since the start : 0:02:02\n",
      "Optimization Iteration:   3301, Training Accuracy:  64.0%\n",
      "Training time since the start : 0:02:27\n",
      "Optimization Iteration:   3401, Training Accuracy:  63.5%\n",
      "Training time since the start : 0:02:51\n",
      "Optimization Iteration:   3501, Training Accuracy:  67.0%\n",
      "Training time since the start : 0:03:16\n",
      "Time usage: 0:03:40\n",
      "Accuracy on Test-Set: 21.3% (2129 / 10000)\n"
     ]
    },
    {
     "name": "stderr",
     "output_type": "stream",
     "text": [
      "100%|████████████████████████████████████████████████████████████████████████████████████████████████████████████████████████████████████████████████████████████████████████████████████████████| 100000/100000 [00:05<00:00, 18699.41it/s]\n"
     ]
    },
    {
     "name": "stdout",
     "output_type": "stream",
     "text": [
      "Load time is :0:02:17\n",
      "part 4 of data was trained\n",
      "Optimization Iteration:   3601, Training Accuracy:  66.5%\n",
      "Training time since the start : 0:00:00\n",
      "Optimization Iteration:   3701, Training Accuracy:  69.2%\n",
      "Training time since the start : 0:00:25\n",
      "Optimization Iteration:   3801, Training Accuracy:  74.0%\n",
      "Training time since the start : 0:00:49\n",
      "Optimization Iteration:   3901, Training Accuracy:  67.0%\n",
      "Training time since the start : 0:01:14\n",
      "Optimization Iteration:   4001, Training Accuracy:  72.0%\n",
      "Training time since the start : 0:01:38\n",
      "Optimization Iteration:   4101, Training Accuracy:  72.0%\n",
      "Training time since the start : 0:02:02\n",
      "Optimization Iteration:   4201, Training Accuracy:  74.5%\n",
      "Training time since the start : 0:02:27\n",
      "Optimization Iteration:   4301, Training Accuracy:  72.5%\n",
      "Training time since the start : 0:02:51\n",
      "Optimization Iteration:   4401, Training Accuracy:  76.0%\n",
      "Training time since the start : 0:03:16\n",
      "Time usage: 0:03:40\n",
      "Accuracy on Test-Set: 30.6% (3056 / 10000)\n"
     ]
    },
    {
     "name": "stderr",
     "output_type": "stream",
     "text": [
      "100%|████████████████████████████████████████████████████████████████████████████████████████████████████████████████████████████████████████████████████████████████████████████████████████████| 100000/100000 [00:05<00:00, 18624.49it/s]\n"
     ]
    },
    {
     "name": "stdout",
     "output_type": "stream",
     "text": [
      "Load time is :0:02:17\n",
      "part 5 of data was trained\n",
      "Optimization Iteration:   4501, Training Accuracy:  74.8%\n",
      "Training time since the start : 0:00:00\n",
      "Optimization Iteration:   4601, Training Accuracy:  72.8%\n",
      "Training time since the start : 0:00:25\n",
      "Optimization Iteration:   4701, Training Accuracy:  73.8%\n",
      "Training time since the start : 0:00:49\n",
      "Optimization Iteration:   4801, Training Accuracy:  73.5%\n",
      "Training time since the start : 0:01:14\n",
      "Optimization Iteration:   4901, Training Accuracy:  76.2%\n",
      "Training time since the start : 0:01:39\n",
      "Optimization Iteration:   5001, Training Accuracy:  77.5%\n",
      "Training time since the start : 0:02:03\n",
      "Optimization Iteration:   5101, Training Accuracy:  72.5%\n",
      "Training time since the start : 0:02:28\n",
      "Optimization Iteration:   5201, Training Accuracy:  79.5%\n",
      "Training time since the start : 0:02:52\n",
      "Optimization Iteration:   5301, Training Accuracy:  81.2%\n",
      "Training time since the start : 0:03:17\n",
      "Time usage: 0:03:41\n",
      "Accuracy on Test-Set: 39.7% (3974 / 10000)\n"
     ]
    },
    {
     "name": "stderr",
     "output_type": "stream",
     "text": [
      "100%|████████████████████████████████████████████████████████████████████████████████████████████████████████████████████████████████████████████████████████████████████████████████████████████| 100000/100000 [00:05<00:00, 18633.30it/s]\n"
     ]
    },
    {
     "name": "stdout",
     "output_type": "stream",
     "text": [
      "Load time is :0:02:14\n",
      "part 6 of data was trained\n",
      "Optimization Iteration:   5401, Training Accuracy:  78.8%\n",
      "Training time since the start : 0:00:00\n",
      "Optimization Iteration:   5501, Training Accuracy:  80.8%\n",
      "Training time since the start : 0:00:25\n",
      "Optimization Iteration:   5601, Training Accuracy:  74.8%\n",
      "Training time since the start : 0:00:49\n",
      "Optimization Iteration:   5701, Training Accuracy:  84.0%\n",
      "Training time since the start : 0:01:14\n",
      "Optimization Iteration:   5801, Training Accuracy:  78.8%\n",
      "Training time since the start : 0:01:38\n",
      "Optimization Iteration:   5901, Training Accuracy:  81.0%\n",
      "Training time since the start : 0:02:03\n",
      "Optimization Iteration:   6001, Training Accuracy:  79.3%\n",
      "Training time since the start : 0:02:27\n",
      "Optimization Iteration:   6101, Training Accuracy:  80.8%\n",
      "Training time since the start : 0:02:52\n",
      "Optimization Iteration:   6201, Training Accuracy:  84.5%\n",
      "Training time since the start : 0:03:16\n",
      "Time usage: 0:03:40\n",
      "Accuracy on Test-Set: 45.5% (4551 / 10000)\n"
     ]
    },
    {
     "name": "stderr",
     "output_type": "stream",
     "text": [
      "100%|████████████████████████████████████████████████████████████████████████████████████████████████████████████████████████████████████████████████████████████████████████████████████████████| 100000/100000 [00:05<00:00, 18606.60it/s]\n"
     ]
    },
    {
     "name": "stdout",
     "output_type": "stream",
     "text": [
      "Load time is :0:02:14\n",
      "part 7 of data was trained\n",
      "Optimization Iteration:   6301, Training Accuracy:  82.5%\n",
      "Training time since the start : 0:00:00\n",
      "Optimization Iteration:   6401, Training Accuracy:  81.7%\n",
      "Training time since the start : 0:00:25\n",
      "Optimization Iteration:   6501, Training Accuracy:  83.0%\n",
      "Training time since the start : 0:00:49\n",
      "Optimization Iteration:   6601, Training Accuracy:  85.0%\n",
      "Training time since the start : 0:01:14\n",
      "Optimization Iteration:   6701, Training Accuracy:  82.2%\n",
      "Training time since the start : 0:01:38\n",
      "Optimization Iteration:   6801, Training Accuracy:  86.5%\n",
      "Training time since the start : 0:02:03\n",
      "Optimization Iteration:   6901, Training Accuracy:  85.8%\n",
      "Training time since the start : 0:02:27\n",
      "Optimization Iteration:   7001, Training Accuracy:  82.2%\n",
      "Training time since the start : 0:02:52\n",
      "Optimization Iteration:   7101, Training Accuracy:  85.0%\n",
      "Training time since the start : 0:03:16\n",
      "Time usage: 0:03:40\n",
      "Accuracy on Test-Set: 50.6% (5059 / 10000)\n"
     ]
    },
    {
     "name": "stderr",
     "output_type": "stream",
     "text": [
      "100%|████████████████████████████████████████████████████████████████████████████████████████████████████████████████████████████████████████████████████████████████████████████████████████████| 100000/100000 [00:05<00:00, 18777.93it/s]\n"
     ]
    },
    {
     "name": "stdout",
     "output_type": "stream",
     "text": [
      "Load time is :0:02:13\n",
      "part 8 of data was trained\n",
      "Optimization Iteration:   7201, Training Accuracy:  84.2%\n",
      "Training time since the start : 0:00:00\n",
      "Optimization Iteration:   7301, Training Accuracy:  85.0%\n",
      "Training time since the start : 0:00:25\n",
      "Optimization Iteration:   7401, Training Accuracy:  83.2%\n",
      "Training time since the start : 0:00:49\n",
      "Optimization Iteration:   7501, Training Accuracy:  84.8%\n",
      "Training time since the start : 0:01:14\n",
      "Optimization Iteration:   7601, Training Accuracy:  87.3%\n",
      "Training time since the start : 0:01:38\n",
      "Optimization Iteration:   7701, Training Accuracy:  86.3%\n",
      "Training time since the start : 0:02:02\n",
      "Optimization Iteration:   7801, Training Accuracy:  88.7%\n",
      "Training time since the start : 0:02:27\n",
      "Optimization Iteration:   7901, Training Accuracy:  84.8%\n",
      "Training time since the start : 0:02:51\n",
      "Optimization Iteration:   8001, Training Accuracy:  86.3%\n",
      "Training time since the start : 0:03:16\n",
      "Time usage: 0:03:40\n",
      "Accuracy on Test-Set: 56.5% (5654 / 10000)\n"
     ]
    },
    {
     "name": "stderr",
     "output_type": "stream",
     "text": [
      "100%|████████████████████████████████████████████████████████████████████████████████████████████████████████████████████████████████████████████████████████████████████████████████████████████| 100000/100000 [00:05<00:00, 18649.72it/s]\n"
     ]
    },
    {
     "name": "stdout",
     "output_type": "stream",
     "text": [
      "Load time is :0:02:15\n",
      "part 9 of data was trained\n",
      "Optimization Iteration:   8101, Training Accuracy:  87.5%\n",
      "Training time since the start : 0:00:00\n",
      "Optimization Iteration:   8201, Training Accuracy:  83.7%\n",
      "Training time since the start : 0:00:25\n",
      "Optimization Iteration:   8301, Training Accuracy:  88.0%\n",
      "Training time since the start : 0:00:49\n",
      "Optimization Iteration:   8401, Training Accuracy:  84.5%\n",
      "Training time since the start : 0:01:14\n",
      "Optimization Iteration:   8501, Training Accuracy:  85.8%\n",
      "Training time since the start : 0:01:38\n",
      "Optimization Iteration:   8601, Training Accuracy:  85.3%\n",
      "Training time since the start : 0:02:03\n",
      "Optimization Iteration:   8701, Training Accuracy:  88.0%\n",
      "Training time since the start : 0:02:27\n",
      "Optimization Iteration:   8801, Training Accuracy:  88.7%\n",
      "Training time since the start : 0:02:52\n",
      "Optimization Iteration:   8901, Training Accuracy:  88.0%\n",
      "Training time since the start : 0:03:16\n",
      "Time usage: 0:03:40\n",
      "Accuracy on Test-Set: 60.7% (6068 / 10000)\n",
      "EPOCH 2 has started\n"
     ]
    },
    {
     "name": "stderr",
     "output_type": "stream",
     "text": [
      "100%|████████████████████████████████████████████████████████████████████████████████████████████████████████████████████████████████████████████████████████████████████████████████████████████| 100000/100000 [00:05<00:00, 18636.44it/s]\n"
     ]
    },
    {
     "name": "stdout",
     "output_type": "stream",
     "text": [
      "Load time is :0:02:52\n",
      "part 10 of data was trained\n",
      "Optimization Iteration:   9001, Training Accuracy:  92.0%\n",
      "Training time since the start : 0:00:00\n",
      "Optimization Iteration:   9101, Training Accuracy:  88.5%\n",
      "Training time since the start : 0:00:25\n",
      "Optimization Iteration:   9201, Training Accuracy:  85.3%\n",
      "Training time since the start : 0:00:49\n",
      "Optimization Iteration:   9301, Training Accuracy:  85.8%\n",
      "Training time since the start : 0:01:14\n",
      "Optimization Iteration:   9401, Training Accuracy:  86.0%\n",
      "Training time since the start : 0:01:38\n",
      "Optimization Iteration:   9501, Training Accuracy:  88.5%\n",
      "Training time since the start : 0:02:03\n",
      "Optimization Iteration:   9601, Training Accuracy:  89.7%\n",
      "Training time since the start : 0:02:27\n",
      "Optimization Iteration:   9701, Training Accuracy:  90.0%\n",
      "Training time since the start : 0:02:51\n",
      "Optimization Iteration:   9801, Training Accuracy:  90.8%\n",
      "Training time since the start : 0:03:16\n",
      "Time usage: 0:03:40\n",
      "Accuracy on Test-Set: 64.4% (6436 / 10000)\n"
     ]
    },
    {
     "name": "stderr",
     "output_type": "stream",
     "text": [
      "100%|████████████████████████████████████████████████████████████████████████████████████████████████████████████████████████████████████████████████████████████████████████████████████████████| 100000/100000 [00:05<00:00, 18754.21it/s]\n"
     ]
    },
    {
     "name": "stdout",
     "output_type": "stream",
     "text": [
      "Load time is :0:02:30\n",
      "part 11 of data was trained\n",
      "Optimization Iteration:   9901, Training Accuracy:  91.0%\n",
      "Training time since the start : 0:00:00\n",
      "Optimization Iteration:  10001, Training Accuracy:  89.7%\n",
      "Training time since the start : 0:00:25\n",
      "Optimization Iteration:  10101, Training Accuracy:  89.5%\n",
      "Training time since the start : 0:00:49\n",
      "Optimization Iteration:  10201, Training Accuracy:  88.5%\n",
      "Training time since the start : 0:01:14\n",
      "Optimization Iteration:  10301, Training Accuracy:  88.5%\n",
      "Training time since the start : 0:01:38\n",
      "Optimization Iteration:  10401, Training Accuracy:  87.5%\n",
      "Training time since the start : 0:02:03\n",
      "Optimization Iteration:  10501, Training Accuracy:  90.8%\n",
      "Training time since the start : 0:02:27\n",
      "Optimization Iteration:  10601, Training Accuracy:  85.3%\n",
      "Training time since the start : 0:02:52\n",
      "Optimization Iteration:  10701, Training Accuracy:  88.2%\n",
      "Training time since the start : 0:03:17\n",
      "Time usage: 0:03:41\n",
      "Accuracy on Test-Set: 66.5% (6655 / 10000)\n"
     ]
    },
    {
     "name": "stderr",
     "output_type": "stream",
     "text": [
      "100%|████████████████████████████████████████████████████████████████████████████████████████████████████████████████████████████████████████████████████████████████████████████████████████████| 100000/100000 [00:05<00:00, 18550.91it/s]\n"
     ]
    },
    {
     "name": "stdout",
     "output_type": "stream",
     "text": [
      "Load time is :0:02:14\n",
      "part 12 of data was trained\n",
      "Optimization Iteration:  10801, Training Accuracy:  88.2%\n",
      "Training time since the start : 0:00:00\n",
      "Optimization Iteration:  10901, Training Accuracy:  89.5%\n",
      "Training time since the start : 0:00:25\n",
      "Optimization Iteration:  11001, Training Accuracy:  91.5%\n",
      "Training time since the start : 0:00:49\n",
      "Optimization Iteration:  11101, Training Accuracy:  89.2%\n",
      "Training time since the start : 0:01:14\n",
      "Optimization Iteration:  11201, Training Accuracy:  90.0%\n",
      "Training time since the start : 0:01:39\n",
      "Optimization Iteration:  11301, Training Accuracy:  88.2%\n",
      "Training time since the start : 0:02:03\n",
      "Optimization Iteration:  11401, Training Accuracy:  90.5%\n",
      "Training time since the start : 0:02:28\n",
      "Optimization Iteration:  11501, Training Accuracy:  88.7%\n",
      "Training time since the start : 0:02:52\n",
      "Optimization Iteration:  11601, Training Accuracy:  87.7%\n",
      "Training time since the start : 0:03:17\n",
      "Time usage: 0:03:41\n",
      "Accuracy on Test-Set: 68.8% (6880 / 10000)\n"
     ]
    },
    {
     "name": "stderr",
     "output_type": "stream",
     "text": [
      "100%|████████████████████████████████████████████████████████████████████████████████████████████████████████████████████████████████████████████████████████████████████████████████████████████| 100000/100000 [00:05<00:00, 18604.83it/s]\n"
     ]
    },
    {
     "name": "stdout",
     "output_type": "stream",
     "text": [
      "Load time is :0:02:14\n",
      "part 13 of data was trained\n",
      "Optimization Iteration:  11701, Training Accuracy:  93.0%\n",
      "Training time since the start : 0:00:00\n",
      "Optimization Iteration:  11801, Training Accuracy:  88.2%\n",
      "Training time since the start : 0:00:25\n",
      "Optimization Iteration:  11901, Training Accuracy:  86.8%\n",
      "Training time since the start : 0:00:50\n",
      "Optimization Iteration:  12001, Training Accuracy:  93.8%\n",
      "Training time since the start : 0:01:15\n",
      "Optimization Iteration:  12101, Training Accuracy:  92.0%\n",
      "Training time since the start : 0:01:39\n",
      "Optimization Iteration:  12201, Training Accuracy:  93.8%\n",
      "Training time since the start : 0:02:04\n",
      "Optimization Iteration:  12301, Training Accuracy:  92.0%\n",
      "Training time since the start : 0:02:28\n",
      "Optimization Iteration:  12401, Training Accuracy:  92.0%\n",
      "Training time since the start : 0:02:53\n",
      "Optimization Iteration:  12501, Training Accuracy:  88.7%\n",
      "Training time since the start : 0:03:17\n",
      "Time usage: 0:03:42\n",
      "Accuracy on Test-Set: 71.6% (7160 / 10000)\n"
     ]
    },
    {
     "name": "stderr",
     "output_type": "stream",
     "text": [
      "100%|████████████████████████████████████████████████████████████████████████████████████████████████████████████████████████████████████████████████████████████████████████████████████████████| 100000/100000 [00:05<00:00, 18788.63it/s]\n"
     ]
    },
    {
     "name": "stdout",
     "output_type": "stream",
     "text": [
      "Load time is :0:02:15\n",
      "part 14 of data was trained\n",
      "Optimization Iteration:  12601, Training Accuracy:  91.0%\n",
      "Training time since the start : 0:00:00\n",
      "Optimization Iteration:  12701, Training Accuracy:  93.3%\n",
      "Training time since the start : 0:00:25\n",
      "Optimization Iteration:  12801, Training Accuracy:  91.3%\n",
      "Training time since the start : 0:00:50\n",
      "Optimization Iteration:  12901, Training Accuracy:  91.5%\n",
      "Training time since the start : 0:01:14\n",
      "Optimization Iteration:  13001, Training Accuracy:  92.3%\n",
      "Training time since the start : 0:01:39\n",
      "Optimization Iteration:  13101, Training Accuracy:  91.5%\n",
      "Training time since the start : 0:02:03\n",
      "Optimization Iteration:  13201, Training Accuracy:  90.5%\n",
      "Training time since the start : 0:02:28\n",
      "Optimization Iteration:  13301, Training Accuracy:  93.8%\n",
      "Training time since the start : 0:02:53\n",
      "Optimization Iteration:  13401, Training Accuracy:  93.0%\n",
      "Training time since the start : 0:03:17\n",
      "Time usage: 0:03:41\n",
      "Accuracy on Test-Set: 72.3% (7233 / 10000)\n"
     ]
    },
    {
     "name": "stderr",
     "output_type": "stream",
     "text": [
      "100%|████████████████████████████████████████████████████████████████████████████████████████████████████████████████████████████████████████████████████████████████████████████████████████████| 100000/100000 [00:05<00:00, 18757.66it/s]\n"
     ]
    },
    {
     "name": "stdout",
     "output_type": "stream",
     "text": [
      "Load time is :0:02:14\n",
      "part 15 of data was trained\n",
      "Optimization Iteration:  13501, Training Accuracy:  94.5%\n",
      "Training time since the start : 0:00:00\n",
      "Optimization Iteration:  13601, Training Accuracy:  90.2%\n",
      "Training time since the start : 0:00:25\n",
      "Optimization Iteration:  13701, Training Accuracy:  92.0%\n",
      "Training time since the start : 0:00:49\n",
      "Optimization Iteration:  13801, Training Accuracy:  91.0%\n",
      "Training time since the start : 0:01:14\n",
      "Optimization Iteration:  13901, Training Accuracy:  92.5%\n",
      "Training time since the start : 0:01:39\n",
      "Optimization Iteration:  14001, Training Accuracy:  94.5%\n",
      "Training time since the start : 0:02:03\n",
      "Optimization Iteration:  14101, Training Accuracy:  92.0%\n",
      "Training time since the start : 0:02:28\n",
      "Optimization Iteration:  14201, Training Accuracy:  89.0%\n",
      "Training time since the start : 0:02:52\n",
      "Optimization Iteration:  14301, Training Accuracy:  92.5%\n",
      "Training time since the start : 0:03:17\n",
      "Time usage: 0:03:41\n",
      "Accuracy on Test-Set: 73.2% (7325 / 10000)\n"
     ]
    },
    {
     "name": "stderr",
     "output_type": "stream",
     "text": [
      "100%|████████████████████████████████████████████████████████████████████████████████████████████████████████████████████████████████████████████████████████████████████████████████████████████| 100000/100000 [00:05<00:00, 18630.96it/s]\n"
     ]
    },
    {
     "name": "stdout",
     "output_type": "stream",
     "text": [
      "Load time is :0:02:11\n",
      "part 16 of data was trained\n",
      "Optimization Iteration:  14401, Training Accuracy:  92.3%\n",
      "Training time since the start : 0:00:00\n",
      "Optimization Iteration:  14501, Training Accuracy:  91.5%\n",
      "Training time since the start : 0:00:25\n",
      "Optimization Iteration:  14601, Training Accuracy:  89.7%\n",
      "Training time since the start : 0:00:50\n",
      "Optimization Iteration:  14701, Training Accuracy:  91.8%\n",
      "Training time since the start : 0:01:14\n",
      "Optimization Iteration:  14801, Training Accuracy:  93.8%\n",
      "Training time since the start : 0:01:39\n",
      "Optimization Iteration:  14901, Training Accuracy:  93.3%\n",
      "Training time since the start : 0:02:04\n",
      "Optimization Iteration:  15001, Training Accuracy:  92.8%\n",
      "Training time since the start : 0:02:28\n",
      "Optimization Iteration:  15101, Training Accuracy:  93.0%\n",
      "Training time since the start : 0:02:53\n",
      "Optimization Iteration:  15201, Training Accuracy:  91.5%\n",
      "Training time since the start : 0:03:17\n",
      "Time usage: 0:03:42\n",
      "Accuracy on Test-Set: 75.1% (7511 / 10000)\n"
     ]
    },
    {
     "name": "stderr",
     "output_type": "stream",
     "text": [
      "100%|████████████████████████████████████████████████████████████████████████████████████████████████████████████████████████████████████████████████████████████████████████████████████████████| 100000/100000 [00:05<00:00, 18012.29it/s]\n"
     ]
    },
    {
     "name": "stdout",
     "output_type": "stream",
     "text": [
      "Load time is :0:02:14\n",
      "part 17 of data was trained\n",
      "Optimization Iteration:  15301, Training Accuracy:  91.8%\n",
      "Training time since the start : 0:00:00\n",
      "Optimization Iteration:  15401, Training Accuracy:  94.0%\n",
      "Training time since the start : 0:00:25\n",
      "Optimization Iteration:  15501, Training Accuracy:  93.3%\n",
      "Training time since the start : 0:00:50\n",
      "Optimization Iteration:  15601, Training Accuracy:  93.8%\n",
      "Training time since the start : 0:01:14\n",
      "Optimization Iteration:  15701, Training Accuracy:  93.0%\n",
      "Training time since the start : 0:01:39\n",
      "Optimization Iteration:  15801, Training Accuracy:  93.0%\n",
      "Training time since the start : 0:02:04\n",
      "Optimization Iteration:  15901, Training Accuracy:  93.5%\n",
      "Training time since the start : 0:02:28\n",
      "Optimization Iteration:  16001, Training Accuracy:  93.0%\n",
      "Training time since the start : 0:02:53\n",
      "Optimization Iteration:  16101, Training Accuracy:  92.8%\n",
      "Training time since the start : 0:03:18\n",
      "Time usage: 0:03:42\n",
      "Accuracy on Test-Set: 76.2% (7617 / 10000)\n"
     ]
    },
    {
     "name": "stderr",
     "output_type": "stream",
     "text": [
      "100%|████████████████████████████████████████████████████████████████████████████████████████████████████████████████████████████████████████████████████████████████████████████████████████████| 100000/100000 [00:05<00:00, 18689.79it/s]\n"
     ]
    },
    {
     "name": "stdout",
     "output_type": "stream",
     "text": [
      "Load time is :0:02:12\n",
      "part 18 of data was trained\n",
      "Optimization Iteration:  16201, Training Accuracy:  93.3%\n",
      "Training time since the start : 0:00:00\n",
      "Optimization Iteration:  16301, Training Accuracy:  92.8%\n",
      "Training time since the start : 0:00:25\n",
      "Optimization Iteration:  16401, Training Accuracy:  91.8%\n",
      "Training time since the start : 0:00:50\n",
      "Optimization Iteration:  16501, Training Accuracy:  91.5%\n",
      "Training time since the start : 0:01:14\n",
      "Optimization Iteration:  16601, Training Accuracy:  95.5%\n",
      "Training time since the start : 0:01:39\n",
      "Optimization Iteration:  16701, Training Accuracy:  93.3%\n",
      "Training time since the start : 0:02:03\n",
      "Optimization Iteration:  16801, Training Accuracy:  94.7%\n",
      "Training time since the start : 0:02:28\n",
      "Optimization Iteration:  16901, Training Accuracy:  94.2%\n",
      "Training time since the start : 0:02:53\n",
      "Optimization Iteration:  17001, Training Accuracy:  94.5%\n",
      "Training time since the start : 0:03:17\n",
      "Time usage: 0:03:42\n",
      "Accuracy on Test-Set: 77.5% (7751 / 10000)\n"
     ]
    },
    {
     "name": "stderr",
     "output_type": "stream",
     "text": [
      "100%|████████████████████████████████████████████████████████████████████████████████████████████████████████████████████████████████████████████████████████████████████████████████████████████| 100000/100000 [00:05<00:00, 18657.98it/s]\n"
     ]
    },
    {
     "name": "stdout",
     "output_type": "stream",
     "text": [
      "Load time is :0:02:15\n",
      "part 19 of data was trained\n",
      "Optimization Iteration:  17101, Training Accuracy:  91.8%\n",
      "Training time since the start : 0:00:00\n",
      "Optimization Iteration:  17201, Training Accuracy:  93.3%\n",
      "Training time since the start : 0:00:25\n",
      "Optimization Iteration:  17301, Training Accuracy:  94.2%\n",
      "Training time since the start : 0:00:50\n",
      "Optimization Iteration:  17401, Training Accuracy:  92.5%\n",
      "Training time since the start : 0:01:14\n",
      "Optimization Iteration:  17501, Training Accuracy:  96.0%\n",
      "Training time since the start : 0:01:39\n",
      "Optimization Iteration:  17601, Training Accuracy:  95.5%\n",
      "Training time since the start : 0:02:04\n",
      "Optimization Iteration:  17701, Training Accuracy:  94.7%\n",
      "Training time since the start : 0:02:28\n",
      "Optimization Iteration:  17801, Training Accuracy:  93.8%\n",
      "Training time since the start : 0:02:53\n",
      "Optimization Iteration:  17901, Training Accuracy:  93.0%\n",
      "Training time since the start : 0:03:18\n",
      "Time usage: 0:03:42\n",
      "Accuracy on Test-Set: 78.4% (7837 / 10000)\n",
      "EPOCH 3 has started\n"
     ]
    },
    {
     "name": "stderr",
     "output_type": "stream",
     "text": [
      "100%|████████████████████████████████████████████████████████████████████████████████████████████████████████████████████████████████████████████████████████████████████████████████████████████| 100000/100000 [00:05<00:00, 18391.02it/s]\n"
     ]
    },
    {
     "name": "stdout",
     "output_type": "stream",
     "text": [
      "Load time is :0:02:44\n",
      "part 20 of data was trained\n",
      "Optimization Iteration:  18001, Training Accuracy:  96.0%\n",
      "Training time since the start : 0:00:00\n",
      "Optimization Iteration:  18101, Training Accuracy:  92.3%\n",
      "Training time since the start : 0:00:25\n",
      "Optimization Iteration:  18201, Training Accuracy:  96.0%\n",
      "Training time since the start : 0:00:50\n",
      "Optimization Iteration:  18301, Training Accuracy:  96.5%\n",
      "Training time since the start : 0:01:14\n",
      "Optimization Iteration:  18401, Training Accuracy:  95.0%\n",
      "Training time since the start : 0:01:39\n",
      "Optimization Iteration:  18501, Training Accuracy:  95.5%\n",
      "Training time since the start : 0:02:04\n",
      "Optimization Iteration:  18601, Training Accuracy:  93.0%\n",
      "Training time since the start : 0:02:28\n",
      "Optimization Iteration:  18701, Training Accuracy:  95.5%\n",
      "Training time since the start : 0:02:53\n",
      "Optimization Iteration:  18801, Training Accuracy:  94.2%\n",
      "Training time since the start : 0:03:18\n",
      "Time usage: 0:03:42\n",
      "Accuracy on Test-Set: 80.1% (8009 / 10000)\n"
     ]
    },
    {
     "name": "stderr",
     "output_type": "stream",
     "text": [
      "100%|████████████████████████████████████████████████████████████████████████████████████████████████████████████████████████████████████████████████████████████████████████████████████████████| 100000/100000 [00:05<00:00, 18721.85it/s]\n"
     ]
    },
    {
     "name": "stdout",
     "output_type": "stream",
     "text": [
      "Load time is :0:02:30\n",
      "part 21 of data was trained\n",
      "Optimization Iteration:  18901, Training Accuracy:  94.5%\n",
      "Training time since the start : 0:00:00\n",
      "Optimization Iteration:  19001, Training Accuracy:  96.0%\n",
      "Training time since the start : 0:00:25\n",
      "Optimization Iteration:  19101, Training Accuracy:  95.0%\n",
      "Training time since the start : 0:00:50\n",
      "Optimization Iteration:  19201, Training Accuracy:  92.8%\n",
      "Training time since the start : 0:01:14\n",
      "Optimization Iteration:  19301, Training Accuracy:  95.0%\n",
      "Training time since the start : 0:01:39\n",
      "Optimization Iteration:  19401, Training Accuracy:  95.7%\n",
      "Training time since the start : 0:02:04\n",
      "Optimization Iteration:  19501, Training Accuracy:  93.5%\n",
      "Training time since the start : 0:02:28\n",
      "Optimization Iteration:  19601, Training Accuracy:  96.5%\n",
      "Training time since the start : 0:02:53\n",
      "Optimization Iteration:  19701, Training Accuracy:  95.5%\n",
      "Training time since the start : 0:03:18\n",
      "Time usage: 0:03:43\n",
      "Accuracy on Test-Set: 80.2% (8023 / 10000)\n"
     ]
    },
    {
     "name": "stderr",
     "output_type": "stream",
     "text": [
      "100%|████████████████████████████████████████████████████████████████████████████████████████████████████████████████████████████████████████████████████████████████████████████████████████████| 100000/100000 [00:05<00:00, 18703.79it/s]\n"
     ]
    },
    {
     "name": "stdout",
     "output_type": "stream",
     "text": [
      "Load time is :0:02:12\n",
      "part 22 of data was trained\n",
      "Optimization Iteration:  19801, Training Accuracy:  94.5%\n",
      "Training time since the start : 0:00:00\n",
      "Optimization Iteration:  19901, Training Accuracy:  97.3%\n",
      "Training time since the start : 0:00:25\n",
      "Optimization Iteration:  20001, Training Accuracy:  95.5%\n",
      "Training time since the start : 0:00:50\n",
      "Optimization Iteration:  20101, Training Accuracy:  93.8%\n",
      "Training time since the start : 0:01:14\n",
      "Optimization Iteration:  20201, Training Accuracy:  93.0%\n",
      "Training time since the start : 0:01:39\n",
      "Optimization Iteration:  20301, Training Accuracy:  95.0%\n",
      "Training time since the start : 0:02:04\n",
      "Optimization Iteration:  20401, Training Accuracy:  94.2%\n",
      "Training time since the start : 0:02:28\n",
      "Optimization Iteration:  20501, Training Accuracy:  94.5%\n",
      "Training time since the start : 0:02:53\n",
      "Optimization Iteration:  20601, Training Accuracy:  96.2%\n",
      "Training time since the start : 0:03:18\n",
      "Time usage: 0:03:42\n",
      "Accuracy on Test-Set: 82.2% (8218 / 10000)\n"
     ]
    },
    {
     "name": "stderr",
     "output_type": "stream",
     "text": [
      "100%|████████████████████████████████████████████████████████████████████████████████████████████████████████████████████████████████████████████████████████████████████████████████████████████| 100000/100000 [00:05<00:00, 18699.14it/s]\n"
     ]
    },
    {
     "name": "stdout",
     "output_type": "stream",
     "text": [
      "Load time is :0:02:16\n",
      "part 23 of data was trained\n",
      "Optimization Iteration:  20701, Training Accuracy:  96.0%\n",
      "Training time since the start : 0:00:00\n",
      "Optimization Iteration:  20801, Training Accuracy:  95.2%\n",
      "Training time since the start : 0:00:25\n",
      "Optimization Iteration:  20901, Training Accuracy:  96.0%\n",
      "Training time since the start : 0:00:50\n",
      "Optimization Iteration:  21001, Training Accuracy:  92.3%\n",
      "Training time since the start : 0:01:14\n",
      "Optimization Iteration:  21101, Training Accuracy:  97.3%\n",
      "Training time since the start : 0:01:39\n",
      "Optimization Iteration:  21201, Training Accuracy:  95.2%\n",
      "Training time since the start : 0:02:04\n",
      "Optimization Iteration:  21301, Training Accuracy:  96.7%\n",
      "Training time since the start : 0:02:28\n",
      "Optimization Iteration:  21401, Training Accuracy:  96.0%\n",
      "Training time since the start : 0:02:53\n",
      "Optimization Iteration:  21501, Training Accuracy:  95.2%\n",
      "Training time since the start : 0:03:18\n",
      "Time usage: 0:03:42\n",
      "Accuracy on Test-Set: 81.7% (8173 / 10000)\n"
     ]
    },
    {
     "name": "stderr",
     "output_type": "stream",
     "text": [
      "100%|████████████████████████████████████████████████████████████████████████████████████████████████████████████████████████████████████████████████████████████████████████████████████████████| 100000/100000 [00:05<00:00, 18775.19it/s]\n"
     ]
    },
    {
     "name": "stdout",
     "output_type": "stream",
     "text": [
      "Load time is :0:02:15\n",
      "part 24 of data was trained\n",
      "Optimization Iteration:  21601, Training Accuracy:  96.2%\n",
      "Training time since the start : 0:00:00\n",
      "Optimization Iteration:  21701, Training Accuracy:  96.5%\n",
      "Training time since the start : 0:00:25\n",
      "Optimization Iteration:  21801, Training Accuracy:  97.0%\n",
      "Training time since the start : 0:00:50\n",
      "Optimization Iteration:  21901, Training Accuracy:  93.5%\n",
      "Training time since the start : 0:01:14\n",
      "Optimization Iteration:  22001, Training Accuracy:  94.7%\n",
      "Training time since the start : 0:01:39\n",
      "Optimization Iteration:  22101, Training Accuracy:  95.2%\n",
      "Training time since the start : 0:02:04\n",
      "Optimization Iteration:  22201, Training Accuracy:  94.5%\n",
      "Training time since the start : 0:02:28\n",
      "Optimization Iteration:  22301, Training Accuracy:  94.2%\n",
      "Training time since the start : 0:02:53\n",
      "Optimization Iteration:  22401, Training Accuracy:  97.0%\n",
      "Training time since the start : 0:03:18\n",
      "Time usage: 0:03:42\n",
      "Accuracy on Test-Set: 83.1% (8312 / 10000)\n"
     ]
    },
    {
     "name": "stderr",
     "output_type": "stream",
     "text": [
      "100%|████████████████████████████████████████████████████████████████████████████████████████████████████████████████████████████████████████████████████████████████████████████████████████████| 100000/100000 [00:05<00:00, 18717.73it/s]\n"
     ]
    },
    {
     "name": "stdout",
     "output_type": "stream",
     "text": [
      "Load time is :0:02:13\n",
      "part 25 of data was trained\n",
      "Optimization Iteration:  22501, Training Accuracy:  95.5%\n",
      "Training time since the start : 0:00:00\n",
      "Optimization Iteration:  22601, Training Accuracy:  91.8%\n",
      "Training time since the start : 0:00:25\n",
      "Optimization Iteration:  22701, Training Accuracy:  94.2%\n",
      "Training time since the start : 0:00:50\n",
      "Optimization Iteration:  22801, Training Accuracy:  96.2%\n",
      "Training time since the start : 0:01:14\n",
      "Optimization Iteration:  22901, Training Accuracy:  95.2%\n",
      "Training time since the start : 0:01:39\n",
      "Optimization Iteration:  23001, Training Accuracy:  92.5%\n",
      "Training time since the start : 0:02:03\n",
      "Optimization Iteration:  23101, Training Accuracy:  94.5%\n",
      "Training time since the start : 0:02:28\n",
      "Optimization Iteration:  23201, Training Accuracy:  95.5%\n",
      "Training time since the start : 0:02:53\n",
      "Optimization Iteration:  23301, Training Accuracy:  95.7%\n",
      "Training time since the start : 0:03:17\n",
      "Time usage: 0:03:42\n",
      "Accuracy on Test-Set: 83.2% (8324 / 10000)\n"
     ]
    },
    {
     "name": "stderr",
     "output_type": "stream",
     "text": [
      "100%|████████████████████████████████████████████████████████████████████████████████████████████████████████████████████████████████████████████████████████████████████████████████████████████| 100000/100000 [00:05<00:00, 18631.03it/s]\n"
     ]
    },
    {
     "name": "stdout",
     "output_type": "stream",
     "text": [
      "Load time is :0:02:12\n",
      "part 26 of data was trained\n",
      "Optimization Iteration:  23401, Training Accuracy:  96.7%\n",
      "Training time since the start : 0:00:00\n",
      "Optimization Iteration:  23501, Training Accuracy:  97.0%\n",
      "Training time since the start : 0:00:25\n",
      "Optimization Iteration:  23601, Training Accuracy:  96.7%\n",
      "Training time since the start : 0:00:50\n",
      "Optimization Iteration:  23701, Training Accuracy:  96.5%\n",
      "Training time since the start : 0:01:14\n",
      "Optimization Iteration:  23801, Training Accuracy:  97.0%\n",
      "Training time since the start : 0:01:39\n",
      "Optimization Iteration:  23901, Training Accuracy:  95.0%\n",
      "Training time since the start : 0:02:04\n",
      "Optimization Iteration:  24001, Training Accuracy:  97.5%\n",
      "Training time since the start : 0:02:29\n",
      "Optimization Iteration:  24101, Training Accuracy:  95.5%\n",
      "Training time since the start : 0:02:53\n",
      "Optimization Iteration:  24201, Training Accuracy:  98.0%\n",
      "Training time since the start : 0:03:18\n",
      "Time usage: 0:03:42\n",
      "Accuracy on Test-Set: 83.6% (8358 / 10000)\n"
     ]
    },
    {
     "name": "stderr",
     "output_type": "stream",
     "text": [
      "100%|████████████████████████████████████████████████████████████████████████████████████████████████████████████████████████████████████████████████████████████████████████████████████████████| 100000/100000 [00:05<00:00, 17849.77it/s]\n"
     ]
    },
    {
     "name": "stdout",
     "output_type": "stream",
     "text": [
      "Load time is :0:02:10\n",
      "part 27 of data was trained\n",
      "Optimization Iteration:  24301, Training Accuracy:  94.0%\n",
      "Training time since the start : 0:00:00\n",
      "Optimization Iteration:  24401, Training Accuracy:  95.7%\n",
      "Training time since the start : 0:00:25\n",
      "Optimization Iteration:  24501, Training Accuracy:  95.7%\n",
      "Training time since the start : 0:00:50\n",
      "Optimization Iteration:  24601, Training Accuracy:  95.7%\n",
      "Training time since the start : 0:01:14\n",
      "Optimization Iteration:  24701, Training Accuracy:  95.2%\n",
      "Training time since the start : 0:01:39\n",
      "Optimization Iteration:  24801, Training Accuracy:  93.5%\n",
      "Training time since the start : 0:02:04\n",
      "Optimization Iteration:  24901, Training Accuracy:  96.7%\n",
      "Training time since the start : 0:02:29\n",
      "Optimization Iteration:  25001, Training Accuracy:  95.5%\n",
      "Training time since the start : 0:02:53\n",
      "Optimization Iteration:  25101, Training Accuracy:  94.0%\n",
      "Training time since the start : 0:03:18\n",
      "Time usage: 0:03:42\n",
      "Accuracy on Test-Set: 84.8% (8480 / 10000)\n"
     ]
    },
    {
     "name": "stderr",
     "output_type": "stream",
     "text": [
      "100%|████████████████████████████████████████████████████████████████████████████████████████████████████████████████████████████████████████████████████████████████████████████████████████████| 100000/100000 [00:05<00:00, 18276.55it/s]\n"
     ]
    },
    {
     "name": "stdout",
     "output_type": "stream",
     "text": [
      "Load time is :0:02:10\n",
      "part 28 of data was trained\n",
      "Optimization Iteration:  25201, Training Accuracy:  95.5%\n",
      "Training time since the start : 0:00:00\n",
      "Optimization Iteration:  25301, Training Accuracy:  96.5%\n",
      "Training time since the start : 0:00:25\n",
      "Optimization Iteration:  25401, Training Accuracy:  95.7%\n",
      "Training time since the start : 0:00:50\n",
      "Optimization Iteration:  25501, Training Accuracy:  96.2%\n",
      "Training time since the start : 0:01:14\n",
      "Optimization Iteration:  25601, Training Accuracy:  99.0%\n",
      "Training time since the start : 0:01:39\n",
      "Optimization Iteration:  25701, Training Accuracy:  96.7%\n",
      "Training time since the start : 0:02:04\n",
      "Optimization Iteration:  25801, Training Accuracy:  95.0%\n",
      "Training time since the start : 0:02:28\n",
      "Optimization Iteration:  25901, Training Accuracy:  95.7%\n",
      "Training time since the start : 0:02:53\n",
      "Optimization Iteration:  26001, Training Accuracy:  94.5%\n",
      "Training time since the start : 0:03:17\n",
      "Time usage: 0:03:42\n",
      "Accuracy on Test-Set: 85.4% (8539 / 10000)\n"
     ]
    },
    {
     "name": "stderr",
     "output_type": "stream",
     "text": [
      "100%|████████████████████████████████████████████████████████████████████████████████████████████████████████████████████████████████████████████████████████████████████████████████████████████| 100000/100000 [00:05<00:00, 18722.04it/s]\n"
     ]
    },
    {
     "name": "stdout",
     "output_type": "stream",
     "text": [
      "Load time is :0:02:15\n",
      "part 29 of data was trained\n",
      "Optimization Iteration:  26101, Training Accuracy:  94.5%\n",
      "Training time since the start : 0:00:00\n",
      "Optimization Iteration:  26201, Training Accuracy:  96.7%\n",
      "Training time since the start : 0:00:25\n",
      "Optimization Iteration:  26301, Training Accuracy:  95.7%\n",
      "Training time since the start : 0:00:49\n",
      "Optimization Iteration:  26401, Training Accuracy:  97.5%\n",
      "Training time since the start : 0:01:14\n",
      "Optimization Iteration:  26501, Training Accuracy:  95.0%\n",
      "Training time since the start : 0:01:39\n",
      "Optimization Iteration:  26601, Training Accuracy:  95.5%\n",
      "Training time since the start : 0:02:03\n",
      "Optimization Iteration:  26701, Training Accuracy:  96.0%\n",
      "Training time since the start : 0:02:28\n",
      "Optimization Iteration:  26801, Training Accuracy:  95.7%\n",
      "Training time since the start : 0:02:52\n",
      "Optimization Iteration:  26901, Training Accuracy:  94.2%\n",
      "Training time since the start : 0:03:17\n",
      "Time usage: 0:03:41\n",
      "Accuracy on Test-Set: 85.2% (8518 / 10000)\n",
      "EPOCH 4 has started\n"
     ]
    },
    {
     "name": "stderr",
     "output_type": "stream",
     "text": [
      "100%|████████████████████████████████████████████████████████████████████████████████████████████████████████████████████████████████████████████████████████████████████████████████████████████| 100000/100000 [00:05<00:00, 18651.25it/s]\n"
     ]
    },
    {
     "name": "stdout",
     "output_type": "stream",
     "text": [
      "Load time is :0:02:37\n",
      "part 30 of data was trained\n",
      "Optimization Iteration:  27001, Training Accuracy:  95.0%\n",
      "Training time since the start : 0:00:00\n",
      "Optimization Iteration:  27101, Training Accuracy:  96.2%\n",
      "Training time since the start : 0:00:25\n",
      "Optimization Iteration:  27201, Training Accuracy:  96.5%\n",
      "Training time since the start : 0:00:50\n",
      "Optimization Iteration:  27301, Training Accuracy:  97.3%\n",
      "Training time since the start : 0:01:14\n",
      "Optimization Iteration:  27401, Training Accuracy:  95.2%\n",
      "Training time since the start : 0:01:39\n",
      "Optimization Iteration:  27501, Training Accuracy:  94.2%\n",
      "Training time since the start : 0:02:03\n",
      "Optimization Iteration:  27601, Training Accuracy:  96.7%\n",
      "Training time since the start : 0:02:28\n",
      "Optimization Iteration:  27701, Training Accuracy:  93.3%\n",
      "Training time since the start : 0:02:53\n",
      "Optimization Iteration:  27801, Training Accuracy:  97.3%\n",
      "Training time since the start : 0:03:18\n",
      "Time usage: 0:03:42\n",
      "Accuracy on Test-Set: 85.6% (8560 / 10000)\n"
     ]
    },
    {
     "name": "stderr",
     "output_type": "stream",
     "text": [
      "100%|████████████████████████████████████████████████████████████████████████████████████████████████████████████████████████████████████████████████████████████████████████████████████████████| 100000/100000 [00:05<00:00, 18657.46it/s]\n"
     ]
    },
    {
     "name": "stdout",
     "output_type": "stream",
     "text": [
      "Load time is :0:02:30\n",
      "part 31 of data was trained\n",
      "Optimization Iteration:  27901, Training Accuracy:  94.2%\n",
      "Training time since the start : 0:00:00\n",
      "Optimization Iteration:  28001, Training Accuracy:  96.7%\n",
      "Training time since the start : 0:00:25\n",
      "Optimization Iteration:  28101, Training Accuracy:  96.7%\n",
      "Training time since the start : 0:00:50\n",
      "Optimization Iteration:  28201, Training Accuracy:  96.0%\n",
      "Training time since the start : 0:01:14\n",
      "Optimization Iteration:  28301, Training Accuracy:  94.2%\n",
      "Training time since the start : 0:01:39\n",
      "Optimization Iteration:  28401, Training Accuracy:  95.7%\n",
      "Training time since the start : 0:02:03\n",
      "Optimization Iteration:  28501, Training Accuracy:  97.0%\n",
      "Training time since the start : 0:02:28\n",
      "Optimization Iteration:  28601, Training Accuracy:  96.2%\n",
      "Training time since the start : 0:02:52\n",
      "Optimization Iteration:  28701, Training Accuracy:  96.0%\n",
      "Training time since the start : 0:03:17\n",
      "Time usage: 0:03:41\n",
      "Accuracy on Test-Set: 85.1% (8513 / 10000)\n"
     ]
    },
    {
     "name": "stderr",
     "output_type": "stream",
     "text": [
      "100%|████████████████████████████████████████████████████████████████████████████████████████████████████████████████████████████████████████████████████████████████████████████████████████████| 100000/100000 [00:05<00:00, 18728.59it/s]\n"
     ]
    },
    {
     "name": "stdout",
     "output_type": "stream",
     "text": [
      "Load time is :0:02:13\n",
      "part 32 of data was trained\n",
      "Optimization Iteration:  28801, Training Accuracy:  95.0%\n",
      "Training time since the start : 0:00:00\n",
      "Optimization Iteration:  28901, Training Accuracy:  97.0%\n",
      "Training time since the start : 0:00:25\n",
      "Optimization Iteration:  29001, Training Accuracy:  95.5%\n",
      "Training time since the start : 0:00:50\n",
      "Optimization Iteration:  29101, Training Accuracy:  96.5%\n",
      "Training time since the start : 0:01:14\n",
      "Optimization Iteration:  29201, Training Accuracy:  95.2%\n",
      "Training time since the start : 0:01:39\n",
      "Optimization Iteration:  29301, Training Accuracy:  96.2%\n",
      "Training time since the start : 0:02:04\n",
      "Optimization Iteration:  29401, Training Accuracy:  97.5%\n",
      "Training time since the start : 0:02:28\n",
      "Optimization Iteration:  29501, Training Accuracy:  96.2%\n",
      "Training time since the start : 0:02:53\n",
      "Optimization Iteration:  29601, Training Accuracy:  98.0%\n",
      "Training time since the start : 0:03:18\n",
      "Time usage: 0:03:42\n",
      "Accuracy on Test-Set: 85.2% (8518 / 10000)\n"
     ]
    },
    {
     "name": "stderr",
     "output_type": "stream",
     "text": [
      "100%|████████████████████████████████████████████████████████████████████████████████████████████████████████████████████████████████████████████████████████████████████████████████████████████| 100000/100000 [00:05<00:00, 18760.11it/s]\n"
     ]
    },
    {
     "name": "stdout",
     "output_type": "stream",
     "text": [
      "Load time is :0:02:16\n",
      "part 33 of data was trained\n",
      "Optimization Iteration:  29701, Training Accuracy:  96.5%\n",
      "Training time since the start : 0:00:00\n",
      "Optimization Iteration:  29801, Training Accuracy:  97.0%\n",
      "Training time since the start : 0:00:25\n",
      "Optimization Iteration:  29901, Training Accuracy:  97.5%\n",
      "Training time since the start : 0:00:50\n",
      "Optimization Iteration:  30001, Training Accuracy:  96.7%\n",
      "Training time since the start : 0:01:14\n",
      "Optimization Iteration:  30101, Training Accuracy:  93.8%\n",
      "Training time since the start : 0:01:39\n",
      "Optimization Iteration:  30201, Training Accuracy:  96.5%\n",
      "Training time since the start : 0:02:04\n",
      "Optimization Iteration:  30301, Training Accuracy:  95.7%\n",
      "Training time since the start : 0:02:28\n",
      "Optimization Iteration:  30401, Training Accuracy:  96.5%\n",
      "Training time since the start : 0:02:53\n",
      "Optimization Iteration:  30501, Training Accuracy:  94.5%\n",
      "Training time since the start : 0:03:17\n",
      "Time usage: 0:03:42\n",
      "Accuracy on Test-Set: 87.1% (8711 / 10000)\n"
     ]
    },
    {
     "name": "stderr",
     "output_type": "stream",
     "text": [
      "100%|████████████████████████████████████████████████████████████████████████████████████████████████████████████████████████████████████████████████████████████████████████████████████████████| 100000/100000 [00:05<00:00, 18667.99it/s]\n"
     ]
    },
    {
     "name": "stdout",
     "output_type": "stream",
     "text": [
      "Load time is :0:02:13\n",
      "part 34 of data was trained\n",
      "Optimization Iteration:  30601, Training Accuracy:  95.2%\n",
      "Training time since the start : 0:00:00\n",
      "Optimization Iteration:  30701, Training Accuracy:  96.2%\n",
      "Training time since the start : 0:00:25\n",
      "Optimization Iteration:  30801, Training Accuracy:  98.0%\n",
      "Training time since the start : 0:00:50\n",
      "Optimization Iteration:  30901, Training Accuracy:  94.7%\n",
      "Training time since the start : 0:01:14\n",
      "Optimization Iteration:  31001, Training Accuracy:  96.5%\n",
      "Training time since the start : 0:01:39\n",
      "Optimization Iteration:  31101, Training Accuracy:  94.7%\n",
      "Training time since the start : 0:02:04\n",
      "Optimization Iteration:  31201, Training Accuracy:  98.3%\n",
      "Training time since the start : 0:02:29\n",
      "Optimization Iteration:  31301, Training Accuracy:  97.0%\n",
      "Training time since the start : 0:02:53\n",
      "Optimization Iteration:  31401, Training Accuracy:  97.3%\n",
      "Training time since the start : 0:03:18\n",
      "Time usage: 0:03:42\n",
      "Accuracy on Test-Set: 86.5% (8647 / 10000)\n"
     ]
    },
    {
     "name": "stderr",
     "output_type": "stream",
     "text": [
      "100%|████████████████████████████████████████████████████████████████████████████████████████████████████████████████████████████████████████████████████████████████████████████████████████████| 100000/100000 [00:05<00:00, 18659.61it/s]\n"
     ]
    },
    {
     "name": "stdout",
     "output_type": "stream",
     "text": [
      "Load time is :0:02:13\n",
      "part 35 of data was trained\n",
      "Optimization Iteration:  31501, Training Accuracy:  95.7%\n",
      "Training time since the start : 0:00:00\n",
      "Optimization Iteration:  31601, Training Accuracy:  98.0%\n",
      "Training time since the start : 0:00:25\n",
      "Optimization Iteration:  31701, Training Accuracy:  96.2%\n",
      "Training time since the start : 0:00:50\n",
      "Optimization Iteration:  31801, Training Accuracy:  95.7%\n",
      "Training time since the start : 0:01:14\n",
      "Optimization Iteration:  31901, Training Accuracy:  97.0%\n",
      "Training time since the start : 0:01:40\n",
      "Optimization Iteration:  32001, Training Accuracy:  98.3%\n",
      "Training time since the start : 0:02:04\n",
      "Optimization Iteration:  32101, Training Accuracy:  95.0%\n",
      "Training time since the start : 0:02:29\n",
      "Optimization Iteration:  32201, Training Accuracy:  95.5%\n",
      "Training time since the start : 0:02:54\n",
      "Optimization Iteration:  32301, Training Accuracy:  97.3%\n",
      "Training time since the start : 0:03:18\n",
      "Time usage: 0:03:43\n",
      "Accuracy on Test-Set: 87.9% (8790 / 10000)\n"
     ]
    },
    {
     "name": "stderr",
     "output_type": "stream",
     "text": [
      "100%|████████████████████████████████████████████████████████████████████████████████████████████████████████████████████████████████████████████████████████████████████████████████████████████| 100000/100000 [00:05<00:00, 18826.24it/s]\n"
     ]
    },
    {
     "name": "stdout",
     "output_type": "stream",
     "text": [
      "Load time is :0:02:12\n",
      "part 36 of data was trained\n",
      "Optimization Iteration:  32401, Training Accuracy:  98.8%\n",
      "Training time since the start : 0:00:00\n",
      "Optimization Iteration:  32501, Training Accuracy:  97.3%\n",
      "Training time since the start : 0:00:25\n",
      "Optimization Iteration:  32601, Training Accuracy:  97.3%\n",
      "Training time since the start : 0:00:50\n",
      "Optimization Iteration:  32701, Training Accuracy:  96.7%\n",
      "Training time since the start : 0:01:14\n",
      "Optimization Iteration:  32801, Training Accuracy:  97.5%\n",
      "Training time since the start : 0:01:39\n",
      "Optimization Iteration:  32901, Training Accuracy:  96.2%\n",
      "Training time since the start : 0:02:04\n",
      "Optimization Iteration:  33001, Training Accuracy:  97.3%\n",
      "Training time since the start : 0:02:28\n",
      "Optimization Iteration:  33101, Training Accuracy:  97.5%\n",
      "Training time since the start : 0:02:53\n",
      "Optimization Iteration:  33201, Training Accuracy:  95.0%\n",
      "Training time since the start : 0:03:18\n",
      "Time usage: 0:03:42\n",
      "Accuracy on Test-Set: 87.1% (8709 / 10000)\n"
     ]
    },
    {
     "name": "stderr",
     "output_type": "stream",
     "text": [
      "100%|████████████████████████████████████████████████████████████████████████████████████████████████████████████████████████████████████████████████████████████████████████████████████████████| 100000/100000 [00:05<00:00, 17989.11it/s]\n"
     ]
    },
    {
     "name": "stdout",
     "output_type": "stream",
     "text": [
      "Load time is :0:02:11\n",
      "part 37 of data was trained\n",
      "Optimization Iteration:  33301, Training Accuracy:  93.8%\n",
      "Training time since the start : 0:00:00\n",
      "Optimization Iteration:  33401, Training Accuracy:  95.7%\n",
      "Training time since the start : 0:00:25\n",
      "Optimization Iteration:  33501, Training Accuracy:  97.3%\n",
      "Training time since the start : 0:00:50\n",
      "Optimization Iteration:  33601, Training Accuracy:  95.0%\n",
      "Training time since the start : 0:01:14\n",
      "Optimization Iteration:  33701, Training Accuracy:  94.2%\n",
      "Training time since the start : 0:01:39\n",
      "Optimization Iteration:  33801, Training Accuracy:  96.5%\n",
      "Training time since the start : 0:02:03\n",
      "Optimization Iteration:  33901, Training Accuracy:  96.7%\n",
      "Training time since the start : 0:02:28\n",
      "Optimization Iteration:  34001, Training Accuracy:  97.0%\n",
      "Training time since the start : 0:02:52\n",
      "Optimization Iteration:  34101, Training Accuracy:  94.7%\n",
      "Training time since the start : 0:03:17\n",
      "Time usage: 0:03:41\n",
      "Accuracy on Test-Set: 87.8% (8779 / 10000)\n"
     ]
    },
    {
     "name": "stderr",
     "output_type": "stream",
     "text": [
      "100%|████████████████████████████████████████████████████████████████████████████████████████████████████████████████████████████████████████████████████████████████████████████████████████████| 100000/100000 [00:05<00:00, 18580.94it/s]\n"
     ]
    },
    {
     "name": "stdout",
     "output_type": "stream",
     "text": [
      "Load time is :0:02:11\n",
      "part 38 of data was trained\n",
      "Optimization Iteration:  34201, Training Accuracy:  98.3%\n",
      "Training time since the start : 0:00:00\n",
      "Optimization Iteration:  34301, Training Accuracy:  96.7%\n",
      "Training time since the start : 0:00:25\n",
      "Optimization Iteration:  34401, Training Accuracy:  95.7%\n",
      "Training time since the start : 0:00:50\n",
      "Optimization Iteration:  34501, Training Accuracy:  96.0%\n",
      "Training time since the start : 0:01:15\n",
      "Optimization Iteration:  34601, Training Accuracy:  97.5%\n",
      "Training time since the start : 0:01:39\n",
      "Optimization Iteration:  34701, Training Accuracy:  97.5%\n",
      "Training time since the start : 0:02:04\n",
      "Optimization Iteration:  34801, Training Accuracy:  97.0%\n",
      "Training time since the start : 0:02:29\n",
      "Optimization Iteration:  34901, Training Accuracy:  97.0%\n",
      "Training time since the start : 0:02:53\n",
      "Optimization Iteration:  35001, Training Accuracy:  96.2%\n",
      "Training time since the start : 0:03:18\n",
      "Time usage: 0:03:42\n",
      "Accuracy on Test-Set: 88.3% (8827 / 10000)\n"
     ]
    },
    {
     "name": "stderr",
     "output_type": "stream",
     "text": [
      "100%|████████████████████████████████████████████████████████████████████████████████████████████████████████████████████████████████████████████████████████████████████████████████████████████| 100000/100000 [00:05<00:00, 18655.21it/s]\n"
     ]
    },
    {
     "name": "stdout",
     "output_type": "stream",
     "text": [
      "Load time is :0:02:14\n",
      "part 39 of data was trained\n",
      "Optimization Iteration:  35101, Training Accuracy:  95.7%\n",
      "Training time since the start : 0:00:00\n",
      "Optimization Iteration:  35201, Training Accuracy:  96.7%\n",
      "Training time since the start : 0:00:25\n",
      "Optimization Iteration:  35301, Training Accuracy:  98.0%\n",
      "Training time since the start : 0:00:50\n",
      "Optimization Iteration:  35401, Training Accuracy:  97.5%\n",
      "Training time since the start : 0:01:14\n",
      "Optimization Iteration:  35501, Training Accuracy:  96.2%\n",
      "Training time since the start : 0:01:39\n",
      "Optimization Iteration:  35601, Training Accuracy:  97.3%\n",
      "Training time since the start : 0:02:04\n",
      "Optimization Iteration:  35701, Training Accuracy:  97.8%\n",
      "Training time since the start : 0:02:29\n",
      "Optimization Iteration:  35801, Training Accuracy:  96.7%\n",
      "Training time since the start : 0:02:53\n",
      "Optimization Iteration:  35901, Training Accuracy:  96.0%\n",
      "Training time since the start : 0:03:18\n",
      "Time usage: 0:03:43\n",
      "Accuracy on Test-Set: 87.6% (8759 / 10000)\n",
      "EPOCH 5 has started\n"
     ]
    },
    {
     "name": "stderr",
     "output_type": "stream",
     "text": [
      "100%|████████████████████████████████████████████████████████████████████████████████████████████████████████████████████████████████████████████████████████████████████████████████████████████| 100000/100000 [00:05<00:00, 18564.51it/s]\n"
     ]
    },
    {
     "name": "stdout",
     "output_type": "stream",
     "text": [
      "Load time is :0:02:30\n",
      "part 40 of data was trained\n",
      "Optimization Iteration:  36001, Training Accuracy:  98.8%\n",
      "Training time since the start : 0:00:00\n",
      "Optimization Iteration:  36101, Training Accuracy:  95.5%\n",
      "Training time since the start : 0:00:25\n",
      "Optimization Iteration:  36201, Training Accuracy:  96.5%\n",
      "Training time since the start : 0:00:50\n",
      "Optimization Iteration:  36301, Training Accuracy:  96.5%\n",
      "Training time since the start : 0:01:15\n",
      "Optimization Iteration:  36401, Training Accuracy:  97.8%\n",
      "Training time since the start : 0:01:41\n",
      "Optimization Iteration:  36501, Training Accuracy:  96.2%\n",
      "Training time since the start : 0:02:06\n",
      "Optimization Iteration:  36601, Training Accuracy:  96.7%\n",
      "Training time since the start : 0:02:31\n",
      "Optimization Iteration:  36701, Training Accuracy:  96.5%\n",
      "Training time since the start : 0:02:56\n",
      "Optimization Iteration:  36801, Training Accuracy:  96.5%\n",
      "Training time since the start : 0:03:20\n",
      "Time usage: 0:03:45\n",
      "Accuracy on Test-Set: 88.8% (8881 / 10000)\n"
     ]
    },
    {
     "name": "stderr",
     "output_type": "stream",
     "text": [
      "100%|████████████████████████████████████████████████████████████████████████████████████████████████████████████████████████████████████████████████████████████████████████████████████████████| 100000/100000 [00:05<00:00, 17992.14it/s]\n"
     ]
    },
    {
     "name": "stdout",
     "output_type": "stream",
     "text": [
      "Load time is :0:02:31\n",
      "part 41 of data was trained\n",
      "Optimization Iteration:  36901, Training Accuracy:  97.5%\n",
      "Training time since the start : 0:00:00\n",
      "Optimization Iteration:  37001, Training Accuracy:  97.3%\n",
      "Training time since the start : 0:00:25\n",
      "Optimization Iteration:  37101, Training Accuracy:  97.5%\n",
      "Training time since the start : 0:00:50\n",
      "Optimization Iteration:  37201, Training Accuracy:  97.3%\n",
      "Training time since the start : 0:01:15\n",
      "Optimization Iteration:  37301, Training Accuracy:  97.5%\n",
      "Training time since the start : 0:01:41\n",
      "Optimization Iteration:  37401, Training Accuracy:  97.0%\n",
      "Training time since the start : 0:02:07\n",
      "Optimization Iteration:  37501, Training Accuracy:  97.0%\n",
      "Training time since the start : 0:02:36\n",
      "Optimization Iteration:  37601, Training Accuracy:  97.3%\n",
      "Training time since the start : 0:03:04\n",
      "Optimization Iteration:  37701, Training Accuracy:  98.0%\n",
      "Training time since the start : 0:03:30\n",
      "Time usage: 0:03:57\n",
      "Accuracy on Test-Set: 89.0% (8898 / 10000)\n"
     ]
    },
    {
     "name": "stderr",
     "output_type": "stream",
     "text": [
      "100%|████████████████████████████████████████████████████████████████████████████████████████████████████████████████████████████████████████████████████████████████████████████████████████████| 100000/100000 [00:05<00:00, 16940.45it/s]\n"
     ]
    },
    {
     "name": "stdout",
     "output_type": "stream",
     "text": [
      "Load time is :0:02:29\n",
      "part 42 of data was trained\n",
      "Optimization Iteration:  37801, Training Accuracy:  97.3%\n",
      "Training time since the start : 0:00:00\n",
      "Optimization Iteration:  37901, Training Accuracy:  97.8%\n",
      "Training time since the start : 0:00:29\n",
      "Optimization Iteration:  38001, Training Accuracy:  97.3%\n",
      "Training time since the start : 0:00:57\n",
      "Optimization Iteration:  38101, Training Accuracy:  97.5%\n",
      "Training time since the start : 0:01:25\n",
      "Optimization Iteration:  38201, Training Accuracy:  96.2%\n",
      "Training time since the start : 0:01:53\n",
      "Optimization Iteration:  38301, Training Accuracy:  96.5%\n",
      "Training time since the start : 0:02:21\n",
      "Optimization Iteration:  38401, Training Accuracy:  96.5%\n",
      "Training time since the start : 0:02:49\n",
      "Optimization Iteration:  38501, Training Accuracy:  97.3%\n",
      "Training time since the start : 0:03:18\n",
      "Optimization Iteration:  38601, Training Accuracy:  97.3%\n",
      "Training time since the start : 0:03:46\n",
      "Time usage: 0:04:13\n",
      "Accuracy on Test-Set: 88.6% (8859 / 10000)\n"
     ]
    },
    {
     "name": "stderr",
     "output_type": "stream",
     "text": [
      "100%|████████████████████████████████████████████████████████████████████████████████████████████████████████████████████████████████████████████████████████████████████████████████████████████| 100000/100000 [00:05<00:00, 16995.48it/s]\n"
     ]
    },
    {
     "name": "stdout",
     "output_type": "stream",
     "text": [
      "Load time is :0:02:28\n",
      "part 43 of data was trained\n",
      "Optimization Iteration:  38701, Training Accuracy:  96.0%\n",
      "Training time since the start : 0:00:00\n",
      "Optimization Iteration:  38801, Training Accuracy:  97.0%\n",
      "Training time since the start : 0:00:28\n",
      "Optimization Iteration:  38901, Training Accuracy:  97.0%\n",
      "Training time since the start : 0:00:56\n",
      "Optimization Iteration:  39001, Training Accuracy:  98.3%\n",
      "Training time since the start : 0:01:25\n",
      "Optimization Iteration:  39101, Training Accuracy:  97.0%\n",
      "Training time since the start : 0:01:53\n",
      "Optimization Iteration:  39201, Training Accuracy:  97.5%\n",
      "Training time since the start : 0:02:21\n",
      "Optimization Iteration:  39301, Training Accuracy:  97.8%\n",
      "Training time since the start : 0:02:49\n",
      "Optimization Iteration:  39401, Training Accuracy:  97.5%\n",
      "Training time since the start : 0:03:17\n",
      "Optimization Iteration:  39501, Training Accuracy:  98.0%\n",
      "Training time since the start : 0:03:45\n",
      "Time usage: 0:04:12\n",
      "Accuracy on Test-Set: 89.1% (8906 / 10000)\n"
     ]
    },
    {
     "name": "stderr",
     "output_type": "stream",
     "text": [
      "100%|████████████████████████████████████████████████████████████████████████████████████████████████████████████████████████████████████████████████████████████████████████████████████████████| 100000/100000 [00:05<00:00, 16949.56it/s]\n"
     ]
    },
    {
     "name": "stdout",
     "output_type": "stream",
     "text": [
      "Load time is :0:02:33\n",
      "part 44 of data was trained\n",
      "Optimization Iteration:  39601, Training Accuracy:  98.0%\n",
      "Training time since the start : 0:00:00\n",
      "Optimization Iteration:  39701, Training Accuracy:  97.0%\n",
      "Training time since the start : 0:00:29\n",
      "Optimization Iteration:  39801, Training Accuracy:  98.0%\n",
      "Training time since the start : 0:00:57\n",
      "Optimization Iteration:  39901, Training Accuracy:  97.3%\n",
      "Training time since the start : 0:01:25\n",
      "Optimization Iteration:  40001, Training Accuracy:  95.7%\n",
      "Training time since the start : 0:01:54\n",
      "Optimization Iteration:  40101, Training Accuracy:  97.0%\n",
      "Training time since the start : 0:02:23\n",
      "Optimization Iteration:  40201, Training Accuracy:  97.5%\n",
      "Training time since the start : 0:02:51\n",
      "Optimization Iteration:  40301, Training Accuracy:  97.8%\n",
      "Training time since the start : 0:03:18\n",
      "Optimization Iteration:  40401, Training Accuracy:  97.8%\n",
      "Training time since the start : 0:03:47\n",
      "Time usage: 0:04:15\n",
      "Accuracy on Test-Set: 89.6% (8957 / 10000)\n"
     ]
    },
    {
     "name": "stderr",
     "output_type": "stream",
     "text": [
      "100%|████████████████████████████████████████████████████████████████████████████████████████████████████████████████████████████████████████████████████████████████████████████████████████████| 100000/100000 [00:05<00:00, 16969.01it/s]\n"
     ]
    },
    {
     "name": "stdout",
     "output_type": "stream",
     "text": [
      "Load time is :0:02:33\n",
      "part 45 of data was trained\n",
      "Optimization Iteration:  40501, Training Accuracy:  96.7%\n",
      "Training time since the start : 0:00:00\n",
      "Optimization Iteration:  40601, Training Accuracy:  96.5%\n",
      "Training time since the start : 0:00:29\n",
      "Optimization Iteration:  40701, Training Accuracy:  97.0%\n",
      "Training time since the start : 0:00:57\n",
      "Optimization Iteration:  40801, Training Accuracy:  97.5%\n",
      "Training time since the start : 0:01:25\n",
      "Optimization Iteration:  40901, Training Accuracy:  96.0%\n",
      "Training time since the start : 0:01:53\n",
      "Optimization Iteration:  41001, Training Accuracy:  97.0%\n",
      "Training time since the start : 0:02:18\n",
      "Optimization Iteration:  41101, Training Accuracy:  96.0%\n",
      "Training time since the start : 0:02:42\n",
      "Optimization Iteration:  41201, Training Accuracy:  96.5%\n",
      "Training time since the start : 0:03:07\n",
      "Optimization Iteration:  41301, Training Accuracy:  97.0%\n",
      "Training time since the start : 0:03:32\n",
      "Time usage: 0:03:56\n",
      "Accuracy on Test-Set: 89.4% (8936 / 10000)\n"
     ]
    },
    {
     "name": "stderr",
     "output_type": "stream",
     "text": [
      "100%|████████████████████████████████████████████████████████████████████████████████████████████████████████████████████████████████████████████████████████████████████████████████████████████| 100000/100000 [00:05<00:00, 18828.27it/s]\n"
     ]
    },
    {
     "name": "stdout",
     "output_type": "stream",
     "text": [
      "Load time is :0:02:11\n",
      "part 46 of data was trained\n",
      "Optimization Iteration:  41401, Training Accuracy:  98.0%\n",
      "Training time since the start : 0:00:00\n",
      "Optimization Iteration:  41501, Training Accuracy:  99.5%\n",
      "Training time since the start : 0:00:25\n",
      "Optimization Iteration:  41601, Training Accuracy:  98.5%\n",
      "Training time since the start : 0:00:50\n",
      "Optimization Iteration:  41701, Training Accuracy:  98.5%\n",
      "Training time since the start : 0:01:14\n",
      "Optimization Iteration:  41801, Training Accuracy:  98.0%\n",
      "Training time since the start : 0:01:39\n",
      "Optimization Iteration:  41901, Training Accuracy:  98.5%\n",
      "Training time since the start : 0:02:03\n",
      "Optimization Iteration:  42001, Training Accuracy:  95.5%\n",
      "Training time since the start : 0:02:28\n",
      "Optimization Iteration:  42101, Training Accuracy:  97.3%\n",
      "Training time since the start : 0:02:53\n",
      "Optimization Iteration:  42201, Training Accuracy:  98.0%\n",
      "Training time since the start : 0:03:17\n",
      "Time usage: 0:03:42\n",
      "Accuracy on Test-Set: 90.2% (9016 / 10000)\n"
     ]
    },
    {
     "name": "stderr",
     "output_type": "stream",
     "text": [
      "100%|████████████████████████████████████████████████████████████████████████████████████████████████████████████████████████████████████████████████████████████████████████████████████████████| 100000/100000 [00:05<00:00, 18661.95it/s]\n"
     ]
    },
    {
     "name": "stdout",
     "output_type": "stream",
     "text": [
      "Load time is :0:02:10\n",
      "part 47 of data was trained\n",
      "Optimization Iteration:  42301, Training Accuracy:  95.7%\n",
      "Training time since the start : 0:00:00\n",
      "Optimization Iteration:  42401, Training Accuracy:  96.7%\n",
      "Training time since the start : 0:00:25\n",
      "Optimization Iteration:  42501, Training Accuracy:  98.0%\n",
      "Training time since the start : 0:00:50\n",
      "Optimization Iteration:  42601, Training Accuracy:  98.3%\n",
      "Training time since the start : 0:01:14\n",
      "Optimization Iteration:  42701, Training Accuracy:  96.2%\n",
      "Training time since the start : 0:01:39\n",
      "Optimization Iteration:  42801, Training Accuracy:  97.3%\n",
      "Training time since the start : 0:02:03\n",
      "Optimization Iteration:  42901, Training Accuracy:  98.5%\n",
      "Training time since the start : 0:02:28\n",
      "Optimization Iteration:  43001, Training Accuracy:  97.5%\n",
      "Training time since the start : 0:02:52\n",
      "Optimization Iteration:  43101, Training Accuracy:  98.0%\n",
      "Training time since the start : 0:03:17\n",
      "Time usage: 0:03:41\n",
      "Accuracy on Test-Set: 89.2% (8924 / 10000)\n"
     ]
    },
    {
     "name": "stderr",
     "output_type": "stream",
     "text": [
      "100%|████████████████████████████████████████████████████████████████████████████████████████████████████████████████████████████████████████████████████████████████████████████████████████████| 100000/100000 [00:05<00:00, 18682.93it/s]\n"
     ]
    },
    {
     "name": "stdout",
     "output_type": "stream",
     "text": [
      "Load time is :0:02:11\n",
      "part 48 of data was trained\n",
      "Optimization Iteration:  43201, Training Accuracy:  98.0%\n",
      "Training time since the start : 0:00:00\n",
      "Optimization Iteration:  43301, Training Accuracy:  97.0%\n",
      "Training time since the start : 0:00:25\n",
      "Optimization Iteration:  43401, Training Accuracy:  98.5%\n",
      "Training time since the start : 0:00:50\n",
      "Optimization Iteration:  43501, Training Accuracy:  98.5%\n",
      "Training time since the start : 0:01:14\n",
      "Optimization Iteration:  43601, Training Accuracy:  98.3%\n",
      "Training time since the start : 0:01:39\n",
      "Optimization Iteration:  43701, Training Accuracy:  97.8%\n",
      "Training time since the start : 0:02:03\n",
      "Optimization Iteration:  43801, Training Accuracy:  98.3%\n",
      "Training time since the start : 0:02:28\n",
      "Optimization Iteration:  43901, Training Accuracy:  96.7%\n",
      "Training time since the start : 0:02:53\n",
      "Optimization Iteration:  44001, Training Accuracy:  97.0%\n",
      "Training time since the start : 0:03:17\n",
      "Time usage: 0:03:41\n",
      "Accuracy on Test-Set: 89.8% (8976 / 10000)\n"
     ]
    },
    {
     "name": "stderr",
     "output_type": "stream",
     "text": [
      "100%|████████████████████████████████████████████████████████████████████████████████████████████████████████████████████████████████████████████████████████████████████████████████████████████| 100000/100000 [00:05<00:00, 18742.09it/s]\n"
     ]
    },
    {
     "name": "stdout",
     "output_type": "stream",
     "text": [
      "Load time is :0:02:13\n",
      "part 49 of data was trained\n",
      "Optimization Iteration:  44101, Training Accuracy:  96.5%\n",
      "Training time since the start : 0:00:00\n",
      "Optimization Iteration:  44201, Training Accuracy:  97.5%\n",
      "Training time since the start : 0:00:25\n",
      "Optimization Iteration:  44301, Training Accuracy:  98.5%\n",
      "Training time since the start : 0:00:50\n",
      "Optimization Iteration:  44401, Training Accuracy:  96.2%\n",
      "Training time since the start : 0:01:14\n",
      "Optimization Iteration:  44501, Training Accuracy:  97.5%\n",
      "Training time since the start : 0:01:39\n",
      "Optimization Iteration:  44601, Training Accuracy:  97.3%\n",
      "Training time since the start : 0:02:03\n",
      "Optimization Iteration:  44701, Training Accuracy:  97.3%\n",
      "Training time since the start : 0:02:28\n",
      "Optimization Iteration:  44801, Training Accuracy:  97.3%\n",
      "Training time since the start : 0:02:52\n",
      "Optimization Iteration:  44901, Training Accuracy:  97.0%\n",
      "Training time since the start : 0:03:17\n",
      "Time usage: 0:03:41\n",
      "Accuracy on Test-Set: 89.4% (8936 / 10000)\n",
      "EPOCH 6 has started\n"
     ]
    },
    {
     "name": "stderr",
     "output_type": "stream",
     "text": [
      "100%|████████████████████████████████████████████████████████████████████████████████████████████████████████████████████████████████████████████████████████████████████████████████████████████| 100000/100000 [00:05<00:00, 18759.27it/s]\n"
     ]
    },
    {
     "name": "stdout",
     "output_type": "stream",
     "text": [
      "Load time is :0:02:25\n",
      "part 50 of data was trained\n",
      "Optimization Iteration:  45001, Training Accuracy:  96.5%\n",
      "Training time since the start : 0:00:00\n",
      "Optimization Iteration:  45101, Training Accuracy:  99.3%\n",
      "Training time since the start : 0:00:25\n",
      "Optimization Iteration:  45201, Training Accuracy:  97.8%\n",
      "Training time since the start : 0:00:50\n",
      "Optimization Iteration:  45301, Training Accuracy:  97.0%\n",
      "Training time since the start : 0:01:14\n",
      "Optimization Iteration:  45401, Training Accuracy:  98.0%\n",
      "Training time since the start : 0:01:39\n",
      "Optimization Iteration:  45501, Training Accuracy:  96.0%\n",
      "Training time since the start : 0:02:04\n",
      "Optimization Iteration:  45601, Training Accuracy:  99.0%\n",
      "Training time since the start : 0:02:28\n",
      "Optimization Iteration:  45701, Training Accuracy:  97.0%\n",
      "Training time since the start : 0:02:53\n",
      "Optimization Iteration:  45801, Training Accuracy:  98.0%\n",
      "Training time since the start : 0:03:17\n",
      "Time usage: 0:03:42\n",
      "Accuracy on Test-Set: 90.0% (9000 / 10000)\n"
     ]
    },
    {
     "name": "stderr",
     "output_type": "stream",
     "text": [
      "100%|████████████████████████████████████████████████████████████████████████████████████████████████████████████████████████████████████████████████████████████████████████████████████████████| 100000/100000 [00:05<00:00, 18658.35it/s]\n"
     ]
    },
    {
     "name": "stdout",
     "output_type": "stream",
     "text": [
      "Load time is :0:02:28\n",
      "part 51 of data was trained\n",
      "Optimization Iteration:  45901, Training Accuracy:  96.5%\n",
      "Training time since the start : 0:00:00\n",
      "Optimization Iteration:  46001, Training Accuracy:  98.3%\n",
      "Training time since the start : 0:00:25\n",
      "Optimization Iteration:  46101, Training Accuracy:  97.8%\n",
      "Training time since the start : 0:00:50\n",
      "Optimization Iteration:  46201, Training Accuracy:  97.8%\n",
      "Training time since the start : 0:01:14\n",
      "Optimization Iteration:  46301, Training Accuracy:  98.3%\n",
      "Training time since the start : 0:01:39\n",
      "Optimization Iteration:  46401, Training Accuracy:  98.3%\n",
      "Training time since the start : 0:02:03\n",
      "Optimization Iteration:  46501, Training Accuracy:  97.5%\n",
      "Training time since the start : 0:02:28\n",
      "Optimization Iteration:  46601, Training Accuracy:  98.3%\n",
      "Training time since the start : 0:02:52\n",
      "Optimization Iteration:  46701, Training Accuracy:  97.5%\n",
      "Training time since the start : 0:03:17\n",
      "Time usage: 0:03:41\n",
      "Accuracy on Test-Set: 90.7% (9070 / 10000)\n"
     ]
    },
    {
     "name": "stderr",
     "output_type": "stream",
     "text": [
      "100%|████████████████████████████████████████████████████████████████████████████████████████████████████████████████████████████████████████████████████████████████████████████████████████████| 100000/100000 [00:05<00:00, 18064.11it/s]\n"
     ]
    },
    {
     "name": "stdout",
     "output_type": "stream",
     "text": [
      "Load time is :0:02:13\n",
      "part 52 of data was trained\n",
      "Optimization Iteration:  46801, Training Accuracy:  98.3%\n",
      "Training time since the start : 0:00:00\n",
      "Optimization Iteration:  46901, Training Accuracy:  97.0%\n",
      "Training time since the start : 0:00:26\n",
      "Optimization Iteration:  47001, Training Accuracy:  96.7%\n",
      "Training time since the start : 0:00:51\n",
      "Optimization Iteration:  47101, Training Accuracy:  98.3%\n",
      "Training time since the start : 0:01:18\n",
      "Optimization Iteration:  47201, Training Accuracy:  96.7%\n",
      "Training time since the start : 0:01:46\n",
      "Optimization Iteration:  47301, Training Accuracy:  98.0%\n",
      "Training time since the start : 0:02:14\n",
      "Optimization Iteration:  47401, Training Accuracy:  98.8%\n",
      "Training time since the start : 0:02:43\n",
      "Optimization Iteration:  47501, Training Accuracy:  98.8%\n",
      "Training time since the start : 0:03:11\n",
      "Optimization Iteration:  47601, Training Accuracy:  98.0%\n",
      "Training time since the start : 0:03:38\n",
      "Time usage: 0:04:04\n",
      "Accuracy on Test-Set: 89.4% (8944 / 10000)\n"
     ]
    },
    {
     "name": "stderr",
     "output_type": "stream",
     "text": [
      "100%|████████████████████████████████████████████████████████████████████████████████████████████████████████████████████████████████████████████████████████████████████████████████████████████| 100000/100000 [00:05<00:00, 18450.65it/s]\n"
     ]
    },
    {
     "name": "stdout",
     "output_type": "stream",
     "text": [
      "Load time is :0:02:16\n",
      "part 53 of data was trained\n",
      "Optimization Iteration:  47701, Training Accuracy:  98.5%\n",
      "Training time since the start : 0:00:00\n",
      "Optimization Iteration:  47801, Training Accuracy:  96.7%\n",
      "Training time since the start : 0:00:26\n",
      "Optimization Iteration:  47901, Training Accuracy:  97.5%\n",
      "Training time since the start : 0:00:52\n",
      "Optimization Iteration:  48001, Training Accuracy:  98.5%\n",
      "Training time since the start : 0:01:17\n",
      "Optimization Iteration:  48101, Training Accuracy:  97.5%\n",
      "Training time since the start : 0:01:42\n",
      "Optimization Iteration:  48201, Training Accuracy:  97.0%\n",
      "Training time since the start : 0:02:08\n",
      "Optimization Iteration:  48301, Training Accuracy:  98.3%\n",
      "Training time since the start : 0:02:36\n",
      "Optimization Iteration:  48401, Training Accuracy:  97.5%\n",
      "Training time since the start : 0:03:04\n",
      "Optimization Iteration:  48501, Training Accuracy:  98.3%\n",
      "Training time since the start : 0:03:32\n",
      "Time usage: 0:04:00\n",
      "Accuracy on Test-Set: 90.6% (9062 / 10000)\n"
     ]
    },
    {
     "name": "stderr",
     "output_type": "stream",
     "text": [
      "100%|████████████████████████████████████████████████████████████████████████████████████████████████████████████████████████████████████████████████████████████████████████████████████████████| 100000/100000 [00:05<00:00, 16893.90it/s]\n"
     ]
    },
    {
     "name": "stdout",
     "output_type": "stream",
     "text": [
      "Load time is :0:02:33\n",
      "part 54 of data was trained\n",
      "Optimization Iteration:  48601, Training Accuracy:  99.3%\n",
      "Training time since the start : 0:00:00\n",
      "Optimization Iteration:  48701, Training Accuracy:  96.7%\n",
      "Training time since the start : 0:00:29\n",
      "Optimization Iteration:  48801, Training Accuracy:  96.2%\n",
      "Training time since the start : 0:00:57\n",
      "Optimization Iteration:  48901, Training Accuracy:  97.0%\n",
      "Training time since the start : 0:01:25\n",
      "Optimization Iteration:  49001, Training Accuracy:  98.3%\n",
      "Training time since the start : 0:01:53\n",
      "Optimization Iteration:  49101, Training Accuracy:  97.8%\n",
      "Training time since the start : 0:02:22\n",
      "Optimization Iteration:  49201, Training Accuracy:  97.8%\n",
      "Training time since the start : 0:02:50\n",
      "Optimization Iteration:  49301, Training Accuracy:  97.0%\n",
      "Training time since the start : 0:03:18\n",
      "Optimization Iteration:  49401, Training Accuracy:  98.3%\n",
      "Training time since the start : 0:03:46\n",
      "Time usage: 0:04:14\n",
      "Accuracy on Test-Set: 90.9% (9093 / 10000)\n"
     ]
    },
    {
     "name": "stderr",
     "output_type": "stream",
     "text": [
      "100%|████████████████████████████████████████████████████████████████████████████████████████████████████████████████████████████████████████████████████████████████████████████████████████████| 100000/100000 [00:05<00:00, 17306.50it/s]\n"
     ]
    },
    {
     "name": "stdout",
     "output_type": "stream",
     "text": [
      "Load time is :0:02:32\n",
      "part 55 of data was trained\n",
      "Optimization Iteration:  49501, Training Accuracy:  98.3%\n",
      "Training time since the start : 0:00:00\n",
      "Optimization Iteration:  49601, Training Accuracy:  97.8%\n",
      "Training time since the start : 0:00:29\n",
      "Optimization Iteration:  49701, Training Accuracy:  96.7%\n",
      "Training time since the start : 0:00:58\n",
      "Optimization Iteration:  49801, Training Accuracy:  97.3%\n",
      "Training time since the start : 0:01:26\n",
      "Optimization Iteration:  49901, Training Accuracy:  98.5%\n",
      "Training time since the start : 0:01:54\n",
      "Optimization Iteration:  50001, Training Accuracy:  98.5%\n",
      "Training time since the start : 0:02:22\n",
      "Optimization Iteration:  50101, Training Accuracy:  99.0%\n",
      "Training time since the start : 0:02:51\n",
      "Optimization Iteration:  50201, Training Accuracy:  99.8%\n",
      "Training time since the start : 0:03:19\n",
      "Optimization Iteration:  50301, Training Accuracy:  97.5%\n",
      "Training time since the start : 0:03:47\n",
      "Time usage: 0:04:15\n",
      "Accuracy on Test-Set: 90.6% (9061 / 10000)\n"
     ]
    },
    {
     "name": "stderr",
     "output_type": "stream",
     "text": [
      "100%|████████████████████████████████████████████████████████████████████████████████████████████████████████████████████████████████████████████████████████████████████████████████████████████| 100000/100000 [00:05<00:00, 18541.21it/s]\n"
     ]
    },
    {
     "name": "stdout",
     "output_type": "stream",
     "text": [
      "Load time is :0:02:20\n",
      "part 56 of data was trained\n",
      "Optimization Iteration:  50401, Training Accuracy:  96.7%\n",
      "Training time since the start : 0:00:00\n",
      "Optimization Iteration:  50501, Training Accuracy:  97.3%\n",
      "Training time since the start : 0:00:25\n",
      "Optimization Iteration:  50601, Training Accuracy:  97.5%\n",
      "Training time since the start : 0:00:50\n",
      "Optimization Iteration:  50701, Training Accuracy:  97.3%\n",
      "Training time since the start : 0:01:14\n",
      "Optimization Iteration:  50801, Training Accuracy:  99.0%\n",
      "Training time since the start : 0:01:39\n",
      "Optimization Iteration:  50901, Training Accuracy:  97.8%\n",
      "Training time since the start : 0:02:03\n",
      "Optimization Iteration:  51001, Training Accuracy:  98.3%\n",
      "Training time since the start : 0:02:28\n",
      "Optimization Iteration:  51101, Training Accuracy:  97.8%\n",
      "Training time since the start : 0:02:52\n",
      "Optimization Iteration:  51201, Training Accuracy:  96.7%\n",
      "Training time since the start : 0:03:17\n",
      "Time usage: 0:03:41\n",
      "Accuracy on Test-Set: 91.2% (9124 / 10000)\n"
     ]
    },
    {
     "name": "stderr",
     "output_type": "stream",
     "text": [
      "100%|████████████████████████████████████████████████████████████████████████████████████████████████████████████████████████████████████████████████████████████████████████████████████████████| 100000/100000 [00:05<00:00, 18459.31it/s]\n"
     ]
    },
    {
     "name": "stdout",
     "output_type": "stream",
     "text": [
      "Load time is :0:02:11\n",
      "part 57 of data was trained\n",
      "Optimization Iteration:  51301, Training Accuracy:  97.8%\n",
      "Training time since the start : 0:00:00\n",
      "Optimization Iteration:  51401, Training Accuracy:  98.0%\n",
      "Training time since the start : 0:00:25\n",
      "Optimization Iteration:  51501, Training Accuracy:  99.3%\n",
      "Training time since the start : 0:00:50\n",
      "Optimization Iteration:  51601, Training Accuracy:  96.7%\n",
      "Training time since the start : 0:01:14\n",
      "Optimization Iteration:  51701, Training Accuracy:  96.2%\n",
      "Training time since the start : 0:01:39\n",
      "Optimization Iteration:  51801, Training Accuracy:  97.8%\n",
      "Training time since the start : 0:02:03\n",
      "Optimization Iteration:  51901, Training Accuracy:  97.5%\n",
      "Training time since the start : 0:02:28\n",
      "Optimization Iteration:  52001, Training Accuracy:  97.3%\n",
      "Training time since the start : 0:02:53\n",
      "Optimization Iteration:  52101, Training Accuracy:  98.0%\n",
      "Training time since the start : 0:03:17\n",
      "Time usage: 0:03:42\n",
      "Accuracy on Test-Set: 90.9% (9089 / 10000)\n"
     ]
    },
    {
     "name": "stderr",
     "output_type": "stream",
     "text": [
      "100%|████████████████████████████████████████████████████████████████████████████████████████████████████████████████████████████████████████████████████████████████████████████████████████████| 100000/100000 [00:05<00:00, 18442.51it/s]\n"
     ]
    },
    {
     "name": "stdout",
     "output_type": "stream",
     "text": [
      "Load time is :0:02:10\n",
      "part 58 of data was trained\n",
      "Optimization Iteration:  52201, Training Accuracy:  97.5%\n",
      "Training time since the start : 0:00:00\n",
      "Optimization Iteration:  52301, Training Accuracy:  97.8%\n",
      "Training time since the start : 0:00:25\n",
      "Optimization Iteration:  52401, Training Accuracy:  96.0%\n",
      "Training time since the start : 0:00:50\n",
      "Optimization Iteration:  52501, Training Accuracy:  96.7%\n",
      "Training time since the start : 0:01:14\n",
      "Optimization Iteration:  52601, Training Accuracy:  97.3%\n",
      "Training time since the start : 0:01:39\n",
      "Optimization Iteration:  52701, Training Accuracy:  98.0%\n",
      "Training time since the start : 0:02:03\n",
      "Optimization Iteration:  52801, Training Accuracy:  98.0%\n",
      "Training time since the start : 0:02:28\n",
      "Optimization Iteration:  52901, Training Accuracy:  97.5%\n",
      "Training time since the start : 0:02:52\n",
      "Optimization Iteration:  53001, Training Accuracy:  97.0%\n",
      "Training time since the start : 0:03:17\n",
      "Time usage: 0:03:41\n",
      "Accuracy on Test-Set: 91.1% (9113 / 10000)\n"
     ]
    },
    {
     "name": "stderr",
     "output_type": "stream",
     "text": [
      "100%|████████████████████████████████████████████████████████████████████████████████████████████████████████████████████████████████████████████████████████████████████████████████████████████| 100000/100000 [00:05<00:00, 18540.99it/s]\n"
     ]
    },
    {
     "name": "stdout",
     "output_type": "stream",
     "text": [
      "Load time is :0:02:12\n",
      "part 59 of data was trained\n",
      "Optimization Iteration:  53101, Training Accuracy:  97.8%\n",
      "Training time since the start : 0:00:00\n",
      "Optimization Iteration:  53201, Training Accuracy:  97.5%\n",
      "Training time since the start : 0:00:25\n",
      "Optimization Iteration:  53301, Training Accuracy:  97.0%\n",
      "Training time since the start : 0:00:50\n",
      "Optimization Iteration:  53401, Training Accuracy:  98.0%\n",
      "Training time since the start : 0:01:14\n",
      "Optimization Iteration:  53501, Training Accuracy:  97.5%\n",
      "Training time since the start : 0:01:39\n",
      "Optimization Iteration:  53601, Training Accuracy:  96.5%\n",
      "Training time since the start : 0:02:03\n",
      "Optimization Iteration:  53701, Training Accuracy:  97.5%\n",
      "Training time since the start : 0:02:28\n",
      "Optimization Iteration:  53801, Training Accuracy:  96.7%\n",
      "Training time since the start : 0:02:53\n",
      "Optimization Iteration:  53901, Training Accuracy:  97.5%\n",
      "Training time since the start : 0:03:17\n",
      "Time usage: 0:03:42\n",
      "Accuracy on Test-Set: 91.2% (9120 / 10000)\n",
      "EPOCH 7 has started\n"
     ]
    },
    {
     "name": "stderr",
     "output_type": "stream",
     "text": [
      "100%|████████████████████████████████████████████████████████████████████████████████████████████████████████████████████████████████████████████████████████████████████████████████████████████| 100000/100000 [00:05<00:00, 18568.46it/s]\n"
     ]
    },
    {
     "name": "stdout",
     "output_type": "stream",
     "text": [
      "Load time is :0:02:23\n",
      "part 60 of data was trained\n",
      "Optimization Iteration:  54001, Training Accuracy:  97.8%\n",
      "Training time since the start : 0:00:00\n",
      "Optimization Iteration:  54101, Training Accuracy:  98.0%\n",
      "Training time since the start : 0:00:25\n",
      "Optimization Iteration:  54201, Training Accuracy:  96.7%\n",
      "Training time since the start : 0:00:50\n",
      "Optimization Iteration:  54301, Training Accuracy:  98.0%\n",
      "Training time since the start : 0:01:14\n",
      "Optimization Iteration:  54401, Training Accuracy:  97.5%\n",
      "Training time since the start : 0:01:39\n",
      "Optimization Iteration:  54501, Training Accuracy:  99.0%\n",
      "Training time since the start : 0:02:04\n",
      "Optimization Iteration:  54601, Training Accuracy:  98.8%\n",
      "Training time since the start : 0:02:28\n",
      "Optimization Iteration:  54701, Training Accuracy:  98.8%\n",
      "Training time since the start : 0:02:53\n",
      "Optimization Iteration:  54801, Training Accuracy:  97.8%\n",
      "Training time since the start : 0:03:17\n",
      "Time usage: 0:03:42\n",
      "Accuracy on Test-Set: 91.4% (9142 / 10000)\n"
     ]
    },
    {
     "name": "stderr",
     "output_type": "stream",
     "text": [
      "100%|████████████████████████████████████████████████████████████████████████████████████████████████████████████████████████████████████████████████████████████████████████████████████████████| 100000/100000 [00:05<00:00, 18600.39it/s]\n"
     ]
    },
    {
     "name": "stdout",
     "output_type": "stream",
     "text": [
      "Load time is :0:02:29\n",
      "part 61 of data was trained\n",
      "Optimization Iteration:  54901, Training Accuracy:  98.0%\n",
      "Training time since the start : 0:00:00\n",
      "Optimization Iteration:  55001, Training Accuracy:  98.0%\n",
      "Training time since the start : 0:00:25\n",
      "Optimization Iteration:  55101, Training Accuracy:  96.5%\n",
      "Training time since the start : 0:00:50\n",
      "Optimization Iteration:  55201, Training Accuracy:  95.5%\n",
      "Training time since the start : 0:01:14\n",
      "Optimization Iteration:  55301, Training Accuracy:  97.8%\n",
      "Training time since the start : 0:01:39\n",
      "Optimization Iteration:  55401, Training Accuracy:  97.8%\n",
      "Training time since the start : 0:02:04\n",
      "Optimization Iteration:  55501, Training Accuracy:  98.0%\n",
      "Training time since the start : 0:02:28\n",
      "Optimization Iteration:  55601, Training Accuracy:  99.3%\n",
      "Training time since the start : 0:02:53\n",
      "Optimization Iteration:  55701, Training Accuracy:  98.3%\n",
      "Training time since the start : 0:03:17\n",
      "Time usage: 0:03:42\n",
      "Accuracy on Test-Set: 91.2% (9125 / 10000)\n"
     ]
    },
    {
     "name": "stderr",
     "output_type": "stream",
     "text": [
      "100%|████████████████████████████████████████████████████████████████████████████████████████████████████████████████████████████████████████████████████████████████████████████████████████████| 100000/100000 [00:05<00:00, 18526.02it/s]\n"
     ]
    },
    {
     "name": "stdout",
     "output_type": "stream",
     "text": [
      "Load time is :0:02:12\n",
      "part 62 of data was trained\n",
      "Optimization Iteration:  55801, Training Accuracy:  98.3%\n",
      "Training time since the start : 0:00:00\n",
      "Optimization Iteration:  55901, Training Accuracy:  98.5%\n",
      "Training time since the start : 0:00:25\n",
      "Optimization Iteration:  56001, Training Accuracy:  97.8%\n",
      "Training time since the start : 0:00:50\n",
      "Optimization Iteration:  56101, Training Accuracy:  99.3%\n",
      "Training time since the start : 0:01:14\n",
      "Optimization Iteration:  56201, Training Accuracy:  96.5%\n",
      "Training time since the start : 0:01:39\n",
      "Optimization Iteration:  56301, Training Accuracy:  98.0%\n",
      "Training time since the start : 0:02:04\n",
      "Optimization Iteration:  56401, Training Accuracy:  99.0%\n",
      "Training time since the start : 0:02:28\n",
      "Optimization Iteration:  56501, Training Accuracy:  98.0%\n",
      "Training time since the start : 0:02:53\n",
      "Optimization Iteration:  56601, Training Accuracy:  95.7%\n",
      "Training time since the start : 0:03:17\n",
      "Time usage: 0:03:42\n",
      "Accuracy on Test-Set: 91.7% (9168 / 10000)\n"
     ]
    },
    {
     "name": "stderr",
     "output_type": "stream",
     "text": [
      "100%|████████████████████████████████████████████████████████████████████████████████████████████████████████████████████████████████████████████████████████████████████████████████████████████| 100000/100000 [00:05<00:00, 18542.36it/s]\n"
     ]
    },
    {
     "name": "stdout",
     "output_type": "stream",
     "text": [
      "Load time is :0:02:14\n",
      "part 63 of data was trained\n",
      "Optimization Iteration:  56701, Training Accuracy:  97.8%\n",
      "Training time since the start : 0:00:00\n",
      "Optimization Iteration:  56801, Training Accuracy:  98.0%\n",
      "Training time since the start : 0:00:25\n",
      "Optimization Iteration:  56901, Training Accuracy:  98.5%\n",
      "Training time since the start : 0:00:50\n",
      "Optimization Iteration:  57001, Training Accuracy:  98.0%\n",
      "Training time since the start : 0:01:14\n",
      "Optimization Iteration:  57101, Training Accuracy:  97.0%\n",
      "Training time since the start : 0:01:39\n",
      "Optimization Iteration:  57201, Training Accuracy:  96.5%\n",
      "Training time since the start : 0:02:03\n",
      "Optimization Iteration:  57301, Training Accuracy:  98.5%\n",
      "Training time since the start : 0:02:28\n",
      "Optimization Iteration:  57401, Training Accuracy:  97.8%\n",
      "Training time since the start : 0:02:53\n",
      "Optimization Iteration:  57501, Training Accuracy:  98.8%\n",
      "Training time since the start : 0:03:17\n",
      "Time usage: 0:03:42\n",
      "Accuracy on Test-Set: 91.9% (9189 / 10000)\n"
     ]
    },
    {
     "name": "stderr",
     "output_type": "stream",
     "text": [
      "100%|████████████████████████████████████████████████████████████████████████████████████████████████████████████████████████████████████████████████████████████████████████████████████████████| 100000/100000 [00:05<00:00, 18441.49it/s]\n"
     ]
    },
    {
     "name": "stdout",
     "output_type": "stream",
     "text": [
      "Load time is :0:02:15\n",
      "part 64 of data was trained\n",
      "Optimization Iteration:  57601, Training Accuracy:  98.8%\n",
      "Training time since the start : 0:00:00\n",
      "Optimization Iteration:  57701, Training Accuracy:  97.5%\n",
      "Training time since the start : 0:00:26\n",
      "Optimization Iteration:  57801, Training Accuracy:  98.8%\n",
      "Training time since the start : 0:00:51\n",
      "Optimization Iteration:  57901, Training Accuracy:  98.0%\n",
      "Training time since the start : 0:01:18\n",
      "Optimization Iteration:  58001, Training Accuracy:  97.8%\n",
      "Training time since the start : 0:01:44\n",
      "Optimization Iteration:  58101, Training Accuracy:  98.3%\n",
      "Training time since the start : 0:02:10\n",
      "Optimization Iteration:  58201, Training Accuracy:  98.5%\n",
      "Training time since the start : 0:02:37\n",
      "Optimization Iteration:  58301, Training Accuracy:  96.5%\n",
      "Training time since the start : 0:03:03\n",
      "Optimization Iteration:  58401, Training Accuracy:  98.8%\n",
      "Training time since the start : 0:03:29\n",
      "Time usage: 0:03:54\n",
      "Accuracy on Test-Set: 91.6% (9158 / 10000)\n"
     ]
    },
    {
     "name": "stderr",
     "output_type": "stream",
     "text": [
      "100%|████████████████████████████████████████████████████████████████████████████████████████████████████████████████████████████████████████████████████████████████████████████████████████████| 100000/100000 [00:05<00:00, 18101.87it/s]\n"
     ]
    },
    {
     "name": "stdout",
     "output_type": "stream",
     "text": [
      "Load time is :0:02:20\n",
      "part 65 of data was trained\n",
      "Optimization Iteration:  58501, Training Accuracy:  98.5%\n",
      "Training time since the start : 0:00:00\n",
      "Optimization Iteration:  58601, Training Accuracy:  98.0%\n",
      "Training time since the start : 0:00:26\n",
      "Optimization Iteration:  58701, Training Accuracy:  98.8%\n",
      "Training time since the start : 0:00:52\n",
      "Optimization Iteration:  58801, Training Accuracy:  97.0%\n",
      "Training time since the start : 0:01:17\n",
      "Optimization Iteration:  58901, Training Accuracy:  96.7%\n",
      "Training time since the start : 0:01:43\n",
      "Optimization Iteration:  59001, Training Accuracy:  98.0%\n",
      "Training time since the start : 0:02:09\n",
      "Optimization Iteration:  59101, Training Accuracy:  98.0%\n",
      "Training time since the start : 0:02:35\n",
      "Optimization Iteration:  59201, Training Accuracy:  98.5%\n",
      "Training time since the start : 0:03:01\n",
      "Optimization Iteration:  59301, Training Accuracy:  97.3%\n",
      "Training time since the start : 0:03:26\n",
      "Time usage: 0:03:51\n",
      "Accuracy on Test-Set: 92.1% (9208 / 10000)\n"
     ]
    },
    {
     "name": "stderr",
     "output_type": "stream",
     "text": [
      "100%|████████████████████████████████████████████████████████████████████████████████████████████████████████████████████████████████████████████████████████████████████████████████████████████| 100000/100000 [00:05<00:00, 18445.09it/s]\n"
     ]
    },
    {
     "name": "stdout",
     "output_type": "stream",
     "text": [
      "Load time is :0:02:09\n",
      "part 66 of data was trained\n",
      "Optimization Iteration:  59401, Training Accuracy:  98.5%\n",
      "Training time since the start : 0:00:00\n",
      "Optimization Iteration:  59501, Training Accuracy:  96.7%\n",
      "Training time since the start : 0:00:25\n",
      "Optimization Iteration:  59601, Training Accuracy:  96.7%\n",
      "Training time since the start : 0:00:50\n",
      "Optimization Iteration:  59701, Training Accuracy:  96.7%\n",
      "Training time since the start : 0:01:14\n",
      "Optimization Iteration:  59801, Training Accuracy:  98.0%\n",
      "Training time since the start : 0:01:39\n",
      "Optimization Iteration:  59901, Training Accuracy:  98.0%\n",
      "Training time since the start : 0:02:04\n",
      "Optimization Iteration:  60001, Training Accuracy:  98.8%\n",
      "Training time since the start : 0:02:28\n",
      "Optimization Iteration:  60101, Training Accuracy:  98.0%\n",
      "Training time since the start : 0:02:53\n",
      "Optimization Iteration:  60201, Training Accuracy:  96.7%\n",
      "Training time since the start : 0:03:18\n",
      "Time usage: 0:03:42\n",
      "Accuracy on Test-Set: 92.0% (9201 / 10000)\n"
     ]
    },
    {
     "name": "stderr",
     "output_type": "stream",
     "text": [
      "100%|████████████████████████████████████████████████████████████████████████████████████████████████████████████████████████████████████████████████████████████████████████████████████████████| 100000/100000 [00:05<00:00, 18503.60it/s]\n"
     ]
    },
    {
     "name": "stdout",
     "output_type": "stream",
     "text": [
      "Load time is :0:02:09\n",
      "part 67 of data was trained\n",
      "Optimization Iteration:  60301, Training Accuracy:  97.0%\n",
      "Training time since the start : 0:00:00\n",
      "Optimization Iteration:  60401, Training Accuracy:  98.8%\n",
      "Training time since the start : 0:00:25\n",
      "Optimization Iteration:  60501, Training Accuracy:  98.8%\n",
      "Training time since the start : 0:00:50\n",
      "Optimization Iteration:  60601, Training Accuracy:  97.3%\n",
      "Training time since the start : 0:01:14\n",
      "Optimization Iteration:  60701, Training Accuracy:  98.3%\n",
      "Training time since the start : 0:01:39\n",
      "Optimization Iteration:  60801, Training Accuracy:  97.8%\n",
      "Training time since the start : 0:02:04\n",
      "Optimization Iteration:  60901, Training Accuracy:  99.0%\n",
      "Training time since the start : 0:02:28\n",
      "Optimization Iteration:  61001, Training Accuracy:  99.0%\n",
      "Training time since the start : 0:02:53\n",
      "Optimization Iteration:  61101, Training Accuracy:  98.8%\n",
      "Training time since the start : 0:03:17\n",
      "Time usage: 0:03:42\n",
      "Accuracy on Test-Set: 92.2% (9216 / 10000)\n"
     ]
    },
    {
     "name": "stderr",
     "output_type": "stream",
     "text": [
      "100%|████████████████████████████████████████████████████████████████████████████████████████████████████████████████████████████████████████████████████████████████████████████████████████████| 100000/100000 [00:05<00:00, 18614.95it/s]\n"
     ]
    },
    {
     "name": "stdout",
     "output_type": "stream",
     "text": [
      "Load time is :0:02:09\n",
      "part 68 of data was trained\n",
      "Optimization Iteration:  61201, Training Accuracy:  98.5%\n",
      "Training time since the start : 0:00:00\n",
      "Optimization Iteration:  61301, Training Accuracy:  97.3%\n",
      "Training time since the start : 0:00:25\n",
      "Optimization Iteration:  61401, Training Accuracy:  98.0%\n",
      "Training time since the start : 0:00:50\n",
      "Optimization Iteration:  61501, Training Accuracy:  98.3%\n",
      "Training time since the start : 0:01:14\n",
      "Optimization Iteration:  61601, Training Accuracy:  99.3%\n",
      "Training time since the start : 0:01:39\n",
      "Optimization Iteration:  61701, Training Accuracy:  98.8%\n",
      "Training time since the start : 0:02:04\n",
      "Optimization Iteration:  61801, Training Accuracy:  98.5%\n",
      "Training time since the start : 0:02:28\n",
      "Optimization Iteration:  61901, Training Accuracy:  98.8%\n",
      "Training time since the start : 0:02:53\n",
      "Optimization Iteration:  62001, Training Accuracy:  97.5%\n",
      "Training time since the start : 0:03:18\n",
      "Time usage: 0:03:42\n",
      "Accuracy on Test-Set: 92.4% (9236 / 10000)\n"
     ]
    },
    {
     "name": "stderr",
     "output_type": "stream",
     "text": [
      "100%|████████████████████████████████████████████████████████████████████████████████████████████████████████████████████████████████████████████████████████████████████████████████████████████| 100000/100000 [00:05<00:00, 18613.68it/s]\n"
     ]
    },
    {
     "name": "stdout",
     "output_type": "stream",
     "text": [
      "Load time is :0:02:11\n",
      "part 69 of data was trained\n",
      "Optimization Iteration:  62101, Training Accuracy:  97.8%\n",
      "Training time since the start : 0:00:00\n",
      "Optimization Iteration:  62201, Training Accuracy:  98.3%\n",
      "Training time since the start : 0:00:25\n",
      "Optimization Iteration:  62301, Training Accuracy:  98.3%\n",
      "Training time since the start : 0:00:50\n",
      "Optimization Iteration:  62401, Training Accuracy:  98.3%\n",
      "Training time since the start : 0:01:14\n",
      "Optimization Iteration:  62501, Training Accuracy:  98.0%\n",
      "Training time since the start : 0:01:39\n",
      "Optimization Iteration:  62601, Training Accuracy:  98.0%\n",
      "Training time since the start : 0:02:03\n",
      "Optimization Iteration:  62701, Training Accuracy:  99.3%\n",
      "Training time since the start : 0:02:28\n",
      "Optimization Iteration:  62801, Training Accuracy:  98.5%\n",
      "Training time since the start : 0:02:53\n",
      "Optimization Iteration:  62901, Training Accuracy:  98.3%\n",
      "Training time since the start : 0:03:17\n",
      "Time usage: 0:03:42\n",
      "Accuracy on Test-Set: 92.6% (9259 / 10000)\n",
      "EPOCH 8 has started\n"
     ]
    },
    {
     "name": "stderr",
     "output_type": "stream",
     "text": [
      "100%|████████████████████████████████████████████████████████████████████████████████████████████████████████████████████████████████████████████████████████████████████████████████████████████| 100000/100000 [00:05<00:00, 18042.97it/s]\n"
     ]
    },
    {
     "name": "stdout",
     "output_type": "stream",
     "text": [
      "Load time is :0:02:20\n",
      "part 70 of data was trained\n",
      "Optimization Iteration:  63001, Training Accuracy:  98.3%\n",
      "Training time since the start : 0:00:00\n",
      "Optimization Iteration:  63101, Training Accuracy:  98.3%\n",
      "Training time since the start : 0:00:25\n",
      "Optimization Iteration:  63201, Training Accuracy:  97.5%\n",
      "Training time since the start : 0:00:50\n",
      "Optimization Iteration:  63301, Training Accuracy:  98.8%\n",
      "Training time since the start : 0:01:15\n",
      "Optimization Iteration:  63401, Training Accuracy:  97.5%\n",
      "Training time since the start : 0:01:40\n",
      "Optimization Iteration:  63501, Training Accuracy:  98.5%\n",
      "Training time since the start : 0:02:05\n",
      "Optimization Iteration:  63601, Training Accuracy:  99.0%\n",
      "Training time since the start : 0:02:30\n",
      "Optimization Iteration:  63701, Training Accuracy:  97.8%\n",
      "Training time since the start : 0:02:55\n",
      "Optimization Iteration:  63801, Training Accuracy:  98.3%\n",
      "Training time since the start : 0:03:20\n",
      "Time usage: 0:03:46\n",
      "Accuracy on Test-Set: 92.4% (9236 / 10000)\n"
     ]
    },
    {
     "name": "stderr",
     "output_type": "stream",
     "text": [
      "100%|████████████████████████████████████████████████████████████████████████████████████████████████████████████████████████████████████████████████████████████████████████████████████████████| 100000/100000 [00:05<00:00, 18399.80it/s]\n"
     ]
    },
    {
     "name": "stdout",
     "output_type": "stream",
     "text": [
      "Load time is :0:02:34\n",
      "part 71 of data was trained\n",
      "Optimization Iteration:  63901, Training Accuracy:  99.3%\n",
      "Training time since the start : 0:00:00\n",
      "Optimization Iteration:  64001, Training Accuracy:  98.5%\n",
      "Training time since the start : 0:00:25\n",
      "Optimization Iteration:  64101, Training Accuracy:  98.5%\n",
      "Training time since the start : 0:00:50\n",
      "Optimization Iteration:  64201, Training Accuracy:  98.5%\n",
      "Training time since the start : 0:01:14\n",
      "Optimization Iteration:  64301, Training Accuracy:  98.0%\n",
      "Training time since the start : 0:01:39\n",
      "Optimization Iteration:  64401, Training Accuracy:  97.5%\n",
      "Training time since the start : 0:02:04\n",
      "Optimization Iteration:  64501, Training Accuracy:  98.3%\n",
      "Training time since the start : 0:02:28\n",
      "Optimization Iteration:  64601, Training Accuracy:  98.5%\n",
      "Training time since the start : 0:02:53\n",
      "Optimization Iteration:  64701, Training Accuracy:  98.5%\n",
      "Training time since the start : 0:03:17\n",
      "Time usage: 0:03:42\n",
      "Accuracy on Test-Set: 92.3% (9226 / 10000)\n"
     ]
    },
    {
     "name": "stderr",
     "output_type": "stream",
     "text": [
      "100%|████████████████████████████████████████████████████████████████████████████████████████████████████████████████████████████████████████████████████████████████████████████████████████████| 100000/100000 [00:05<00:00, 18599.59it/s]\n"
     ]
    },
    {
     "name": "stdout",
     "output_type": "stream",
     "text": [
      "Load time is :0:02:13\n",
      "part 72 of data was trained\n",
      "Optimization Iteration:  64801, Training Accuracy:  98.5%\n",
      "Training time since the start : 0:00:00\n",
      "Optimization Iteration:  64901, Training Accuracy:  98.8%\n",
      "Training time since the start : 0:00:25\n",
      "Optimization Iteration:  65001, Training Accuracy:  99.0%\n",
      "Training time since the start : 0:00:50\n",
      "Optimization Iteration:  65101, Training Accuracy:  98.0%\n",
      "Training time since the start : 0:01:14\n",
      "Optimization Iteration:  65201, Training Accuracy:  98.3%\n",
      "Training time since the start : 0:01:39\n",
      "Optimization Iteration:  65301, Training Accuracy:  98.3%\n",
      "Training time since the start : 0:02:03\n",
      "Optimization Iteration:  65401, Training Accuracy:  98.8%\n",
      "Training time since the start : 0:02:28\n",
      "Optimization Iteration:  65501, Training Accuracy:  98.0%\n",
      "Training time since the start : 0:02:52\n",
      "Optimization Iteration:  65601, Training Accuracy:  98.5%\n",
      "Training time since the start : 0:03:17\n",
      "Time usage: 0:03:41\n",
      "Accuracy on Test-Set: 92.6% (9261 / 10000)\n"
     ]
    },
    {
     "name": "stderr",
     "output_type": "stream",
     "text": [
      "100%|████████████████████████████████████████████████████████████████████████████████████████████████████████████████████████████████████████████████████████████████████████████████████████████| 100000/100000 [00:05<00:00, 18582.32it/s]\n"
     ]
    },
    {
     "name": "stdout",
     "output_type": "stream",
     "text": [
      "Load time is :0:02:14\n",
      "part 73 of data was trained\n",
      "Optimization Iteration:  65701, Training Accuracy:  98.0%\n",
      "Training time since the start : 0:00:00\n",
      "Optimization Iteration:  65801, Training Accuracy:  97.8%\n",
      "Training time since the start : 0:00:25\n",
      "Optimization Iteration:  65901, Training Accuracy:  97.5%\n",
      "Training time since the start : 0:00:50\n",
      "Optimization Iteration:  66001, Training Accuracy:  97.8%\n",
      "Training time since the start : 0:01:14\n",
      "Optimization Iteration:  66101, Training Accuracy:  97.5%\n",
      "Training time since the start : 0:01:39\n",
      "Optimization Iteration:  66201, Training Accuracy:  99.0%\n",
      "Training time since the start : 0:02:03\n",
      "Optimization Iteration:  66301, Training Accuracy:  98.8%\n",
      "Training time since the start : 0:02:28\n",
      "Optimization Iteration:  66401, Training Accuracy:  98.5%\n",
      "Training time since the start : 0:02:53\n",
      "Optimization Iteration:  66501, Training Accuracy:  98.5%\n",
      "Training time since the start : 0:03:17\n",
      "Time usage: 0:03:42\n",
      "Accuracy on Test-Set: 92.8% (9276 / 10000)\n"
     ]
    },
    {
     "name": "stderr",
     "output_type": "stream",
     "text": [
      "100%|████████████████████████████████████████████████████████████████████████████████████████████████████████████████████████████████████████████████████████████████████████████████████████████| 100000/100000 [00:05<00:00, 18528.21it/s]\n"
     ]
    },
    {
     "name": "stdout",
     "output_type": "stream",
     "text": [
      "Load time is :0:02:13\n",
      "part 74 of data was trained\n",
      "Optimization Iteration:  66601, Training Accuracy:  99.5%\n",
      "Training time since the start : 0:00:00\n",
      "Optimization Iteration:  66701, Training Accuracy:  98.0%\n",
      "Training time since the start : 0:00:25\n",
      "Optimization Iteration:  66801, Training Accuracy:  98.3%\n",
      "Training time since the start : 0:00:50\n",
      "Optimization Iteration:  66901, Training Accuracy:  98.8%\n",
      "Training time since the start : 0:01:14\n",
      "Optimization Iteration:  67001, Training Accuracy:  98.5%\n",
      "Training time since the start : 0:01:39\n",
      "Optimization Iteration:  67101, Training Accuracy:  98.0%\n",
      "Training time since the start : 0:02:03\n",
      "Optimization Iteration:  67201, Training Accuracy:  99.0%\n",
      "Training time since the start : 0:02:28\n",
      "Optimization Iteration:  67301, Training Accuracy:  97.0%\n",
      "Training time since the start : 0:02:53\n",
      "Optimization Iteration:  67401, Training Accuracy:  98.3%\n",
      "Training time since the start : 0:03:17\n",
      "Time usage: 0:03:42\n",
      "Accuracy on Test-Set: 92.5% (9251 / 10000)\n"
     ]
    },
    {
     "name": "stderr",
     "output_type": "stream",
     "text": [
      "100%|████████████████████████████████████████████████████████████████████████████████████████████████████████████████████████████████████████████████████████████████████████████████████████████| 100000/100000 [00:05<00:00, 18523.66it/s]\n"
     ]
    },
    {
     "name": "stdout",
     "output_type": "stream",
     "text": [
      "Load time is :0:02:12\n",
      "part 75 of data was trained\n",
      "Optimization Iteration:  67501, Training Accuracy:  98.0%\n",
      "Training time since the start : 0:00:00\n",
      "Optimization Iteration:  67601, Training Accuracy:  99.3%\n",
      "Training time since the start : 0:00:25\n",
      "Optimization Iteration:  67701, Training Accuracy:  98.8%\n",
      "Training time since the start : 0:00:50\n",
      "Optimization Iteration:  67801, Training Accuracy:  98.3%\n",
      "Training time since the start : 0:01:14\n",
      "Optimization Iteration:  67901, Training Accuracy:  99.0%\n",
      "Training time since the start : 0:01:39\n",
      "Optimization Iteration:  68001, Training Accuracy:  98.5%\n",
      "Training time since the start : 0:02:03\n",
      "Optimization Iteration:  68101, Training Accuracy:  99.0%\n",
      "Training time since the start : 0:02:28\n",
      "Optimization Iteration:  68201, Training Accuracy:  98.0%\n",
      "Training time since the start : 0:02:53\n",
      "Optimization Iteration:  68301, Training Accuracy:  98.8%\n",
      "Training time since the start : 0:03:17\n",
      "Time usage: 0:03:41\n",
      "Accuracy on Test-Set: 92.8% (9279 / 10000)\n"
     ]
    },
    {
     "name": "stderr",
     "output_type": "stream",
     "text": [
      "100%|████████████████████████████████████████████████████████████████████████████████████████████████████████████████████████████████████████████████████████████████████████████████████████████| 100000/100000 [00:05<00:00, 18606.16it/s]\n"
     ]
    },
    {
     "name": "stdout",
     "output_type": "stream",
     "text": [
      "Load time is :0:02:11\n",
      "part 76 of data was trained\n",
      "Optimization Iteration:  68401, Training Accuracy:  99.3%\n",
      "Training time since the start : 0:00:00\n",
      "Optimization Iteration:  68501, Training Accuracy:  98.5%\n",
      "Training time since the start : 0:00:25\n",
      "Optimization Iteration:  68601, Training Accuracy:  98.3%\n",
      "Training time since the start : 0:00:50\n",
      "Optimization Iteration:  68701, Training Accuracy:  97.5%\n",
      "Training time since the start : 0:01:14\n",
      "Optimization Iteration:  68801, Training Accuracy:  97.5%\n",
      "Training time since the start : 0:01:39\n",
      "Optimization Iteration:  68901, Training Accuracy:  98.3%\n",
      "Training time since the start : 0:02:03\n",
      "Optimization Iteration:  69001, Training Accuracy:  98.8%\n",
      "Training time since the start : 0:02:28\n",
      "Optimization Iteration:  69101, Training Accuracy:  97.3%\n",
      "Training time since the start : 0:02:53\n",
      "Optimization Iteration:  69201, Training Accuracy:  97.3%\n",
      "Training time since the start : 0:03:17\n",
      "Time usage: 0:03:42\n",
      "Accuracy on Test-Set: 92.9% (9290 / 10000)\n"
     ]
    },
    {
     "name": "stderr",
     "output_type": "stream",
     "text": [
      "100%|████████████████████████████████████████████████████████████████████████████████████████████████████████████████████████████████████████████████████████████████████████████████████████████| 100000/100000 [00:05<00:00, 18680.39it/s]\n"
     ]
    },
    {
     "name": "stdout",
     "output_type": "stream",
     "text": [
      "Load time is :0:02:10\n",
      "part 77 of data was trained\n",
      "Optimization Iteration:  69301, Training Accuracy:  98.3%\n",
      "Training time since the start : 0:00:00\n",
      "Optimization Iteration:  69401, Training Accuracy:  99.5%\n",
      "Training time since the start : 0:00:25\n",
      "Optimization Iteration:  69501, Training Accuracy:  98.8%\n",
      "Training time since the start : 0:00:50\n",
      "Optimization Iteration:  69601, Training Accuracy:  98.8%\n",
      "Training time since the start : 0:01:14\n",
      "Optimization Iteration:  69701, Training Accuracy:  98.3%\n",
      "Training time since the start : 0:01:39\n",
      "Optimization Iteration:  69801, Training Accuracy:  98.5%\n",
      "Training time since the start : 0:02:03\n",
      "Optimization Iteration:  69901, Training Accuracy:  97.5%\n",
      "Training time since the start : 0:02:28\n",
      "Optimization Iteration:  70001, Training Accuracy:  98.3%\n",
      "Training time since the start : 0:02:53\n",
      "Optimization Iteration:  70101, Training Accuracy:  97.8%\n",
      "Training time since the start : 0:03:17\n",
      "Time usage: 0:03:41\n",
      "Accuracy on Test-Set: 92.5% (9253 / 10000)\n"
     ]
    },
    {
     "name": "stderr",
     "output_type": "stream",
     "text": [
      "100%|████████████████████████████████████████████████████████████████████████████████████████████████████████████████████████████████████████████████████████████████████████████████████████████| 100000/100000 [00:05<00:00, 18587.08it/s]\n"
     ]
    },
    {
     "name": "stdout",
     "output_type": "stream",
     "text": [
      "Load time is :0:02:10\n",
      "part 78 of data was trained\n",
      "Optimization Iteration:  70201, Training Accuracy:  98.8%\n",
      "Training time since the start : 0:00:00\n",
      "Optimization Iteration:  70301, Training Accuracy:  98.3%\n",
      "Training time since the start : 0:00:25\n",
      "Optimization Iteration:  70401, Training Accuracy:  99.3%\n",
      "Training time since the start : 0:00:49\n",
      "Optimization Iteration:  70501, Training Accuracy:  96.7%\n",
      "Training time since the start : 0:01:14\n",
      "Optimization Iteration:  70601, Training Accuracy:  98.3%\n",
      "Training time since the start : 0:01:38\n",
      "Optimization Iteration:  70701, Training Accuracy:  97.8%\n",
      "Training time since the start : 0:02:03\n",
      "Optimization Iteration:  70801, Training Accuracy:  97.8%\n",
      "Training time since the start : 0:02:28\n",
      "Optimization Iteration:  70901, Training Accuracy:  98.0%\n",
      "Training time since the start : 0:02:52\n",
      "Optimization Iteration:  71001, Training Accuracy:  97.3%\n",
      "Training time since the start : 0:03:17\n",
      "Time usage: 0:03:41\n",
      "Accuracy on Test-Set: 93.1% (9308 / 10000)\n"
     ]
    },
    {
     "name": "stderr",
     "output_type": "stream",
     "text": [
      "100%|████████████████████████████████████████████████████████████████████████████████████████████████████████████████████████████████████████████████████████████████████████████████████████████| 100000/100000 [00:05<00:00, 18611.88it/s]\n"
     ]
    },
    {
     "name": "stdout",
     "output_type": "stream",
     "text": [
      "Load time is :0:02:12\n",
      "part 79 of data was trained\n",
      "Optimization Iteration:  71101, Training Accuracy:  99.5%\n",
      "Training time since the start : 0:00:00\n",
      "Optimization Iteration:  71201, Training Accuracy:  98.3%\n",
      "Training time since the start : 0:00:25\n",
      "Optimization Iteration:  71301, Training Accuracy:  97.3%\n",
      "Training time since the start : 0:00:50\n",
      "Optimization Iteration:  71401, Training Accuracy:  97.3%\n",
      "Training time since the start : 0:01:14\n",
      "Optimization Iteration:  71501, Training Accuracy:  97.5%\n",
      "Training time since the start : 0:01:39\n",
      "Optimization Iteration:  71601, Training Accuracy:  98.3%\n",
      "Training time since the start : 0:02:03\n",
      "Optimization Iteration:  71701, Training Accuracy:  98.5%\n",
      "Training time since the start : 0:02:28\n",
      "Optimization Iteration:  71801, Training Accuracy:  98.3%\n",
      "Training time since the start : 0:02:53\n",
      "Optimization Iteration:  71901, Training Accuracy:  98.3%\n",
      "Training time since the start : 0:03:17\n",
      "Time usage: 0:03:42\n",
      "Accuracy on Test-Set: 92.2% (9223 / 10000)\n",
      "EPOCH 9 has started\n"
     ]
    },
    {
     "name": "stderr",
     "output_type": "stream",
     "text": [
      "100%|████████████████████████████████████████████████████████████████████████████████████████████████████████████████████████████████████████████████████████████████████████████████████████████| 100000/100000 [00:05<00:00, 18649.21it/s]\n"
     ]
    },
    {
     "name": "stdout",
     "output_type": "stream",
     "text": [
      "Load time is :0:02:19\n",
      "part 80 of data was trained\n",
      "Optimization Iteration:  72001, Training Accuracy:  98.5%\n",
      "Training time since the start : 0:00:00\n",
      "Optimization Iteration:  72101, Training Accuracy:  97.5%\n",
      "Training time since the start : 0:00:25\n",
      "Optimization Iteration:  72201, Training Accuracy:  99.0%\n",
      "Training time since the start : 0:00:50\n",
      "Optimization Iteration:  72301, Training Accuracy:  98.0%\n",
      "Training time since the start : 0:01:14\n",
      "Optimization Iteration:  72401, Training Accuracy:  99.5%\n",
      "Training time since the start : 0:01:39\n",
      "Optimization Iteration:  72501, Training Accuracy:  98.5%\n",
      "Training time since the start : 0:02:03\n",
      "Optimization Iteration:  72601, Training Accuracy:  98.8%\n",
      "Training time since the start : 0:02:28\n",
      "Optimization Iteration:  72701, Training Accuracy:  99.5%\n",
      "Training time since the start : 0:02:53\n",
      "Optimization Iteration:  72801, Training Accuracy:  99.5%\n",
      "Training time since the start : 0:03:17\n",
      "Time usage: 0:03:41\n",
      "Accuracy on Test-Set: 93.1% (9307 / 10000)\n"
     ]
    },
    {
     "name": "stderr",
     "output_type": "stream",
     "text": [
      "100%|████████████████████████████████████████████████████████████████████████████████████████████████████████████████████████████████████████████████████████████████████████████████████████████| 100000/100000 [00:05<00:00, 18655.87it/s]\n"
     ]
    },
    {
     "name": "stdout",
     "output_type": "stream",
     "text": [
      "Load time is :0:02:29\n",
      "part 81 of data was trained\n",
      "Optimization Iteration:  72901, Training Accuracy:  98.3%\n",
      "Training time since the start : 0:00:00\n",
      "Optimization Iteration:  73001, Training Accuracy:  98.0%\n",
      "Training time since the start : 0:00:25\n",
      "Optimization Iteration:  73101, Training Accuracy:  97.3%\n",
      "Training time since the start : 0:00:50\n",
      "Optimization Iteration:  73201, Training Accuracy:  96.5%\n",
      "Training time since the start : 0:01:14\n",
      "Optimization Iteration:  73301, Training Accuracy:  98.8%\n",
      "Training time since the start : 0:01:39\n",
      "Optimization Iteration:  73401, Training Accuracy:  98.3%\n",
      "Training time since the start : 0:02:03\n",
      "Optimization Iteration:  73501, Training Accuracy:  98.3%\n",
      "Training time since the start : 0:02:28\n",
      "Optimization Iteration:  73601, Training Accuracy:  97.3%\n",
      "Training time since the start : 0:02:53\n",
      "Optimization Iteration:  73701, Training Accuracy:  97.8%\n",
      "Training time since the start : 0:03:17\n",
      "Time usage: 0:03:41\n",
      "Accuracy on Test-Set: 92.9% (9290 / 10000)\n"
     ]
    },
    {
     "name": "stderr",
     "output_type": "stream",
     "text": [
      "100%|████████████████████████████████████████████████████████████████████████████████████████████████████████████████████████████████████████████████████████████████████████████████████████████| 100000/100000 [00:05<00:00, 18527.41it/s]\n"
     ]
    },
    {
     "name": "stdout",
     "output_type": "stream",
     "text": [
      "Load time is :0:02:13\n",
      "part 82 of data was trained\n",
      "Optimization Iteration:  73801, Training Accuracy:  98.8%\n",
      "Training time since the start : 0:00:00\n",
      "Optimization Iteration:  73901, Training Accuracy:  99.0%\n",
      "Training time since the start : 0:00:25\n",
      "Optimization Iteration:  74001, Training Accuracy:  96.5%\n",
      "Training time since the start : 0:00:50\n",
      "Optimization Iteration:  74101, Training Accuracy:  97.5%\n",
      "Training time since the start : 0:01:14\n",
      "Optimization Iteration:  74201, Training Accuracy:  99.0%\n",
      "Training time since the start : 0:01:39\n",
      "Optimization Iteration:  74301, Training Accuracy:  97.0%\n",
      "Training time since the start : 0:02:03\n",
      "Optimization Iteration:  74401, Training Accuracy:  98.8%\n",
      "Training time since the start : 0:02:28\n",
      "Optimization Iteration:  74501, Training Accuracy:  99.0%\n",
      "Training time since the start : 0:02:53\n",
      "Optimization Iteration:  74601, Training Accuracy:  98.3%\n",
      "Training time since the start : 0:03:17\n",
      "Time usage: 0:03:42\n",
      "Accuracy on Test-Set: 92.4% (9240 / 10000)\n"
     ]
    },
    {
     "name": "stderr",
     "output_type": "stream",
     "text": [
      "100%|████████████████████████████████████████████████████████████████████████████████████████████████████████████████████████████████████████████████████████████████████████████████████████████| 100000/100000 [00:05<00:00, 18745.89it/s]\n"
     ]
    },
    {
     "name": "stdout",
     "output_type": "stream",
     "text": [
      "Load time is :0:02:14\n",
      "part 83 of data was trained\n",
      "Optimization Iteration:  74701, Training Accuracy:  98.3%\n",
      "Training time since the start : 0:00:00\n",
      "Optimization Iteration:  74801, Training Accuracy:  97.3%\n",
      "Training time since the start : 0:00:25\n",
      "Optimization Iteration:  74901, Training Accuracy:  97.8%\n",
      "Training time since the start : 0:00:50\n",
      "Optimization Iteration:  75001, Training Accuracy:  98.5%\n",
      "Training time since the start : 0:01:14\n",
      "Optimization Iteration:  75101, Training Accuracy:  99.0%\n",
      "Training time since the start : 0:01:39\n",
      "Optimization Iteration:  75201, Training Accuracy:  98.0%\n",
      "Training time since the start : 0:02:03\n",
      "Optimization Iteration:  75301, Training Accuracy:  98.3%\n",
      "Training time since the start : 0:02:28\n",
      "Optimization Iteration:  75401, Training Accuracy:  98.3%\n",
      "Training time since the start : 0:02:53\n",
      "Optimization Iteration:  75501, Training Accuracy:  97.3%\n",
      "Training time since the start : 0:03:17\n",
      "Time usage: 0:03:41\n",
      "Accuracy on Test-Set: 93.0% (9303 / 10000)\n"
     ]
    },
    {
     "name": "stderr",
     "output_type": "stream",
     "text": [
      "100%|████████████████████████████████████████████████████████████████████████████████████████████████████████████████████████████████████████████████████████████████████████████████████████████| 100000/100000 [00:05<00:00, 18630.73it/s]\n"
     ]
    },
    {
     "name": "stdout",
     "output_type": "stream",
     "text": [
      "Load time is :0:02:13\n",
      "part 84 of data was trained\n",
      "Optimization Iteration:  75601, Training Accuracy:  98.8%\n",
      "Training time since the start : 0:00:00\n",
      "Optimization Iteration:  75701, Training Accuracy:  98.8%\n",
      "Training time since the start : 0:00:25\n",
      "Optimization Iteration:  75801, Training Accuracy:  98.8%\n",
      "Training time since the start : 0:00:49\n",
      "Optimization Iteration:  75901, Training Accuracy:  98.8%\n",
      "Training time since the start : 0:01:14\n",
      "Optimization Iteration:  76001, Training Accuracy:  98.3%\n",
      "Training time since the start : 0:01:39\n",
      "Optimization Iteration:  76101, Training Accuracy:  98.3%\n",
      "Training time since the start : 0:02:03\n",
      "Optimization Iteration:  76201, Training Accuracy:  99.5%\n",
      "Training time since the start : 0:02:28\n",
      "Optimization Iteration:  76301, Training Accuracy:  99.3%\n",
      "Training time since the start : 0:02:52\n",
      "Optimization Iteration:  76401, Training Accuracy:  97.8%\n",
      "Training time since the start : 0:03:17\n",
      "Time usage: 0:03:41\n",
      "Accuracy on Test-Set: 93.4% (9337 / 10000)\n"
     ]
    },
    {
     "name": "stderr",
     "output_type": "stream",
     "text": [
      "100%|████████████████████████████████████████████████████████████████████████████████████████████████████████████████████████████████████████████████████████████████████████████████████████████| 100000/100000 [00:05<00:00, 18588.57it/s]\n"
     ]
    },
    {
     "name": "stdout",
     "output_type": "stream",
     "text": [
      "Load time is :0:02:13\n",
      "part 85 of data was trained\n",
      "Optimization Iteration:  76501, Training Accuracy:  99.0%\n",
      "Training time since the start : 0:00:00\n",
      "Optimization Iteration:  76601, Training Accuracy:  99.3%\n",
      "Training time since the start : 0:00:25\n",
      "Optimization Iteration:  76701, Training Accuracy:  98.5%\n",
      "Training time since the start : 0:00:50\n",
      "Optimization Iteration:  76801, Training Accuracy:  99.0%\n",
      "Training time since the start : 0:01:14\n",
      "Optimization Iteration:  76901, Training Accuracy:  98.3%\n",
      "Training time since the start : 0:01:39\n",
      "Optimization Iteration:  77001, Training Accuracy:  98.0%\n",
      "Training time since the start : 0:02:03\n",
      "Optimization Iteration:  77101, Training Accuracy:  97.8%\n",
      "Training time since the start : 0:02:28\n",
      "Optimization Iteration:  77201, Training Accuracy:  98.0%\n",
      "Training time since the start : 0:02:53\n",
      "Optimization Iteration:  77301, Training Accuracy:  97.8%\n",
      "Training time since the start : 0:03:17\n",
      "Time usage: 0:03:42\n",
      "Accuracy on Test-Set: 93.2% (9323 / 10000)\n"
     ]
    },
    {
     "name": "stderr",
     "output_type": "stream",
     "text": [
      "100%|████████████████████████████████████████████████████████████████████████████████████████████████████████████████████████████████████████████████████████████████████████████████████████████| 100000/100000 [00:05<00:00, 18652.83it/s]\n"
     ]
    },
    {
     "name": "stdout",
     "output_type": "stream",
     "text": [
      "Load time is :0:02:11\n",
      "part 86 of data was trained\n",
      "Optimization Iteration:  77401, Training Accuracy:  97.8%\n",
      "Training time since the start : 0:00:00\n",
      "Optimization Iteration:  77501, Training Accuracy:  99.0%\n",
      "Training time since the start : 0:00:25\n",
      "Optimization Iteration:  77601, Training Accuracy:  98.8%\n",
      "Training time since the start : 0:00:50\n",
      "Optimization Iteration:  77701, Training Accuracy:  96.7%\n",
      "Training time since the start : 0:01:14\n",
      "Optimization Iteration:  77801, Training Accuracy:  97.0%\n",
      "Training time since the start : 0:01:39\n",
      "Optimization Iteration:  77901, Training Accuracy:  99.5%\n",
      "Training time since the start : 0:02:04\n",
      "Optimization Iteration:  78001, Training Accuracy:  99.5%\n",
      "Training time since the start : 0:02:28\n",
      "Optimization Iteration:  78101, Training Accuracy:  97.8%\n",
      "Training time since the start : 0:02:53\n",
      "Optimization Iteration:  78201, Training Accuracy:  99.3%\n",
      "Training time since the start : 0:03:17\n",
      "Time usage: 0:03:42\n",
      "Accuracy on Test-Set: 93.5% (9347 / 10000)\n"
     ]
    },
    {
     "name": "stderr",
     "output_type": "stream",
     "text": [
      "100%|████████████████████████████████████████████████████████████████████████████████████████████████████████████████████████████████████████████████████████████████████████████████████████████| 100000/100000 [00:05<00:00, 18657.17it/s]\n"
     ]
    },
    {
     "name": "stdout",
     "output_type": "stream",
     "text": [
      "Load time is :0:02:10\n",
      "part 87 of data was trained\n",
      "Optimization Iteration:  78301, Training Accuracy:  97.5%\n",
      "Training time since the start : 0:00:00\n",
      "Optimization Iteration:  78401, Training Accuracy:  99.3%\n",
      "Training time since the start : 0:00:25\n",
      "Optimization Iteration:  78501, Training Accuracy:  98.8%\n",
      "Training time since the start : 0:00:49\n",
      "Optimization Iteration:  78601, Training Accuracy:  98.3%\n",
      "Training time since the start : 0:01:14\n",
      "Optimization Iteration:  78701, Training Accuracy:  97.0%\n",
      "Training time since the start : 0:01:39\n",
      "Optimization Iteration:  78801, Training Accuracy:  98.0%\n",
      "Training time since the start : 0:02:03\n",
      "Optimization Iteration:  78901, Training Accuracy:  98.3%\n",
      "Training time since the start : 0:02:28\n",
      "Optimization Iteration:  79001, Training Accuracy:  98.8%\n",
      "Training time since the start : 0:02:52\n",
      "Optimization Iteration:  79101, Training Accuracy:  98.0%\n",
      "Training time since the start : 0:03:17\n",
      "Time usage: 0:03:41\n",
      "Accuracy on Test-Set: 92.5% (9254 / 10000)\n"
     ]
    },
    {
     "name": "stderr",
     "output_type": "stream",
     "text": [
      "100%|████████████████████████████████████████████████████████████████████████████████████████████████████████████████████████████████████████████████████████████████████████████████████████████| 100000/100000 [00:05<00:00, 18587.24it/s]\n"
     ]
    },
    {
     "name": "stdout",
     "output_type": "stream",
     "text": [
      "Load time is :0:02:08\n",
      "part 88 of data was trained\n",
      "Optimization Iteration:  79201, Training Accuracy:  99.0%\n",
      "Training time since the start : 0:00:00\n",
      "Optimization Iteration:  79301, Training Accuracy:  99.5%\n",
      "Training time since the start : 0:00:25\n",
      "Optimization Iteration:  79401, Training Accuracy:  99.3%\n",
      "Training time since the start : 0:00:49\n",
      "Optimization Iteration:  79501, Training Accuracy:  99.5%\n",
      "Training time since the start : 0:01:14\n",
      "Optimization Iteration:  79601, Training Accuracy:  98.0%\n",
      "Training time since the start : 0:01:39\n",
      "Optimization Iteration:  79701, Training Accuracy:  98.8%\n",
      "Training time since the start : 0:02:03\n",
      "Optimization Iteration:  79801, Training Accuracy:  98.5%\n",
      "Training time since the start : 0:02:28\n",
      "Optimization Iteration:  79901, Training Accuracy:  99.5%\n",
      "Training time since the start : 0:02:52\n",
      "Optimization Iteration:  80001, Training Accuracy:  98.8%\n",
      "Training time since the start : 0:03:17\n",
      "Time usage: 0:03:41\n",
      "Accuracy on Test-Set: 93.4% (9336 / 10000)\n"
     ]
    },
    {
     "name": "stderr",
     "output_type": "stream",
     "text": [
      "100%|████████████████████████████████████████████████████████████████████████████████████████████████████████████████████████████████████████████████████████████████████████████████████████████| 100000/100000 [00:05<00:00, 18672.56it/s]\n"
     ]
    },
    {
     "name": "stdout",
     "output_type": "stream",
     "text": [
      "Load time is :0:02:13\n",
      "part 89 of data was trained\n",
      "Optimization Iteration:  80101, Training Accuracy:  97.8%\n",
      "Training time since the start : 0:00:00\n",
      "Optimization Iteration:  80201, Training Accuracy:  98.5%\n",
      "Training time since the start : 0:00:25\n",
      "Optimization Iteration:  80301, Training Accuracy:  98.3%\n",
      "Training time since the start : 0:00:50\n",
      "Optimization Iteration:  80401, Training Accuracy:  98.0%\n",
      "Training time since the start : 0:01:14\n",
      "Optimization Iteration:  80501, Training Accuracy:  98.0%\n",
      "Training time since the start : 0:01:39\n",
      "Optimization Iteration:  80601, Training Accuracy:  99.0%\n",
      "Training time since the start : 0:02:03\n",
      "Optimization Iteration:  80701, Training Accuracy:  99.3%\n",
      "Training time since the start : 0:02:28\n",
      "Optimization Iteration:  80801, Training Accuracy:  98.8%\n",
      "Training time since the start : 0:02:52\n",
      "Optimization Iteration:  80901, Training Accuracy:  98.8%\n",
      "Training time since the start : 0:03:17\n",
      "Time usage: 0:03:41\n",
      "Accuracy on Test-Set: 93.5% (9345 / 10000)\n",
      "EPOCH 10 has started\n"
     ]
    },
    {
     "name": "stderr",
     "output_type": "stream",
     "text": [
      "100%|████████████████████████████████████████████████████████████████████████████████████████████████████████████████████████████████████████████████████████████████████████████████████████████| 100000/100000 [00:05<00:00, 18636.55it/s]\n"
     ]
    },
    {
     "name": "stdout",
     "output_type": "stream",
     "text": [
      "Load time is :0:02:18\n",
      "part 90 of data was trained\n",
      "Optimization Iteration:  81001, Training Accuracy:  98.0%\n",
      "Training time since the start : 0:00:00\n",
      "Optimization Iteration:  81101, Training Accuracy:  98.0%\n",
      "Training time since the start : 0:00:25\n",
      "Optimization Iteration:  81201, Training Accuracy:  98.0%\n",
      "Training time since the start : 0:00:50\n",
      "Optimization Iteration:  81301, Training Accuracy:  97.8%\n",
      "Training time since the start : 0:01:14\n",
      "Optimization Iteration:  81401, Training Accuracy:  98.0%\n",
      "Training time since the start : 0:01:39\n",
      "Optimization Iteration:  81501, Training Accuracy:  98.3%\n",
      "Training time since the start : 0:02:03\n",
      "Optimization Iteration:  81601, Training Accuracy:  98.5%\n",
      "Training time since the start : 0:02:28\n",
      "Optimization Iteration:  81701, Training Accuracy:  99.0%\n",
      "Training time since the start : 0:02:53\n",
      "Optimization Iteration:  81801, Training Accuracy:  99.5%\n",
      "Training time since the start : 0:03:17\n",
      "Time usage: 0:03:42\n",
      "Accuracy on Test-Set: 93.6% (9364 / 10000)\n"
     ]
    },
    {
     "name": "stderr",
     "output_type": "stream",
     "text": [
      "100%|████████████████████████████████████████████████████████████████████████████████████████████████████████████████████████████████████████████████████████████████████████████████████████████| 100000/100000 [00:05<00:00, 18605.94it/s]\n"
     ]
    },
    {
     "name": "stdout",
     "output_type": "stream",
     "text": [
      "Load time is :0:02:29\n",
      "part 91 of data was trained\n",
      "Optimization Iteration:  81901, Training Accuracy:  98.8%\n",
      "Training time since the start : 0:00:00\n",
      "Optimization Iteration:  82001, Training Accuracy:  98.0%\n",
      "Training time since the start : 0:00:25\n",
      "Optimization Iteration:  82101, Training Accuracy:  99.3%\n",
      "Training time since the start : 0:00:49\n",
      "Optimization Iteration:  82201, Training Accuracy:  98.3%\n",
      "Training time since the start : 0:01:14\n",
      "Optimization Iteration:  82301, Training Accuracy:  98.5%\n",
      "Training time since the start : 0:01:38\n",
      "Optimization Iteration:  82401, Training Accuracy:  98.8%\n",
      "Training time since the start : 0:02:03\n",
      "Optimization Iteration:  82501, Training Accuracy:  97.8%\n",
      "Training time since the start : 0:02:27\n",
      "Optimization Iteration:  82601, Training Accuracy:  98.0%\n",
      "Training time since the start : 0:02:52\n",
      "Optimization Iteration:  82701, Training Accuracy:  98.8%\n",
      "Training time since the start : 0:03:17\n",
      "Time usage: 0:03:41\n",
      "Accuracy on Test-Set: 93.2% (9324 / 10000)\n"
     ]
    },
    {
     "name": "stderr",
     "output_type": "stream",
     "text": [
      "100%|████████████████████████████████████████████████████████████████████████████████████████████████████████████████████████████████████████████████████████████████████████████████████████████| 100000/100000 [00:05<00:00, 18619.40it/s]\n"
     ]
    },
    {
     "name": "stdout",
     "output_type": "stream",
     "text": [
      "Load time is :0:02:13\n",
      "part 92 of data was trained\n",
      "Optimization Iteration:  82801, Training Accuracy:  98.5%\n",
      "Training time since the start : 0:00:00\n",
      "Optimization Iteration:  82901, Training Accuracy:  99.0%\n",
      "Training time since the start : 0:00:25\n",
      "Optimization Iteration:  83001, Training Accuracy:  99.0%\n",
      "Training time since the start : 0:00:50\n",
      "Optimization Iteration:  83101, Training Accuracy:  98.5%\n",
      "Training time since the start : 0:01:14\n",
      "Optimization Iteration:  83201, Training Accuracy:  98.3%\n",
      "Training time since the start : 0:01:39\n",
      "Optimization Iteration:  83301, Training Accuracy:  98.8%\n",
      "Training time since the start : 0:02:04\n",
      "Optimization Iteration:  83401, Training Accuracy:  98.0%\n",
      "Training time since the start : 0:02:28\n",
      "Optimization Iteration:  83501, Training Accuracy:  99.3%\n",
      "Training time since the start : 0:02:53\n",
      "Optimization Iteration:  83601, Training Accuracy:  97.5%\n",
      "Training time since the start : 0:03:17\n",
      "Time usage: 0:03:42\n",
      "Accuracy on Test-Set: 93.3% (9331 / 10000)\n"
     ]
    },
    {
     "name": "stderr",
     "output_type": "stream",
     "text": [
      "100%|████████████████████████████████████████████████████████████████████████████████████████████████████████████████████████████████████████████████████████████████████████████████████████████| 100000/100000 [00:05<00:00, 18611.81it/s]\n"
     ]
    },
    {
     "name": "stdout",
     "output_type": "stream",
     "text": [
      "Load time is :0:02:14\n",
      "part 93 of data was trained\n",
      "Optimization Iteration:  83701, Training Accuracy:  98.8%\n",
      "Training time since the start : 0:00:00\n",
      "Optimization Iteration:  83801, Training Accuracy:  97.8%\n",
      "Training time since the start : 0:00:25\n",
      "Optimization Iteration:  83901, Training Accuracy:  98.0%\n",
      "Training time since the start : 0:00:50\n",
      "Optimization Iteration:  84001, Training Accuracy:  98.8%\n",
      "Training time since the start : 0:01:14\n",
      "Optimization Iteration:  84101, Training Accuracy:  96.5%\n",
      "Training time since the start : 0:01:39\n",
      "Optimization Iteration:  84201, Training Accuracy:  99.3%\n",
      "Training time since the start : 0:02:03\n",
      "Optimization Iteration:  84301, Training Accuracy:  98.8%\n",
      "Training time since the start : 0:02:28\n",
      "Optimization Iteration:  84401, Training Accuracy:  99.0%\n",
      "Training time since the start : 0:02:52\n",
      "Optimization Iteration:  84501, Training Accuracy:  98.0%\n",
      "Training time since the start : 0:03:17\n",
      "Time usage: 0:03:41\n",
      "Accuracy on Test-Set: 93.5% (9349 / 10000)\n"
     ]
    },
    {
     "name": "stderr",
     "output_type": "stream",
     "text": [
      "100%|████████████████████████████████████████████████████████████████████████████████████████████████████████████████████████████████████████████████████████████████████████████████████████████| 100000/100000 [00:05<00:00, 18650.02it/s]\n"
     ]
    },
    {
     "name": "stdout",
     "output_type": "stream",
     "text": [
      "Load time is :0:02:13\n",
      "part 94 of data was trained\n",
      "Optimization Iteration:  84601, Training Accuracy:  99.0%\n",
      "Training time since the start : 0:00:00\n",
      "Optimization Iteration:  84701, Training Accuracy:  98.0%\n",
      "Training time since the start : 0:00:25\n",
      "Optimization Iteration:  84801, Training Accuracy:  99.5%\n",
      "Training time since the start : 0:00:50\n",
      "Optimization Iteration:  84901, Training Accuracy:  97.8%\n",
      "Training time since the start : 0:01:14\n",
      "Optimization Iteration:  85001, Training Accuracy:  98.0%\n",
      "Training time since the start : 0:01:39\n",
      "Optimization Iteration:  85101, Training Accuracy:  98.5%\n",
      "Training time since the start : 0:02:04\n",
      "Optimization Iteration:  85201, Training Accuracy:  99.5%\n",
      "Training time since the start : 0:02:29\n",
      "Optimization Iteration:  85301, Training Accuracy:  98.5%\n",
      "Training time since the start : 0:02:54\n",
      "Optimization Iteration:  85401, Training Accuracy:  97.8%\n",
      "Training time since the start : 0:03:18\n",
      "Time usage: 0:03:43\n",
      "Accuracy on Test-Set: 93.9% (9389 / 10000)\n"
     ]
    },
    {
     "name": "stderr",
     "output_type": "stream",
     "text": [
      "100%|████████████████████████████████████████████████████████████████████████████████████████████████████████████████████████████████████████████████████████████████████████████████████████████| 100000/100000 [00:05<00:00, 18657.36it/s]\n"
     ]
    },
    {
     "name": "stdout",
     "output_type": "stream",
     "text": [
      "Load time is :0:02:13\n",
      "part 95 of data was trained\n",
      "Optimization Iteration:  85501, Training Accuracy:  99.5%\n",
      "Training time since the start : 0:00:00\n",
      "Optimization Iteration:  85601, Training Accuracy:  98.8%\n",
      "Training time since the start : 0:00:25\n",
      "Optimization Iteration:  85701, Training Accuracy:  97.8%\n",
      "Training time since the start : 0:00:50\n",
      "Optimization Iteration:  85801, Training Accuracy:  98.8%\n",
      "Training time since the start : 0:01:14\n",
      "Optimization Iteration:  85901, Training Accuracy:  98.8%\n",
      "Training time since the start : 0:01:39\n",
      "Optimization Iteration:  86001, Training Accuracy:  99.0%\n",
      "Training time since the start : 0:02:03\n",
      "Optimization Iteration:  86101, Training Accuracy:  98.8%\n",
      "Training time since the start : 0:02:28\n",
      "Optimization Iteration:  86201, Training Accuracy:  98.3%\n",
      "Training time since the start : 0:02:53\n",
      "Optimization Iteration:  86301, Training Accuracy:  98.0%\n",
      "Training time since the start : 0:03:17\n",
      "Time usage: 0:03:42\n",
      "Accuracy on Test-Set: 93.7% (9367 / 10000)\n"
     ]
    },
    {
     "name": "stderr",
     "output_type": "stream",
     "text": [
      "100%|████████████████████████████████████████████████████████████████████████████████████████████████████████████████████████████████████████████████████████████████████████████████████████████| 100000/100000 [00:05<00:00, 18684.66it/s]\n"
     ]
    },
    {
     "name": "stdout",
     "output_type": "stream",
     "text": [
      "Load time is :0:02:11\n",
      "part 96 of data was trained\n",
      "Optimization Iteration:  86401, Training Accuracy:  98.5%\n",
      "Training time since the start : 0:00:00\n",
      "Optimization Iteration:  86501, Training Accuracy:  98.5%\n",
      "Training time since the start : 0:00:25\n",
      "Optimization Iteration:  86601, Training Accuracy:  98.3%\n",
      "Training time since the start : 0:00:50\n",
      "Optimization Iteration:  86701, Training Accuracy:  98.8%\n",
      "Training time since the start : 0:01:14\n",
      "Optimization Iteration:  86801, Training Accuracy:  99.3%\n",
      "Training time since the start : 0:01:39\n",
      "Optimization Iteration:  86901, Training Accuracy:  97.8%\n",
      "Training time since the start : 0:02:04\n",
      "Optimization Iteration:  87001, Training Accuracy:  98.8%\n",
      "Training time since the start : 0:02:28\n",
      "Optimization Iteration:  87101, Training Accuracy:  98.3%\n",
      "Training time since the start : 0:02:53\n",
      "Optimization Iteration:  87201, Training Accuracy:  98.0%\n",
      "Training time since the start : 0:03:18\n",
      "Time usage: 0:03:42\n",
      "Accuracy on Test-Set: 93.6% (9361 / 10000)\n"
     ]
    },
    {
     "name": "stderr",
     "output_type": "stream",
     "text": [
      "100%|████████████████████████████████████████████████████████████████████████████████████████████████████████████████████████████████████████████████████████████████████████████████████████████| 100000/100000 [00:05<00:00, 18737.73it/s]\n"
     ]
    },
    {
     "name": "stdout",
     "output_type": "stream",
     "text": [
      "Load time is :0:02:10\n",
      "part 97 of data was trained\n",
      "Optimization Iteration:  87301, Training Accuracy:  99.0%\n",
      "Training time since the start : 0:00:00\n",
      "Optimization Iteration:  87401, Training Accuracy:  97.3%\n",
      "Training time since the start : 0:00:25\n",
      "Optimization Iteration:  87501, Training Accuracy:  99.3%\n",
      "Training time since the start : 0:00:50\n",
      "Optimization Iteration:  87601, Training Accuracy:  99.0%\n",
      "Training time since the start : 0:01:14\n",
      "Optimization Iteration:  87701, Training Accuracy:  97.5%\n",
      "Training time since the start : 0:01:39\n",
      "Optimization Iteration:  87801, Training Accuracy:  99.3%\n",
      "Training time since the start : 0:02:03\n",
      "Optimization Iteration:  87901, Training Accuracy:  98.5%\n",
      "Training time since the start : 0:02:28\n",
      "Optimization Iteration:  88001, Training Accuracy:  99.3%\n",
      "Training time since the start : 0:02:52\n",
      "Optimization Iteration:  88101, Training Accuracy:  99.0%\n",
      "Training time since the start : 0:03:17\n",
      "Time usage: 0:03:41\n",
      "Accuracy on Test-Set: 93.5% (9349 / 10000)\n"
     ]
    },
    {
     "name": "stderr",
     "output_type": "stream",
     "text": [
      "100%|████████████████████████████████████████████████████████████████████████████████████████████████████████████████████████████████████████████████████████████████████████████████████████████| 100000/100000 [00:05<00:00, 18611.44it/s]\n"
     ]
    },
    {
     "name": "stdout",
     "output_type": "stream",
     "text": [
      "Load time is :0:02:09\n",
      "part 98 of data was trained\n",
      "Optimization Iteration:  88201, Training Accuracy:  98.0%\n",
      "Training time since the start : 0:00:00\n",
      "Optimization Iteration:  88301, Training Accuracy:  98.3%\n",
      "Training time since the start : 0:00:25\n",
      "Optimization Iteration:  88401, Training Accuracy:  98.8%\n",
      "Training time since the start : 0:00:50\n",
      "Optimization Iteration:  88501, Training Accuracy:  97.8%\n",
      "Training time since the start : 0:01:14\n",
      "Optimization Iteration:  88601, Training Accuracy:  99.5%\n",
      "Training time since the start : 0:01:39\n",
      "Optimization Iteration:  88701, Training Accuracy:  98.8%\n",
      "Training time since the start : 0:02:03\n",
      "Optimization Iteration:  88801, Training Accuracy:  98.5%\n",
      "Training time since the start : 0:02:28\n",
      "Optimization Iteration:  88901, Training Accuracy:  99.3%\n",
      "Training time since the start : 0:02:53\n",
      "Optimization Iteration:  89001, Training Accuracy:  98.3%\n",
      "Training time since the start : 0:03:17\n",
      "Time usage: 0:03:42\n",
      "Accuracy on Test-Set: 93.5% (9354 / 10000)\n"
     ]
    },
    {
     "name": "stderr",
     "output_type": "stream",
     "text": [
      "100%|████████████████████████████████████████████████████████████████████████████████████████████████████████████████████████████████████████████████████████████████████████████████████████████| 100000/100000 [00:05<00:00, 18558.21it/s]\n"
     ]
    },
    {
     "name": "stdout",
     "output_type": "stream",
     "text": [
      "Load time is :0:02:12\n",
      "part 99 of data was trained\n",
      "Optimization Iteration:  89101, Training Accuracy:  97.8%\n",
      "Training time since the start : 0:00:00\n",
      "Optimization Iteration:  89201, Training Accuracy:  99.5%\n",
      "Training time since the start : 0:00:25\n",
      "Optimization Iteration:  89301, Training Accuracy:  97.0%\n",
      "Training time since the start : 0:00:50\n",
      "Optimization Iteration:  89401, Training Accuracy:  99.8%\n",
      "Training time since the start : 0:01:14\n",
      "Optimization Iteration:  89501, Training Accuracy:  98.3%\n",
      "Training time since the start : 0:01:39\n",
      "Optimization Iteration:  89601, Training Accuracy:  98.5%\n",
      "Training time since the start : 0:02:04\n",
      "Optimization Iteration:  89701, Training Accuracy:  98.0%\n",
      "Training time since the start : 0:02:28\n",
      "Optimization Iteration:  89801, Training Accuracy:  98.5%\n",
      "Training time since the start : 0:02:53\n",
      "Optimization Iteration:  89901, Training Accuracy:  98.0%\n",
      "Training time since the start : 0:03:17\n",
      "Time usage: 0:03:42\n",
      "Accuracy on Test-Set: 94.0% (9401 / 10000)\n"
     ]
    }
   ],
   "source": [
    "epochs = 10\n",
    "captchalist = sorted(glob.glob(r'D:\\Mher\\python_notebook\\def\\captchas\\*.jpg'), key = numericalSort)\n",
    "overall_labels = np.loadtxt(r'D:\\Mher\\python_notebook\\def\\captchas\\imglabels.txt',dtype = 'str')\n",
    "for j in range(epochs):\n",
    "    print('EPOCH '+str(j+1)+' has started')\n",
    "    part = 0\n",
    "    for i in range(10):\n",
    "        data_load = time.time()        \n",
    "        x_all_us = np.array([np.array(Image.open(c_name).convert('L')).flatten() for c_name in captchalist[part*100000:100000*(1+part)]])\n",
    "        labels_all_us = overall_labels[part*100000:100000*(1+part)]\n",
    "        c = list(zip(x_all_us, labels_all_us))\n",
    "        random.shuffle(c)\n",
    "        x_all, labels_all = zip(*c)    \n",
    "        train_size = int(len(x_all)*0.9)\n",
    "        splited_data = np.split(x_all,[train_size])\n",
    "        x_train = splited_data[0]\n",
    "        x_test = splited_data[1]\n",
    "\n",
    "        splited_labels = np.split(labels_all,[train_size])\n",
    "        y_train = splited_labels[0]\n",
    "        y_test = splited_labels[1]\n",
    "\n",
    "        one_hot_all = np.empty((len(labels_all),4,36),dtype = object)\n",
    "\n",
    "        for idx,array in enumerate(tqdm(labels_all)):\n",
    "\n",
    "            output = one_hot_36_keras(array)\n",
    "            one_hot_all[idx] = output\n",
    "            del output\n",
    "\n",
    "        splited_one_hot = np.split(one_hot_all,[train_size])\n",
    "        y_train_one_hot = splited_one_hot[0]\n",
    "        y_test_one_hot = splited_one_hot[1]\n",
    "        print('Load time is :'+str(timedelta(seconds=int(round(time.time()-data_load)))))\n",
    "\n",
    "        x_train_batches = np.array(np.array_split(x_train,int(len(x_train)/train_batch_size)))\n",
    "        y_train_batches = np.array(np.array_split(y_train_one_hot,int(len(y_train_one_hot)/train_batch_size)))\n",
    "        data_length = len(y_train_batches)    \n",
    "\n",
    "        optimize(num_iterations=900)\n",
    "        print_test_accuracy()\n",
    "        part+=1\n",
    "        #del captchalist,x_all,splited_data,x_train,x_test,labels_all,splited_labels,y_train,y_test\n",
    "        #del one_hot_all,splited_one_hot,y_train_one_hot,y_test_one_hot\n",
    "        #del x_train_batches,y_train_batches,data_length\n",
    "        "
   ]
  },
  {
   "cell_type": "code",
   "execution_count": 50,
   "metadata": {
    "collapsed": true
   },
   "outputs": [],
   "source": [
    "#tadam1 = misc.imread(r'screenshot_test.png',flatten = True)\n",
    "#plt.imshow(tadam1)\n",
    "#plt.show()\n"
   ]
  },
  {
   "cell_type": "code",
   "execution_count": 51,
   "metadata": {
    "collapsed": true
   },
   "outputs": [],
   "source": [
    "# testing on single image\n",
    "\n",
    "#feed_dict = {x: tadam1.flatten().reshape(1,2048),\n",
    "             #y_true: one_hot_36_keras('4S8F').reshape(1,4,36)}\n",
    "#output = session.run(y_pred_cls, feed_dict=feed_dict)\n",
    "#print(output)"
   ]
  },
  {
   "cell_type": "code",
   "execution_count": 52,
   "metadata": {
    "collapsed": true
   },
   "outputs": [],
   "source": [
    "#[alphabet[output[0][0]],alphabet[output[0][1]],alphabet[output[0][2]],alphabet[output[0][3]]]"
   ]
  },
  {
   "cell_type": "code",
   "execution_count": 53,
   "metadata": {
    "collapsed": true
   },
   "outputs": [],
   "source": [
    "saver = tf.train.Saver()\n",
    "saver.save(session,r'D:\\Mher\\python_notebook\\def\\captcha_model\\model_10epoch')\n",
    "session.close()"
   ]
  },
  {
   "cell_type": "code",
   "execution_count": 61,
   "metadata": {
    "collapsed": true
   },
   "outputs": [],
   "source": [
    "session = tf.Session()"
   ]
  },
  {
   "cell_type": "code",
   "execution_count": 80,
   "metadata": {
    "collapsed": false
   },
   "outputs": [
    {
     "name": "stderr",
     "output_type": "stream",
     "text": [
      "100%|████████████████████████████████████████████████████████████████████████████████████████████████████████████████████████████████████████████████████████████████████████████████████████████| 100000/100000 [00:06<00:00, 16506.38it/s]\n"
     ]
    },
    {
     "name": "stdout",
     "output_type": "stream",
     "text": [
      "Wall time: 41.2 s\n"
     ]
    }
   ],
   "source": [
    "%%time\n",
    "testlist = sorted(glob.glob(r'D:\\Mher\\python_notebook\\def\\captchas_test\\*.jpg'), key = numericalSort)\n",
    "test_labels = np.loadtxt(r'D:\\Mher\\python_notebook\\def\\captchas_test\\imglabels.txt',dtype = 'str')\n",
    "test_all = np.array([np.array(Image.open(c_name).convert('L')).flatten() for c_name in testlist])\n",
    "test_one_hot = np.empty((len(test_labels),4,36),dtype = object)\n",
    "\n",
    "for idx,array in enumerate(tqdm(test_labels)):\n",
    "\n",
    "    output = one_hot_36_keras(array)\n",
    "    test_one_hot[idx] = output\n",
    "    del output"
   ]
  },
  {
   "cell_type": "markdown",
   "metadata": {},
   "source": [
    "I have also generated 100,000 images which weren't involved in training proccess and tested accuracy on them."
   ]
  },
  {
   "cell_type": "code",
   "execution_count": 57,
   "metadata": {
    "collapsed": true
   },
   "outputs": [],
   "source": [
    "def print_true_test_accuracy():\n",
    "\n",
    "    num_test = len(test_all)\n",
    "    cls_pred = np.zeros(shape=(num_test,4), dtype=np.int)\n",
    "    i = 0\n",
    "\n",
    "    while i < num_test:\n",
    "        j = min(i + test_batch_size, num_test)\n",
    "        images = test_all[i:j, :]\n",
    "        labels = test_one_hot[i:j, :]\n",
    "        feed_dict = {x: images,\n",
    "                     y_true: labels}\n",
    "        cls_pred[i:j] = session.run(y_pred_cls, feed_dict=feed_dict)\n",
    "        i = j\n",
    "\n",
    "    cls_true = np.argmax(test_one_hot,axis = 2)\n",
    "    correct = np.all(np.equal(cls_true,cls_pred),axis = 1)\n",
    "    correct_sum = correct.sum()\n",
    "    acc = float(correct_sum) / num_test\n",
    "\n",
    "    msg = \"Accuracy on True-Test-Set: {0:.2%} ({1} / {2})\"\n",
    "    print(msg.format(acc, correct_sum, num_test))"
   ]
  },
  {
   "cell_type": "code",
   "execution_count": 72,
   "metadata": {
    "collapsed": false
   },
   "outputs": [
    {
     "name": "stdout",
     "output_type": "stream",
     "text": [
      "INFO:tensorflow:Restoring parameters from D:\\Mher\\python_notebook\\def\\captcha_model\\model_10epoch\n"
     ]
    }
   ],
   "source": [
    "new_saver = tf.train.import_meta_graph('D:\\Mher\\python_notebook\\def\\captcha_model\\model_10epoch.meta')\n",
    "new_saver.restore(session, 'D:\\Mher\\python_notebook\\def\\captcha_model\\model_10epoch')"
   ]
  },
  {
   "cell_type": "code",
   "execution_count": 81,
   "metadata": {
    "collapsed": false
   },
   "outputs": [
    {
     "name": "stdout",
     "output_type": "stream",
     "text": [
      "Accuracy on True-Test-Set: 92.40% (92399 / 100000)\n",
      "Wall time: 1min 32s\n"
     ]
    }
   ],
   "source": [
    "%%time\n",
    "print_true_test_accuracy()"
   ]
  },
  {
   "cell_type": "code",
   "execution_count": 77,
   "metadata": {
    "collapsed": false
   },
   "outputs": [
    {
     "name": "stdout",
     "output_type": "stream",
     "text": [
      "Accuracy on Test-Set: 94.0% (9401 / 10000)\n"
     ]
    }
   ],
   "source": [
    "print_test_accuracy()"
   ]
  },
  {
   "cell_type": "markdown",
   "metadata": {},
   "source": [
    "Here are some images with predicted and true labels."
   ]
  },
  {
   "cell_type": "code",
   "execution_count": 103,
   "metadata": {
    "collapsed": false,
    "scrolled": false
   },
   "outputs": [
    {
     "name": "stderr",
     "output_type": "stream",
     "text": [
      "100%|███████████████████████████████████████████████████████████████████████████████████████████████████████████████████████████████████████████████████████████████████████████████████████████████████████| 5/5 [00:00<00:00, 9967.45it/s]\n",
      "D:\\Mher\\PYTHON\\ANACONDA\\lib\\site-packages\\ipykernel\\__main__.py:13: DeprecationWarning: `imread` is deprecated!\n",
      "`imread` is deprecated in SciPy 1.0.0, and will be removed in 1.2.0.\n",
      "Use ``imageio.imread`` instead.\n"
     ]
    },
    {
     "data": {
      "image/png": "[encoded data removed]",
      "text/plain": [
       "<matplotlib.figure.Figure at 0x21403e2f390>"
      ]
     },
     "metadata": {},
     "output_type": "display_data"
    },
    {
     "name": "stdout",
     "output_type": "stream",
     "text": [
      "Pred: 4JNB  True:  4JNB\n"
     ]
    },
    {
     "data": {
      "image/png": "[encoded data removed]",
      "text/plain": [
       "<matplotlib.figure.Figure at 0x21305ba59e8>"
      ]
     },
     "metadata": {},
     "output_type": "display_data"
    },
    {
     "name": "stdout",
     "output_type": "stream",
     "text": [
      "Pred: Z0LE  True:  Z0LE\n"
     ]
    },
    {
     "data": {
      "image/png": "[encoded data removed]",
      "text/plain": [
       "<matplotlib.figure.Figure at 0x21305b59a20>"
      ]
     },
     "metadata": {},
     "output_type": "display_data"
    },
    {
     "name": "stdout",
     "output_type": "stream",
     "text": [
      "Pred: B03F  True:  B03F\n"
     ]
    },
    {
     "data": {
      "image/png": "[encoded data removed]",
      "text/plain": [
       "<matplotlib.figure.Figure at 0x21305b1c3c8>"
      ]
     },
     "metadata": {},
     "output_type": "display_data"
    },
    {
     "name": "stdout",
     "output_type": "stream",
     "text": [
      "Pred: 7KUB  True:  7KUB\n"
     ]
    },
    {
     "data": {
      "image/png": "[encoded data removed]",
      "text/plain": [
       "<matplotlib.figure.Figure at 0x21305e81160>"
      ]
     },
     "metadata": {},
     "output_type": "display_data"
    },
    {
     "name": "stdout",
     "output_type": "stream",
     "text": [
      "Pred: 2UPR  True:  2UPR\n"
     ]
    }
   ],
   "source": [
    "test_image = 400\n",
    "test_example_one_hot = np.empty((len(test_labels[test_image:test_image+5]),4,36),dtype = object)\n",
    "for idx,array in enumerate(tqdm(test_labels[test_image:test_image+5])):\n",
    "    output = one_hot_36_keras(array)\n",
    "    test_example_one_hot[idx] = output\n",
    "    del output\n",
    "my_dict = {x: test_all[test_image:test_image+5],\n",
    "          y_true: test_example_one_hot\n",
    "         }\n",
    "test_pred = session.run(y_pred_cls,feed_dict = my_dict)\n",
    "\n",
    "for i in range(5):\n",
    "    testing = misc.imread(testlist[test_image+i])\n",
    "    plt.imshow(testing)\n",
    "    plt.show()\n",
    "    p = test_pred[i]\n",
    "    prediction = [alphabet[p[0]],alphabet[p[1]],alphabet[p[2]],alphabet[p[3]]]\n",
    "    print('Pred: '+''.join(prediction),' True: ',test_labels[test_image+i])"
   ]
  },
  {
   "cell_type": "markdown",
   "metadata": {},
   "source": [
    "Some parts of code were from https://github.com/Hvass-Labs/TensorFlow-Tutorials. It's a great resource for learning Tensorflow. "
   ]
  }
 ],
 "metadata": {
  "kernelspec": {
   "display_name": "Python 3",
   "language": "python",
   "name": "python3"
  },
  "language_info": {
   "codemirror_mode": {
    "name": "ipython",
    "version": 3
   },
   "file_extension": ".py",
   "mimetype": "text/x-python",
   "name": "python",
   "nbconvert_exporter": "python",
   "pygments_lexer": "ipython3",
   "version": "3.6.0"
  }
 },
 "nbformat": 4,
 "nbformat_minor": 2
}
