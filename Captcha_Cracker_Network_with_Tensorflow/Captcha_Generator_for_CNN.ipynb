{
 "cells": [
  {
   "cell_type": "markdown",
   "metadata": {},
   "source": [
    "# Generating CAPTCHAS with Python"
   ]
  },
  {
   "cell_type": "markdown",
   "metadata": {},
   "source": [
    "The purpose of this notebook is to generate bunch of captchas to train a neural network on it."
   ]
  },
  {
   "cell_type": "markdown",
   "metadata": {},
   "source": [
    "I created a seperate python environment as I couldn't find how to work with captcha library in anaconda. Also, it's more convinient to work in seperate environments because I needed to downgrade PIL library."
   ]
  },
  {
   "cell_type": "code",
   "execution_count": 1,
   "metadata": {
    "collapsed": true,
    "scrolled": true
   },
   "outputs": [],
   "source": [
    "from captcha.image import ImageCaptcha   # for generating captchas\n",
    "import matplotlib.pyplot as plt   # for plotting images and saving\n",
    "import string   # for easy access on all characters\n",
    "import random   # for randomizing characters\n",
    "import numpy as np   # for converting image into an array\n",
    "from PIL import Image   # for image objects\n",
    "from tqdm import tqdm   # for visualising progress bar"
   ]
  },
  {
   "cell_type": "markdown",
   "metadata": {},
   "source": [
    "Resizing images is needed because characters are the same size regardless the size of the image. So I generate image with a good proportion of character size and iamge size , then resize the image."
   ]
  },
  {
   "cell_type": "code",
   "execution_count": 2,
   "metadata": {
    "collapsed": true
   },
   "outputs": [],
   "source": [
    "# list of all digits and English uppercase letters\n",
    "characters = string.digits + string.ascii_uppercase "
   ]
  },
  {
   "cell_type": "code",
   "execution_count": 3,
   "metadata": {
    "collapsed": true
   },
   "outputs": [],
   "source": [
    "# captcha generating function. Returns image and characters of the image.\n",
    "\n",
    "def generate(width,height,num_char):\n",
    "    # width and height are just the dimesnions of the image\n",
    "    # num_char is the number of random characters in image\n",
    "       \n",
    "    # joins together random characters\n",
    "    rand_str = ''.join(random.sample(characters,num_char))\n",
    "    \n",
    "    # generates the captcha using captcha library\n",
    "    generator = ImageCaptcha(width=width, height=height)\n",
    "    image = generator.generate_image(rand_str)\n",
    "    \n",
    "    return (image,rand_str)"
   ]
  },
  {
   "cell_type": "markdown",
   "metadata": {},
   "source": [
    "Here is an example of a random captcha."
   ]
  },
  {
   "cell_type": "code",
   "execution_count": 4,
   "metadata": {
    "collapsed": false
   },
   "outputs": [
    {
     "data": {
      "image/png": "[encoded data removed]",
      "text/plain": [
       "<matplotlib.figure.Figure at 0x1b19aeb4048>"
      ]
     },
     "metadata": {},
     "output_type": "display_data"
    },
    {
     "name": "stdout",
     "output_type": "stream",
     "text": [
      "E1W4\n"
     ]
    }
   ],
   "source": [
    "img, char = generate(128,64,4)\n",
    "plt.imshow(img)\n",
    "plt.show()\n",
    "print(char)"
   ]
  },
  {
   "cell_type": "markdown",
   "metadata": {},
   "source": [
    "Here is the code to generate the desired number of images and save them into a folder with a text documents which contains the corrseponding characters of images. For the neural network I chose to generate images of width 128 and height 64 then resize them to 64, 32 correspondingly. 64 ,32 image is quite a normal size though on my computer it took abut 15 hours to train a network with about 95% accuracy. "
   ]
  },
  {
   "cell_type": "code",
   "execution_count": 5,
   "metadata": {
    "collapsed": false
   },
   "outputs": [
    {
     "name": "stderr",
     "output_type": "stream",
     "text": [
      "100%|██████████████████████████████████████████████████████████████████████████████████████████████████████████████████████████████████████████████████████████████████████████████████████████████████████| 4/4 [00:00<00:00, 181.66it/s]\n"
     ]
    }
   ],
   "source": [
    "# change save_dir to a desired directory\n",
    "save_dir = r'D:\\test\\img'\n",
    "\n",
    "# number of images to generate\n",
    "num_images = 4   \n",
    "\n",
    "# list of labels for the images\n",
    "labels = []\n",
    "for i in tqdm(range(num_images)):\n",
    "    img, char = generate(128,64,4)   # generate image and corresponding label\n",
    "    img_resized = img.resize((64,32),Image.ANTIALIAS)   # Image.ANTIALIAS is a high-quality downsampling filter\n",
    "    plt.imsave(save_dir+str(i)+\".jpg\",np.array(img_resized))   # saves the image as a .jpg file\n",
    "    labels.append(char)\n",
    "    \n",
    "# save labels on a txt file\n",
    "with open(save_dir + 'labels.txt','w') as f:\n",
    "    for lb in labels:\n",
    "        f.write('%s\\n' % lb)"
   ]
  },
  {
   "cell_type": "markdown",
   "metadata": {},
   "source": [
    "For the neural network I generated 1,000,000 captchas for training and 100,000 for testing and saved them in diferent folders to not mix them up."
   ]
  },
  {
   "cell_type": "markdown",
   "metadata": {},
   "source": [
    "Most part of captcha generation code was taken from this post https://mathematica.stackexchange.com/questions/143691/crack-captcha-using-deep-learning on StackExchange. It is a great post to get more info on captcha cracking neural networks.\n"
   ]
  }
 ],
 "metadata": {
  "kernelspec": {
   "display_name": "Python 3",
   "language": "python",
   "name": "python3"
  },
  "language_info": {
   "codemirror_mode": {
    "name": "ipython",
    "version": 3
   },
   "file_extension": ".py",
   "mimetype": "text/x-python",
   "name": "python",
   "nbconvert_exporter": "python",
   "pygments_lexer": "ipython3",
   "version": "3.6.0"
  }
 },
 "nbformat": 4,
 "nbformat_minor": 2
}
